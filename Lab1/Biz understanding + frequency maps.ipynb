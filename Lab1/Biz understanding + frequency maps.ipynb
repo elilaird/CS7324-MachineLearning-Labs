{
 "cells": [
  {
   "cell_type": "markdown",
   "metadata": {},
   "source": [
    "# Lab 1: Exploring Table Data\n",
    "##### By. Liam Lowsley-Williams, Eli Laird, Fernando Vazquez"
   ]
  },
  {
   "cell_type": "markdown",
   "metadata": {},
   "source": [
    "## 1. Business Understanding\n",
    "\n",
    "The election season is around the corner and once again the democrats and republicans will go head to head for a spot in oval office. Having some insight on the election and its potential results is definitely a useful statistic to candidates as well as political parties. This is because it allows them to identify where candidates may need to increase their influence in order to swing the polls in their favor.\n",
    "\n",
    "The 2012 and 2016 Presidential Election data has multiple csv files entailing different information about the elections however the csv we are interested in, the voting data, has 3,112 instances accross 80 features. The csv has catagorical and numerical features as well and we downloaded the dataset from kaggle.com.\n",
    "\n",
    "Through visualization we hope to assist political parties in understanding the predicitve data mentioned above. This data can help guide candidates in election strategies moving forward with the 2020 presidential election.\n",
    "\n",
    "========================================================================\n",
    "\n",
    "Dataset: \n",
    "- 2012 and 2016 Presidential Elections\n",
    "- https://www.kaggle.com/joelwilson/2012-2016-presidential-elections\n",
    "\n",
    "Question Of Interest:\n",
    "- Predicting the election result of a state given county voting data."
   ]
  },
  {
   "cell_type": "code",
   "execution_count": 81,
   "metadata": {},
   "outputs": [],
   "source": [
    "import pandas as pd\n",
    "import numpy as np\n",
    "pd.set_option('display.max_columns', None)"
   ]
  },
  {
   "cell_type": "code",
   "execution_count": 82,
   "metadata": {},
   "outputs": [],
   "source": [
    "#read in data\n",
    "county_facts = pd.read_csv(\"./2012-and-2016-presidential-elections/county_facts.csv\")\n",
    "county_facts_dict = pd.read_csv(\"./2012-and-2016-presidential-elections/county_facts_dictionary.csv\")\n",
    "results = pd.read_csv(\"./2012-and-2016-presidential-elections/US_County_Level_Presidential_Results_12-16.csv\")\n",
    "votes = pd.read_csv(\"./2012-and-2016-presidential-elections/votes.csv\")\n"
   ]
  },
  {
   "cell_type": "code",
   "execution_count": 83,
   "metadata": {},
   "outputs": [
    {
     "data": {
      "text/plain": [
       "<matplotlib.axes._subplots.AxesSubplot at 0x1a25f0d390>"
      ]
     },
     "execution_count": 83,
     "metadata": {},
     "output_type": "execute_result"
    },
    {
     "data": {
      "image/png": "[encoded data removed]",
      "text/plain": [
       "<Figure size 1800x720 with 2 Axes>"
      ]
     },
     "metadata": {
      "needs_background": "light"
     },
     "output_type": "display_data"
    }
   ],
   "source": [
    "import matplotlib\n",
    "import matplotlib.pyplot as plt\n",
    "import warnings\n",
    "warnings.simplefilter('ignore', DeprecationWarning)\n",
    "%matplotlib inline \n",
    "\n",
    "import missingno as mn\n",
    "\n",
    "mn.matrix(votes.sort_values(by=[\"state_abbr\", \"county_name\"]))"
   ]
  },
  {
   "cell_type": "code",
   "execution_count": 89,
   "metadata": {},
   "outputs": [
    {
     "data": {
      "text/html": [
       "<div>\n",
       "<style scoped>\n",
       "    .dataframe tbody tr th:only-of-type {\n",
       "        vertical-align: middle;\n",
       "    }\n",
       "\n",
       "    .dataframe tbody tr th {\n",
       "        vertical-align: top;\n",
       "    }\n",
       "\n",
       "    .dataframe thead th {\n",
       "        text-align: right;\n",
       "    }\n",
       "</style>\n",
       "<table border=\"1\" class=\"dataframe\">\n",
       "  <thead>\n",
       "    <tr style=\"text-align: right;\">\n",
       "      <th></th>\n",
       "      <th>votes_dem_2016</th>\n",
       "      <th>votes_gop_2016</th>\n",
       "      <th>total_votes_2016</th>\n",
       "      <th>population2014</th>\n",
       "      <th>AGE295214</th>\n",
       "    </tr>\n",
       "    <tr>\n",
       "      <th>state_abbr</th>\n",
       "      <th></th>\n",
       "      <th></th>\n",
       "      <th></th>\n",
       "      <th></th>\n",
       "      <th></th>\n",
       "    </tr>\n",
       "  </thead>\n",
       "  <tbody>\n",
       "    <tr>\n",
       "      <td>AL</td>\n",
       "      <td>718084</td>\n",
       "      <td>1306925</td>\n",
       "      <td>2078165</td>\n",
       "      <td>4849377</td>\n",
       "      <td>1499.4</td>\n",
       "    </tr>\n",
       "    <tr>\n",
       "      <td>AR</td>\n",
       "      <td>378729</td>\n",
       "      <td>677904</td>\n",
       "      <td>1108615</td>\n",
       "      <td>2966369</td>\n",
       "      <td>1702.7</td>\n",
       "    </tr>\n",
       "    <tr>\n",
       "      <td>AZ</td>\n",
       "      <td>936250</td>\n",
       "      <td>1021154</td>\n",
       "      <td>2062810</td>\n",
       "      <td>6731484</td>\n",
       "      <td>357.7</td>\n",
       "    </tr>\n",
       "    <tr>\n",
       "      <td>CA</td>\n",
       "      <td>7230699</td>\n",
       "      <td>3841134</td>\n",
       "      <td>11733523</td>\n",
       "      <td>38802500</td>\n",
       "      <td>1306.0</td>\n",
       "    </tr>\n",
       "    <tr>\n",
       "      <td>CO</td>\n",
       "      <td>1212209</td>\n",
       "      <td>1137455</td>\n",
       "      <td>2564185</td>\n",
       "      <td>5355866</td>\n",
       "      <td>1335.8</td>\n",
       "    </tr>\n",
       "    <tr>\n",
       "      <td>CT</td>\n",
       "      <td>884432</td>\n",
       "      <td>668266</td>\n",
       "      <td>1623542</td>\n",
       "      <td>3596677</td>\n",
       "      <td>164.7</td>\n",
       "    </tr>\n",
       "    <tr>\n",
       "      <td>DC</td>\n",
       "      <td>260223</td>\n",
       "      <td>11553</td>\n",
       "      <td>280272</td>\n",
       "      <td>658893</td>\n",
       "      <td>17.5</td>\n",
       "    </tr>\n",
       "    <tr>\n",
       "      <td>DE</td>\n",
       "      <td>235581</td>\n",
       "      <td>185103</td>\n",
       "      <td>441535</td>\n",
       "      <td>935614</td>\n",
       "      <td>65.3</td>\n",
       "    </tr>\n",
       "    <tr>\n",
       "      <td>FL</td>\n",
       "      <td>4485745</td>\n",
       "      <td>4605515</td>\n",
       "      <td>9386750</td>\n",
       "      <td>19893297</td>\n",
       "      <td>1329.2</td>\n",
       "    </tr>\n",
       "    <tr>\n",
       "      <td>GA</td>\n",
       "      <td>1837300</td>\n",
       "      <td>2068623</td>\n",
       "      <td>4029564</td>\n",
       "      <td>10097343</td>\n",
       "      <td>3700.0</td>\n",
       "    </tr>\n",
       "    <tr>\n",
       "      <td>HI</td>\n",
       "      <td>266827</td>\n",
       "      <td>128815</td>\n",
       "      <td>428825</td>\n",
       "      <td>1419472</td>\n",
       "      <td>88.1</td>\n",
       "    </tr>\n",
       "    <tr>\n",
       "      <td>IA</td>\n",
       "      <td>650790</td>\n",
       "      <td>798923</td>\n",
       "      <td>1542880</td>\n",
       "      <td>3107126</td>\n",
       "      <td>2275.1</td>\n",
       "    </tr>\n",
       "    <tr>\n",
       "      <td>ID</td>\n",
       "      <td>189677</td>\n",
       "      <td>407199</td>\n",
       "      <td>688235</td>\n",
       "      <td>1634464</td>\n",
       "      <td>1116.3</td>\n",
       "    </tr>\n",
       "    <tr>\n",
       "      <td>IL</td>\n",
       "      <td>2977498</td>\n",
       "      <td>2118179</td>\n",
       "      <td>5374280</td>\n",
       "      <td>12880580</td>\n",
       "      <td>2224.0</td>\n",
       "    </tr>\n",
       "    <tr>\n",
       "      <td>IN</td>\n",
       "      <td>1031953</td>\n",
       "      <td>1556220</td>\n",
       "      <td>2722029</td>\n",
       "      <td>6596855</td>\n",
       "      <td>2150.9</td>\n",
       "    </tr>\n",
       "    <tr>\n",
       "      <td>KS</td>\n",
       "      <td>414788</td>\n",
       "      <td>656009</td>\n",
       "      <td>1147143</td>\n",
       "      <td>2904021</td>\n",
       "      <td>2501.9</td>\n",
       "    </tr>\n",
       "    <tr>\n",
       "      <td>KY</td>\n",
       "      <td>628834</td>\n",
       "      <td>1202942</td>\n",
       "      <td>1922218</td>\n",
       "      <td>4413457</td>\n",
       "      <td>2717.8</td>\n",
       "    </tr>\n",
       "    <tr>\n",
       "      <td>LA</td>\n",
       "      <td>779535</td>\n",
       "      <td>1178004</td>\n",
       "      <td>2027731</td>\n",
       "      <td>4649676</td>\n",
       "      <td>1534.9</td>\n",
       "    </tr>\n",
       "    <tr>\n",
       "      <td>MA</td>\n",
       "      <td>1964768</td>\n",
       "      <td>1083069</td>\n",
       "      <td>3231531</td>\n",
       "      <td>6745408</td>\n",
       "      <td>276.4</td>\n",
       "    </tr>\n",
       "    <tr>\n",
       "      <td>MD</td>\n",
       "      <td>1497951</td>\n",
       "      <td>873646</td>\n",
       "      <td>2474543</td>\n",
       "      <td>5976407</td>\n",
       "      <td>522.7</td>\n",
       "    </tr>\n",
       "    <tr>\n",
       "      <td>ME</td>\n",
       "      <td>354873</td>\n",
       "      <td>334838</td>\n",
       "      <td>741550</td>\n",
       "      <td>1330089</td>\n",
       "      <td>306.1</td>\n",
       "    </tr>\n",
       "    <tr>\n",
       "      <td>MI</td>\n",
       "      <td>2268193</td>\n",
       "      <td>2279805</td>\n",
       "      <td>4790917</td>\n",
       "      <td>9909877</td>\n",
       "      <td>1696.3</td>\n",
       "    </tr>\n",
       "    <tr>\n",
       "      <td>MN</td>\n",
       "      <td>1366676</td>\n",
       "      <td>1322891</td>\n",
       "      <td>2916404</td>\n",
       "      <td>5457173</td>\n",
       "      <td>2004.2</td>\n",
       "    </tr>\n",
       "    <tr>\n",
       "      <td>MO</td>\n",
       "      <td>1054889</td>\n",
       "      <td>1585753</td>\n",
       "      <td>2775098</td>\n",
       "      <td>6063589</td>\n",
       "      <td>2622.3</td>\n",
       "    </tr>\n",
       "    <tr>\n",
       "      <td>MS</td>\n",
       "      <td>462001</td>\n",
       "      <td>678457</td>\n",
       "      <td>1162987</td>\n",
       "      <td>2994079</td>\n",
       "      <td>1966.5</td>\n",
       "    </tr>\n",
       "    <tr>\n",
       "      <td>MT</td>\n",
       "      <td>174521</td>\n",
       "      <td>274120</td>\n",
       "      <td>483574</td>\n",
       "      <td>1023579</td>\n",
       "      <td>1210.3</td>\n",
       "    </tr>\n",
       "    <tr>\n",
       "      <td>NC</td>\n",
       "      <td>2162074</td>\n",
       "      <td>2339603</td>\n",
       "      <td>4629471</td>\n",
       "      <td>9943964</td>\n",
       "      <td>2146.5</td>\n",
       "    </tr>\n",
       "    <tr>\n",
       "      <td>ND</td>\n",
       "      <td>93526</td>\n",
       "      <td>216133</td>\n",
       "      <td>336968</td>\n",
       "      <td>739482</td>\n",
       "      <td>1192.1</td>\n",
       "    </tr>\n",
       "    <tr>\n",
       "      <td>NE</td>\n",
       "      <td>273858</td>\n",
       "      <td>485819</td>\n",
       "      <td>805638</td>\n",
       "      <td>1881503</td>\n",
       "      <td>2147.2</td>\n",
       "    </tr>\n",
       "    <tr>\n",
       "      <td>NH</td>\n",
       "      <td>348521</td>\n",
       "      <td>345789</td>\n",
       "      <td>731553</td>\n",
       "      <td>1326813</td>\n",
       "      <td>191.2</td>\n",
       "    </tr>\n",
       "    <tr>\n",
       "      <td>NJ</td>\n",
       "      <td>2021756</td>\n",
       "      <td>1535513</td>\n",
       "      <td>3674893</td>\n",
       "      <td>8938175</td>\n",
       "      <td>467.5</td>\n",
       "    </tr>\n",
       "    <tr>\n",
       "      <td>NM</td>\n",
       "      <td>380724</td>\n",
       "      <td>315875</td>\n",
       "      <td>783127</td>\n",
       "      <td>2085572</td>\n",
       "      <td>744.6</td>\n",
       "    </tr>\n",
       "    <tr>\n",
       "      <td>NV</td>\n",
       "      <td>537753</td>\n",
       "      <td>511319</td>\n",
       "      <td>1122990</td>\n",
       "      <td>2839099</td>\n",
       "      <td>365.1</td>\n",
       "    </tr>\n",
       "    <tr>\n",
       "      <td>NY</td>\n",
       "      <td>4143874</td>\n",
       "      <td>2640570</td>\n",
       "      <td>7046175</td>\n",
       "      <td>19746227</td>\n",
       "      <td>1282.6</td>\n",
       "    </tr>\n",
       "    <tr>\n",
       "      <td>OH</td>\n",
       "      <td>2317001</td>\n",
       "      <td>2771984</td>\n",
       "      <td>5325395</td>\n",
       "      <td>11594163</td>\n",
       "      <td>2015.3</td>\n",
       "    </tr>\n",
       "    <tr>\n",
       "      <td>OK</td>\n",
       "      <td>419788</td>\n",
       "      <td>947934</td>\n",
       "      <td>1451056</td>\n",
       "      <td>3878051</td>\n",
       "      <td>1856.7</td>\n",
       "    </tr>\n",
       "    <tr>\n",
       "      <td>OR</td>\n",
       "      <td>934631</td>\n",
       "      <td>742506</td>\n",
       "      <td>1808575</td>\n",
       "      <td>3970239</td>\n",
       "      <td>752.8</td>\n",
       "    </tr>\n",
       "    <tr>\n",
       "      <td>PA</td>\n",
       "      <td>2844705</td>\n",
       "      <td>2912941</td>\n",
       "      <td>5970107</td>\n",
       "      <td>12787209</td>\n",
       "      <td>1350.5</td>\n",
       "    </tr>\n",
       "    <tr>\n",
       "      <td>RI</td>\n",
       "      <td>249902</td>\n",
       "      <td>179421</td>\n",
       "      <td>450121</td>\n",
       "      <td>1055173</td>\n",
       "      <td>96.6</td>\n",
       "    </tr>\n",
       "    <tr>\n",
       "      <td>SC</td>\n",
       "      <td>849469</td>\n",
       "      <td>1143611</td>\n",
       "      <td>2084444</td>\n",
       "      <td>4832482</td>\n",
       "      <td>1012.6</td>\n",
       "    </tr>\n",
       "    <tr>\n",
       "      <td>SD</td>\n",
       "      <td>117442</td>\n",
       "      <td>227701</td>\n",
       "      <td>370047</td>\n",
       "      <td>853175</td>\n",
       "      <td>1646.0</td>\n",
       "    </tr>\n",
       "    <tr>\n",
       "      <td>TN</td>\n",
       "      <td>867110</td>\n",
       "      <td>1517402</td>\n",
       "      <td>2484691</td>\n",
       "      <td>6549352</td>\n",
       "      <td>2072.9</td>\n",
       "    </tr>\n",
       "    <tr>\n",
       "      <td>TX</td>\n",
       "      <td>3867816</td>\n",
       "      <td>4681590</td>\n",
       "      <td>8903237</td>\n",
       "      <td>26956958</td>\n",
       "      <td>6179.0</td>\n",
       "    </tr>\n",
       "    <tr>\n",
       "      <td>UT</td>\n",
       "      <td>274188</td>\n",
       "      <td>452086</td>\n",
       "      <td>984957</td>\n",
       "      <td>2942902</td>\n",
       "      <td>867.3</td>\n",
       "    </tr>\n",
       "    <tr>\n",
       "      <td>VA</td>\n",
       "      <td>1916845</td>\n",
       "      <td>1731156</td>\n",
       "      <td>3844787</td>\n",
       "      <td>8326289</td>\n",
       "      <td>2734.3</td>\n",
       "    </tr>\n",
       "    <tr>\n",
       "      <td>VT</td>\n",
       "      <td>178179</td>\n",
       "      <td>95053</td>\n",
       "      <td>291413</td>\n",
       "      <td>626562</td>\n",
       "      <td>272.9</td>\n",
       "    </tr>\n",
       "    <tr>\n",
       "      <td>WA</td>\n",
       "      <td>1610524</td>\n",
       "      <td>1129120</td>\n",
       "      <td>2957942</td>\n",
       "      <td>7061530</td>\n",
       "      <td>853.1</td>\n",
       "    </tr>\n",
       "    <tr>\n",
       "      <td>WI</td>\n",
       "      <td>1382210</td>\n",
       "      <td>1409467</td>\n",
       "      <td>2944620</td>\n",
       "      <td>5757564</td>\n",
       "      <td>1558.9</td>\n",
       "    </tr>\n",
       "    <tr>\n",
       "      <td>WV</td>\n",
       "      <td>187457</td>\n",
       "      <td>486198</td>\n",
       "      <td>708226</td>\n",
       "      <td>1850326</td>\n",
       "      <td>1110.0</td>\n",
       "    </tr>\n",
       "    <tr>\n",
       "      <td>WY</td>\n",
       "      <td>55949</td>\n",
       "      <td>174248</td>\n",
       "      <td>248742</td>\n",
       "      <td>584153</td>\n",
       "      <td>529.2</td>\n",
       "    </tr>\n",
       "  </tbody>\n",
       "</table>\n",
       "</div>"
      ],
      "text/plain": [
       "            votes_dem_2016  votes_gop_2016  total_votes_2016  population2014  \\\n",
       "state_abbr                                                                     \n",
       "AL                  718084         1306925           2078165         4849377   \n",
       "AR                  378729          677904           1108615         2966369   \n",
       "AZ                  936250         1021154           2062810         6731484   \n",
       "CA                 7230699         3841134          11733523        38802500   \n",
       "CO                 1212209         1137455           2564185         5355866   \n",
       "CT                  884432          668266           1623542         3596677   \n",
       "DC                  260223           11553            280272          658893   \n",
       "DE                  235581          185103            441535          935614   \n",
       "FL                 4485745         4605515           9386750        19893297   \n",
       "GA                 1837300         2068623           4029564        10097343   \n",
       "HI                  266827          128815            428825         1419472   \n",
       "IA                  650790          798923           1542880         3107126   \n",
       "ID                  189677          407199            688235         1634464   \n",
       "IL                 2977498         2118179           5374280        12880580   \n",
       "IN                 1031953         1556220           2722029         6596855   \n",
       "KS                  414788          656009           1147143         2904021   \n",
       "KY                  628834         1202942           1922218         4413457   \n",
       "LA                  779535         1178004           2027731         4649676   \n",
       "MA                 1964768         1083069           3231531         6745408   \n",
       "MD                 1497951          873646           2474543         5976407   \n",
       "ME                  354873          334838            741550         1330089   \n",
       "MI                 2268193         2279805           4790917         9909877   \n",
       "MN                 1366676         1322891           2916404         5457173   \n",
       "MO                 1054889         1585753           2775098         6063589   \n",
       "MS                  462001          678457           1162987         2994079   \n",
       "MT                  174521          274120            483574         1023579   \n",
       "NC                 2162074         2339603           4629471         9943964   \n",
       "ND                   93526          216133            336968          739482   \n",
       "NE                  273858          485819            805638         1881503   \n",
       "NH                  348521          345789            731553         1326813   \n",
       "NJ                 2021756         1535513           3674893         8938175   \n",
       "NM                  380724          315875            783127         2085572   \n",
       "NV                  537753          511319           1122990         2839099   \n",
       "NY                 4143874         2640570           7046175        19746227   \n",
       "OH                 2317001         2771984           5325395        11594163   \n",
       "OK                  419788          947934           1451056         3878051   \n",
       "OR                  934631          742506           1808575         3970239   \n",
       "PA                 2844705         2912941           5970107        12787209   \n",
       "RI                  249902          179421            450121         1055173   \n",
       "SC                  849469         1143611           2084444         4832482   \n",
       "SD                  117442          227701            370047          853175   \n",
       "TN                  867110         1517402           2484691         6549352   \n",
       "TX                 3867816         4681590           8903237        26956958   \n",
       "UT                  274188          452086            984957         2942902   \n",
       "VA                 1916845         1731156           3844787         8326289   \n",
       "VT                  178179           95053            291413          626562   \n",
       "WA                 1610524         1129120           2957942         7061530   \n",
       "WI                 1382210         1409467           2944620         5757564   \n",
       "WV                  187457          486198            708226         1850326   \n",
       "WY                   55949          174248            248742          584153   \n",
       "\n",
       "            AGE295214  \n",
       "state_abbr             \n",
       "AL             1499.4  \n",
       "AR             1702.7  \n",
       "AZ              357.7  \n",
       "CA             1306.0  \n",
       "CO             1335.8  \n",
       "CT              164.7  \n",
       "DC               17.5  \n",
       "DE               65.3  \n",
       "FL             1329.2  \n",
       "GA             3700.0  \n",
       "HI               88.1  \n",
       "IA             2275.1  \n",
       "ID             1116.3  \n",
       "IL             2224.0  \n",
       "IN             2150.9  \n",
       "KS             2501.9  \n",
       "KY             2717.8  \n",
       "LA             1534.9  \n",
       "MA              276.4  \n",
       "MD              522.7  \n",
       "ME              306.1  \n",
       "MI             1696.3  \n",
       "MN             2004.2  \n",
       "MO             2622.3  \n",
       "MS             1966.5  \n",
       "MT             1210.3  \n",
       "NC             2146.5  \n",
       "ND             1192.1  \n",
       "NE             2147.2  \n",
       "NH              191.2  \n",
       "NJ              467.5  \n",
       "NM              744.6  \n",
       "NV              365.1  \n",
       "NY             1282.6  \n",
       "OH             2015.3  \n",
       "OK             1856.7  \n",
       "OR              752.8  \n",
       "PA             1350.5  \n",
       "RI               96.6  \n",
       "SC             1012.6  \n",
       "SD             1646.0  \n",
       "TN             2072.9  \n",
       "TX             6179.0  \n",
       "UT              867.3  \n",
       "VA             2734.3  \n",
       "VT              272.9  \n",
       "WA              853.1  \n",
       "WI             1558.9  \n",
       "WV             1110.0  \n",
       "WY              529.2  "
      ]
     },
     "execution_count": 89,
     "metadata": {},
     "output_type": "execute_result"
    }
   ],
   "source": [
    "concentration_votes_2016 = votes.groupby(by=\"state_abbr\").sum()[[\"votes_dem_2016\",\"votes_gop_2016\",\"total_votes_2016\",\"population2014\",\"AGE295214\"]]\n",
    "concentration_votes_2016\n"
   ]
  },
  {
   "cell_type": "code",
   "execution_count": 114,
   "metadata": {},
   "outputs": [
    {
     "data": {
      "application/vnd.plotly.v1+json": {
       "config": {
        "plotlyServerURL": "https://plot.ly"
       },
       "data": [
        {
         "colorbar": {
          "title": {
           "text": "# of voters (million)"
          }
         },
         "colorscale": [
          [
           0,
           "rgb(255,255,255)"
          ],
          [
           0.125,
           "rgb(240,240,240)"
          ],
          [
           0.25,
           "rgb(217,217,217)"
          ],
          [
           0.375,
           "rgb(189,189,189)"
          ],
          [
           0.5,
           "rgb(150,150,150)"
          ],
          [
           0.625,
           "rgb(115,115,115)"
          ],
          [
           0.75,
           "rgb(82,82,82)"
          ],
          [
           0.875,
           "rgb(37,37,37)"
          ],
          [
           1,
           "rgb(0,0,0)"
          ]
         ],
         "locationmode": "USA-states",
         "locations": [
          "AL",
          "AR",
          "AZ",
          "CA",
          "CO",
          "CT",
          "DC",
          "DE",
          "FL",
          "GA",
          "HI",
          "IA",
          "ID",
          "IL",
          "IN",
          "KS",
          "KY",
          "LA",
          "MA",
          "MD",
          "ME",
          "MI",
          "MN",
          "MO",
          "MS",
          "MT",
          "NC",
          "ND",
          "NE",
          "NH",
          "NJ",
          "NM",
          "NV",
          "NY",
          "OH",
          "OK",
          "OR",
          "PA",
          "RI",
          "SC",
          "SD",
          "TN",
          "TX",
          "UT",
          "VA",
          "VT",
          "WA",
          "WI",
          "WV",
          "WY"
         ],
         "text": [
          "Democratic Votes: 718084<br>Republican Votes: 1306925<br>Total Votes: 2078165<br>Population 2014: 4849377<br>Pecent Voted?: 42.9%",
          "Democratic Votes: 378729<br>Republican Votes: 677904<br>Total Votes: 1108615<br>Population 2014: 2966369<br>Pecent Voted?: 37.4%",
          "Democratic Votes: 936250<br>Republican Votes: 1021154<br>Total Votes: 2062810<br>Population 2014: 6731484<br>Pecent Voted?: 30.599999999999998%",
          "Democratic Votes: 7230699<br>Republican Votes: 3841134<br>Total Votes: 11733523<br>Population 2014: 38802500<br>Pecent Voted?: 30.2%",
          "Democratic Votes: 1212209<br>Republican Votes: 1137455<br>Total Votes: 2564185<br>Population 2014: 5355866<br>Pecent Voted?: 47.9%",
          "Democratic Votes: 884432<br>Republican Votes: 668266<br>Total Votes: 1623542<br>Population 2014: 3596677<br>Pecent Voted?: 45.1%",
          "Democratic Votes: 260223<br>Republican Votes: 11553<br>Total Votes: 280272<br>Population 2014: 658893<br>Pecent Voted?: 42.5%",
          "Democratic Votes: 235581<br>Republican Votes: 185103<br>Total Votes: 441535<br>Population 2014: 935614<br>Pecent Voted?: 47.199999999999996%",
          "Democratic Votes: 4485745<br>Republican Votes: 4605515<br>Total Votes: 9386750<br>Population 2014: 19893297<br>Pecent Voted?: 47.199999999999996%",
          "Democratic Votes: 1837300<br>Republican Votes: 2068623<br>Total Votes: 4029564<br>Population 2014: 10097343<br>Pecent Voted?: 39.900000000000006%",
          "Democratic Votes: 266827<br>Republican Votes: 128815<br>Total Votes: 428825<br>Population 2014: 1419472<br>Pecent Voted?: 30.2%",
          "Democratic Votes: 650790<br>Republican Votes: 798923<br>Total Votes: 1542880<br>Population 2014: 3107126<br>Pecent Voted?: 49.7%",
          "Democratic Votes: 189677<br>Republican Votes: 407199<br>Total Votes: 688235<br>Population 2014: 1634464<br>Pecent Voted?: 42.1%",
          "Democratic Votes: 2977498<br>Republican Votes: 2118179<br>Total Votes: 5374280<br>Population 2014: 12880580<br>Pecent Voted?: 41.699999999999996%",
          "Democratic Votes: 1031953<br>Republican Votes: 1556220<br>Total Votes: 2722029<br>Population 2014: 6596855<br>Pecent Voted?: 41.3%",
          "Democratic Votes: 414788<br>Republican Votes: 656009<br>Total Votes: 1147143<br>Population 2014: 2904021<br>Pecent Voted?: 39.5%",
          "Democratic Votes: 628834<br>Republican Votes: 1202942<br>Total Votes: 1922218<br>Population 2014: 4413457<br>Pecent Voted?: 43.6%",
          "Democratic Votes: 779535<br>Republican Votes: 1178004<br>Total Votes: 2027731<br>Population 2014: 4649676<br>Pecent Voted?: 43.6%",
          "Democratic Votes: 1964768<br>Republican Votes: 1083069<br>Total Votes: 3231531<br>Population 2014: 6745408<br>Pecent Voted?: 47.9%",
          "Democratic Votes: 1497951<br>Republican Votes: 873646<br>Total Votes: 2474543<br>Population 2014: 5976407<br>Pecent Voted?: 41.4%",
          "Democratic Votes: 354873<br>Republican Votes: 334838<br>Total Votes: 741550<br>Population 2014: 1330089<br>Pecent Voted?: 55.800000000000004%",
          "Democratic Votes: 2268193<br>Republican Votes: 2279805<br>Total Votes: 4790917<br>Population 2014: 9909877<br>Pecent Voted?: 48.4%",
          "Democratic Votes: 1366676<br>Republican Votes: 1322891<br>Total Votes: 2916404<br>Population 2014: 5457173<br>Pecent Voted?: 53.5%",
          "Democratic Votes: 1054889<br>Republican Votes: 1585753<br>Total Votes: 2775098<br>Population 2014: 6063589<br>Pecent Voted?: 45.800000000000004%",
          "Democratic Votes: 462001<br>Republican Votes: 678457<br>Total Votes: 1162987<br>Population 2014: 2994079<br>Pecent Voted?: 38.9%",
          "Democratic Votes: 174521<br>Republican Votes: 274120<br>Total Votes: 483574<br>Population 2014: 1023579<br>Pecent Voted?: 47.3%",
          "Democratic Votes: 2162074<br>Republican Votes: 2339603<br>Total Votes: 4629471<br>Population 2014: 9943964<br>Pecent Voted?: 46.6%",
          "Democratic Votes: 93526<br>Republican Votes: 216133<br>Total Votes: 336968<br>Population 2014: 739482<br>Pecent Voted?: 45.6%",
          "Democratic Votes: 273858<br>Republican Votes: 485819<br>Total Votes: 805638<br>Population 2014: 1881503<br>Pecent Voted?: 42.9%",
          "Democratic Votes: 348521<br>Republican Votes: 345789<br>Total Votes: 731553<br>Population 2014: 1326813<br>Pecent Voted?: 55.1%",
          "Democratic Votes: 2021756<br>Republican Votes: 1535513<br>Total Votes: 3674893<br>Population 2014: 8938175<br>Pecent Voted?: 41.099999999999994%",
          "Democratic Votes: 380724<br>Republican Votes: 315875<br>Total Votes: 783127<br>Population 2014: 2085572<br>Pecent Voted?: 37.6%",
          "Democratic Votes: 537753<br>Republican Votes: 511319<br>Total Votes: 1122990<br>Population 2014: 2839099<br>Pecent Voted?: 39.6%",
          "Democratic Votes: 4143874<br>Republican Votes: 2640570<br>Total Votes: 7046175<br>Population 2014: 19746227<br>Pecent Voted?: 35.699999999999996%",
          "Democratic Votes: 2317001<br>Republican Votes: 2771984<br>Total Votes: 5325395<br>Population 2014: 11594163<br>Pecent Voted?: 45.9%",
          "Democratic Votes: 419788<br>Republican Votes: 947934<br>Total Votes: 1451056<br>Population 2014: 3878051<br>Pecent Voted?: 37.4%",
          "Democratic Votes: 934631<br>Republican Votes: 742506<br>Total Votes: 1808575<br>Population 2014: 3970239<br>Pecent Voted?: 45.6%",
          "Democratic Votes: 2844705<br>Republican Votes: 2912941<br>Total Votes: 5970107<br>Population 2014: 12787209<br>Pecent Voted?: 46.7%",
          "Democratic Votes: 249902<br>Republican Votes: 179421<br>Total Votes: 450121<br>Population 2014: 1055173<br>Pecent Voted?: 42.699999999999996%",
          "Democratic Votes: 849469<br>Republican Votes: 1143611<br>Total Votes: 2084444<br>Population 2014: 4832482<br>Pecent Voted?: 43.1%",
          "Democratic Votes: 117442<br>Republican Votes: 227701<br>Total Votes: 370047<br>Population 2014: 853175<br>Pecent Voted?: 43.5%",
          "Democratic Votes: 867110<br>Republican Votes: 1517402<br>Total Votes: 2484691<br>Population 2014: 6549352<br>Pecent Voted?: 37.9%",
          "Democratic Votes: 3867816<br>Republican Votes: 4681590<br>Total Votes: 8903237<br>Population 2014: 26956958<br>Pecent Voted?: 33.0%",
          "Democratic Votes: 274188<br>Republican Votes: 452086<br>Total Votes: 984957<br>Population 2014: 2942902<br>Pecent Voted?: 33.5%",
          "Democratic Votes: 1916845<br>Republican Votes: 1731156<br>Total Votes: 3844787<br>Population 2014: 8326289<br>Pecent Voted?: 46.2%",
          "Democratic Votes: 178179<br>Republican Votes: 95053<br>Total Votes: 291413<br>Population 2014: 626562<br>Pecent Voted?: 46.5%",
          "Democratic Votes: 1610524<br>Republican Votes: 1129120<br>Total Votes: 2957942<br>Population 2014: 7061530<br>Pecent Voted?: 41.9%",
          "Democratic Votes: 1382210<br>Republican Votes: 1409467<br>Total Votes: 2944620<br>Population 2014: 5757564<br>Pecent Voted?: 51.2%",
          "Democratic Votes: 187457<br>Republican Votes: 486198<br>Total Votes: 708226<br>Population 2014: 1850326<br>Pecent Voted?: 38.3%",
          "Democratic Votes: 55949<br>Republican Votes: 174248<br>Total Votes: 248742<br>Population 2014: 584153<br>Pecent Voted?: 42.6%"
         ],
         "type": "choropleth",
         "z": [
          2078165,
          1108615,
          2062810,
          11733523,
          2564185,
          1623542,
          280272,
          441535,
          9386750,
          4029564,
          428825,
          1542880,
          688235,
          5374280,
          2722029,
          1147143,
          1922218,
          2027731,
          3231531,
          2474543,
          741550,
          4790917,
          2916404,
          2775098,
          1162987,
          483574,
          4629471,
          336968,
          805638,
          731553,
          3674893,
          783127,
          1122990,
          7046175,
          5325395,
          1451056,
          1808575,
          5970107,
          450121,
          2084444,
          370047,
          2484691,
          8903237,
          984957,
          3844787,
          291413,
          2957942,
          2944620,
          708226,
          248742
         ]
        }
       ],
       "layout": {
        "geo": {
         "scope": "usa"
        },
        "template": {
         "data": {
          "bar": [
           {
            "error_x": {
             "color": "#2a3f5f"
            },
            "error_y": {
             "color": "#2a3f5f"
            },
            "marker": {
             "line": {
              "color": "#E5ECF6",
              "width": 0.5
             }
            },
            "type": "bar"
           }
          ],
          "barpolar": [
           {
            "marker": {
             "line": {
              "color": "#E5ECF6",
              "width": 0.5
             }
            },
            "type": "barpolar"
           }
          ],
          "carpet": [
           {
            "aaxis": {
             "endlinecolor": "#2a3f5f",
             "gridcolor": "white",
             "linecolor": "white",
             "minorgridcolor": "white",
             "startlinecolor": "#2a3f5f"
            },
            "baxis": {
             "endlinecolor": "#2a3f5f",
             "gridcolor": "white",
             "linecolor": "white",
             "minorgridcolor": "white",
             "startlinecolor": "#2a3f5f"
            },
            "type": "carpet"
           }
          ],
          "choropleth": [
           {
            "colorbar": {
             "outlinewidth": 0,
             "ticks": ""
            },
            "type": "choropleth"
           }
          ],
          "contour": [
           {
            "colorbar": {
             "outlinewidth": 0,
             "ticks": ""
            },
            "colorscale": [
             [
              0,
              "#0d0887"
             ],
             [
              0.1111111111111111,
              "#46039f"
             ],
             [
              0.2222222222222222,
              "#7201a8"
             ],
             [
              0.3333333333333333,
              "#9c179e"
             ],
             [
              0.4444444444444444,
              "#bd3786"
             ],
             [
              0.5555555555555556,
              "#d8576b"
             ],
             [
              0.6666666666666666,
              "#ed7953"
             ],
             [
              0.7777777777777778,
              "#fb9f3a"
             ],
             [
              0.8888888888888888,
              "#fdca26"
             ],
             [
              1,
              "#f0f921"
             ]
            ],
            "type": "contour"
           }
          ],
          "contourcarpet": [
           {
            "colorbar": {
             "outlinewidth": 0,
             "ticks": ""
            },
            "type": "contourcarpet"
           }
          ],
          "heatmap": [
           {
            "colorbar": {
             "outlinewidth": 0,
             "ticks": ""
            },
            "colorscale": [
             [
              0,
              "#0d0887"
             ],
             [
              0.1111111111111111,
              "#46039f"
             ],
             [
              0.2222222222222222,
              "#7201a8"
             ],
             [
              0.3333333333333333,
              "#9c179e"
             ],
             [
              0.4444444444444444,
              "#bd3786"
             ],
             [
              0.5555555555555556,
              "#d8576b"
             ],
             [
              0.6666666666666666,
              "#ed7953"
             ],
             [
              0.7777777777777778,
              "#fb9f3a"
             ],
             [
              0.8888888888888888,
              "#fdca26"
             ],
             [
              1,
              "#f0f921"
             ]
            ],
            "type": "heatmap"
           }
          ],
          "heatmapgl": [
           {
            "colorbar": {
             "outlinewidth": 0,
             "ticks": ""
            },
            "colorscale": [
             [
              0,
              "#0d0887"
             ],
             [
              0.1111111111111111,
              "#46039f"
             ],
             [
              0.2222222222222222,
              "#7201a8"
             ],
             [
              0.3333333333333333,
              "#9c179e"
             ],
             [
              0.4444444444444444,
              "#bd3786"
             ],
             [
              0.5555555555555556,
              "#d8576b"
             ],
             [
              0.6666666666666666,
              "#ed7953"
             ],
             [
              0.7777777777777778,
              "#fb9f3a"
             ],
             [
              0.8888888888888888,
              "#fdca26"
             ],
             [
              1,
              "#f0f921"
             ]
            ],
            "type": "heatmapgl"
           }
          ],
          "histogram": [
           {
            "marker": {
             "colorbar": {
              "outlinewidth": 0,
              "ticks": ""
             }
            },
            "type": "histogram"
           }
          ],
          "histogram2d": [
           {
            "colorbar": {
             "outlinewidth": 0,
             "ticks": ""
            },
            "colorscale": [
             [
              0,
              "#0d0887"
             ],
             [
              0.1111111111111111,
              "#46039f"
             ],
             [
              0.2222222222222222,
              "#7201a8"
             ],
             [
              0.3333333333333333,
              "#9c179e"
             ],
             [
              0.4444444444444444,
              "#bd3786"
             ],
             [
              0.5555555555555556,
              "#d8576b"
             ],
             [
              0.6666666666666666,
              "#ed7953"
             ],
             [
              0.7777777777777778,
              "#fb9f3a"
             ],
             [
              0.8888888888888888,
              "#fdca26"
             ],
             [
              1,
              "#f0f921"
             ]
            ],
            "type": "histogram2d"
           }
          ],
          "histogram2dcontour": [
           {
            "colorbar": {
             "outlinewidth": 0,
             "ticks": ""
            },
            "colorscale": [
             [
              0,
              "#0d0887"
             ],
             [
              0.1111111111111111,
              "#46039f"
             ],
             [
              0.2222222222222222,
              "#7201a8"
             ],
             [
              0.3333333333333333,
              "#9c179e"
             ],
             [
              0.4444444444444444,
              "#bd3786"
             ],
             [
              0.5555555555555556,
              "#d8576b"
             ],
             [
              0.6666666666666666,
              "#ed7953"
             ],
             [
              0.7777777777777778,
              "#fb9f3a"
             ],
             [
              0.8888888888888888,
              "#fdca26"
             ],
             [
              1,
              "#f0f921"
             ]
            ],
            "type": "histogram2dcontour"
           }
          ],
          "mesh3d": [
           {
            "colorbar": {
             "outlinewidth": 0,
             "ticks": ""
            },
            "type": "mesh3d"
           }
          ],
          "parcoords": [
           {
            "line": {
             "colorbar": {
              "outlinewidth": 0,
              "ticks": ""
             }
            },
            "type": "parcoords"
           }
          ],
          "scatter": [
           {
            "marker": {
             "colorbar": {
              "outlinewidth": 0,
              "ticks": ""
             }
            },
            "type": "scatter"
           }
          ],
          "scatter3d": [
           {
            "line": {
             "colorbar": {
              "outlinewidth": 0,
              "ticks": ""
             }
            },
            "marker": {
             "colorbar": {
              "outlinewidth": 0,
              "ticks": ""
             }
            },
            "type": "scatter3d"
           }
          ],
          "scattercarpet": [
           {
            "marker": {
             "colorbar": {
              "outlinewidth": 0,
              "ticks": ""
             }
            },
            "type": "scattercarpet"
           }
          ],
          "scattergeo": [
           {
            "marker": {
             "colorbar": {
              "outlinewidth": 0,
              "ticks": ""
             }
            },
            "type": "scattergeo"
           }
          ],
          "scattergl": [
           {
            "marker": {
             "colorbar": {
              "outlinewidth": 0,
              "ticks": ""
             }
            },
            "type": "scattergl"
           }
          ],
          "scattermapbox": [
           {
            "marker": {
             "colorbar": {
              "outlinewidth": 0,
              "ticks": ""
             }
            },
            "type": "scattermapbox"
           }
          ],
          "scatterpolar": [
           {
            "marker": {
             "colorbar": {
              "outlinewidth": 0,
              "ticks": ""
             }
            },
            "type": "scatterpolar"
           }
          ],
          "scatterpolargl": [
           {
            "marker": {
             "colorbar": {
              "outlinewidth": 0,
              "ticks": ""
             }
            },
            "type": "scatterpolargl"
           }
          ],
          "scatterternary": [
           {
            "marker": {
             "colorbar": {
              "outlinewidth": 0,
              "ticks": ""
             }
            },
            "type": "scatterternary"
           }
          ],
          "surface": [
           {
            "colorbar": {
             "outlinewidth": 0,
             "ticks": ""
            },
            "colorscale": [
             [
              0,
              "#0d0887"
             ],
             [
              0.1111111111111111,
              "#46039f"
             ],
             [
              0.2222222222222222,
              "#7201a8"
             ],
             [
              0.3333333333333333,
              "#9c179e"
             ],
             [
              0.4444444444444444,
              "#bd3786"
             ],
             [
              0.5555555555555556,
              "#d8576b"
             ],
             [
              0.6666666666666666,
              "#ed7953"
             ],
             [
              0.7777777777777778,
              "#fb9f3a"
             ],
             [
              0.8888888888888888,
              "#fdca26"
             ],
             [
              1,
              "#f0f921"
             ]
            ],
            "type": "surface"
           }
          ],
          "table": [
           {
            "cells": {
             "fill": {
              "color": "#EBF0F8"
             },
             "line": {
              "color": "white"
             }
            },
            "header": {
             "fill": {
              "color": "#C8D4E3"
             },
             "line": {
              "color": "white"
             }
            },
            "type": "table"
           }
          ]
         },
         "layout": {
          "annotationdefaults": {
           "arrowcolor": "#2a3f5f",
           "arrowhead": 0,
           "arrowwidth": 1
          },
          "colorscale": {
           "diverging": [
            [
             0,
             "#8e0152"
            ],
            [
             0.1,
             "#c51b7d"
            ],
            [
             0.2,
             "#de77ae"
            ],
            [
             0.3,
             "#f1b6da"
            ],
            [
             0.4,
             "#fde0ef"
            ],
            [
             0.5,
             "#f7f7f7"
            ],
            [
             0.6,
             "#e6f5d0"
            ],
            [
             0.7,
             "#b8e186"
            ],
            [
             0.8,
             "#7fbc41"
            ],
            [
             0.9,
             "#4d9221"
            ],
            [
             1,
             "#276419"
            ]
           ],
           "sequential": [
            [
             0,
             "#0d0887"
            ],
            [
             0.1111111111111111,
             "#46039f"
            ],
            [
             0.2222222222222222,
             "#7201a8"
            ],
            [
             0.3333333333333333,
             "#9c179e"
            ],
            [
             0.4444444444444444,
             "#bd3786"
            ],
            [
             0.5555555555555556,
             "#d8576b"
            ],
            [
             0.6666666666666666,
             "#ed7953"
            ],
            [
             0.7777777777777778,
             "#fb9f3a"
            ],
            [
             0.8888888888888888,
             "#fdca26"
            ],
            [
             1,
             "#f0f921"
            ]
           ],
           "sequentialminus": [
            [
             0,
             "#0d0887"
            ],
            [
             0.1111111111111111,
             "#46039f"
            ],
            [
             0.2222222222222222,
             "#7201a8"
            ],
            [
             0.3333333333333333,
             "#9c179e"
            ],
            [
             0.4444444444444444,
             "#bd3786"
            ],
            [
             0.5555555555555556,
             "#d8576b"
            ],
            [
             0.6666666666666666,
             "#ed7953"
            ],
            [
             0.7777777777777778,
             "#fb9f3a"
            ],
            [
             0.8888888888888888,
             "#fdca26"
            ],
            [
             1,
             "#f0f921"
            ]
           ]
          },
          "colorway": [
           "#636efa",
           "#EF553B",
           "#00cc96",
           "#ab63fa",
           "#FFA15A",
           "#19d3f3",
           "#FF6692",
           "#B6E880",
           "#FF97FF",
           "#FECB52"
          ],
          "font": {
           "color": "#2a3f5f"
          },
          "geo": {
           "bgcolor": "white",
           "lakecolor": "white",
           "landcolor": "#E5ECF6",
           "showlakes": true,
           "showland": true,
           "subunitcolor": "white"
          },
          "hoverlabel": {
           "align": "left"
          },
          "hovermode": "closest",
          "mapbox": {
           "style": "light"
          },
          "paper_bgcolor": "white",
          "plot_bgcolor": "#E5ECF6",
          "polar": {
           "angularaxis": {
            "gridcolor": "white",
            "linecolor": "white",
            "ticks": ""
           },
           "bgcolor": "#E5ECF6",
           "radialaxis": {
            "gridcolor": "white",
            "linecolor": "white",
            "ticks": ""
           }
          },
          "scene": {
           "xaxis": {
            "backgroundcolor": "#E5ECF6",
            "gridcolor": "white",
            "gridwidth": 2,
            "linecolor": "white",
            "showbackground": true,
            "ticks": "",
            "zerolinecolor": "white"
           },
           "yaxis": {
            "backgroundcolor": "#E5ECF6",
            "gridcolor": "white",
            "gridwidth": 2,
            "linecolor": "white",
            "showbackground": true,
            "ticks": "",
            "zerolinecolor": "white"
           },
           "zaxis": {
            "backgroundcolor": "#E5ECF6",
            "gridcolor": "white",
            "gridwidth": 2,
            "linecolor": "white",
            "showbackground": true,
            "ticks": "",
            "zerolinecolor": "white"
           }
          },
          "shapedefaults": {
           "line": {
            "color": "#2a3f5f"
           }
          },
          "ternary": {
           "aaxis": {
            "gridcolor": "white",
            "linecolor": "white",
            "ticks": ""
           },
           "baxis": {
            "gridcolor": "white",
            "linecolor": "white",
            "ticks": ""
           },
           "bgcolor": "#E5ECF6",
           "caxis": {
            "gridcolor": "white",
            "linecolor": "white",
            "ticks": ""
           }
          },
          "title": {
           "x": 0.05
          },
          "xaxis": {
           "automargin": true,
           "gridcolor": "white",
           "linecolor": "white",
           "ticks": "",
           "zerolinecolor": "white",
           "zerolinewidth": 2
          },
          "yaxis": {
           "automargin": true,
           "gridcolor": "white",
           "linecolor": "white",
           "ticks": "",
           "zerolinecolor": "white",
           "zerolinewidth": 2
          }
         }
        },
        "title": {
         "text": "Concentration of Total Votes By State"
        }
       }
      },
      "text/html": [
       "<div>\n",
       "        \n",
       "        \n",
       "            <div id=\"c52e110c-173c-42b2-a850-dd24bfde4a20\" class=\"plotly-graph-div\" style=\"height:525px; width:100%;\"></div>\n",
       "            <script type=\"text/javascript\">\n",
       "                require([\"plotly\"], function(Plotly) {\n",
       "                    window.PLOTLYENV=window.PLOTLYENV || {};\n",
       "                    \n",
       "                if (document.getElementById(\"c52e110c-173c-42b2-a850-dd24bfde4a20\")) {\n",
       "                    Plotly.newPlot(\n",
       "                        'c52e110c-173c-42b2-a850-dd24bfde4a20',\n",
       "                        [{\"colorbar\": {\"title\": {\"text\": \"# of voters (million)\"}}, \"colorscale\": [[0.0, \"rgb(255,255,255)\"], [0.125, \"rgb(240,240,240)\"], [0.25, \"rgb(217,217,217)\"], [0.375, \"rgb(189,189,189)\"], [0.5, \"rgb(150,150,150)\"], [0.625, \"rgb(115,115,115)\"], [0.75, \"rgb(82,82,82)\"], [0.875, \"rgb(37,37,37)\"], [1.0, \"rgb(0,0,0)\"]], \"locationmode\": \"USA-states\", \"locations\": [\"AL\", \"AR\", \"AZ\", \"CA\", \"CO\", \"CT\", \"DC\", \"DE\", \"FL\", \"GA\", \"HI\", \"IA\", \"ID\", \"IL\", \"IN\", \"KS\", \"KY\", \"LA\", \"MA\", \"MD\", \"ME\", \"MI\", \"MN\", \"MO\", \"MS\", \"MT\", \"NC\", \"ND\", \"NE\", \"NH\", \"NJ\", \"NM\", \"NV\", \"NY\", \"OH\", \"OK\", \"OR\", \"PA\", \"RI\", \"SC\", \"SD\", \"TN\", \"TX\", \"UT\", \"VA\", \"VT\", \"WA\", \"WI\", \"WV\", \"WY\"], \"text\": [\"Democratic Votes: 718084<br>Republican Votes: 1306925<br>Total Votes: 2078165<br>Population 2014: 4849377<br>Pecent Voted?: 42.9%\", \"Democratic Votes: 378729<br>Republican Votes: 677904<br>Total Votes: 1108615<br>Population 2014: 2966369<br>Pecent Voted?: 37.4%\", \"Democratic Votes: 936250<br>Republican Votes: 1021154<br>Total Votes: 2062810<br>Population 2014: 6731484<br>Pecent Voted?: 30.599999999999998%\", \"Democratic Votes: 7230699<br>Republican Votes: 3841134<br>Total Votes: 11733523<br>Population 2014: 38802500<br>Pecent Voted?: 30.2%\", \"Democratic Votes: 1212209<br>Republican Votes: 1137455<br>Total Votes: 2564185<br>Population 2014: 5355866<br>Pecent Voted?: 47.9%\", \"Democratic Votes: 884432<br>Republican Votes: 668266<br>Total Votes: 1623542<br>Population 2014: 3596677<br>Pecent Voted?: 45.1%\", \"Democratic Votes: 260223<br>Republican Votes: 11553<br>Total Votes: 280272<br>Population 2014: 658893<br>Pecent Voted?: 42.5%\", \"Democratic Votes: 235581<br>Republican Votes: 185103<br>Total Votes: 441535<br>Population 2014: 935614<br>Pecent Voted?: 47.199999999999996%\", \"Democratic Votes: 4485745<br>Republican Votes: 4605515<br>Total Votes: 9386750<br>Population 2014: 19893297<br>Pecent Voted?: 47.199999999999996%\", \"Democratic Votes: 1837300<br>Republican Votes: 2068623<br>Total Votes: 4029564<br>Population 2014: 10097343<br>Pecent Voted?: 39.900000000000006%\", \"Democratic Votes: 266827<br>Republican Votes: 128815<br>Total Votes: 428825<br>Population 2014: 1419472<br>Pecent Voted?: 30.2%\", \"Democratic Votes: 650790<br>Republican Votes: 798923<br>Total Votes: 1542880<br>Population 2014: 3107126<br>Pecent Voted?: 49.7%\", \"Democratic Votes: 189677<br>Republican Votes: 407199<br>Total Votes: 688235<br>Population 2014: 1634464<br>Pecent Voted?: 42.1%\", \"Democratic Votes: 2977498<br>Republican Votes: 2118179<br>Total Votes: 5374280<br>Population 2014: 12880580<br>Pecent Voted?: 41.699999999999996%\", \"Democratic Votes: 1031953<br>Republican Votes: 1556220<br>Total Votes: 2722029<br>Population 2014: 6596855<br>Pecent Voted?: 41.3%\", \"Democratic Votes: 414788<br>Republican Votes: 656009<br>Total Votes: 1147143<br>Population 2014: 2904021<br>Pecent Voted?: 39.5%\", \"Democratic Votes: 628834<br>Republican Votes: 1202942<br>Total Votes: 1922218<br>Population 2014: 4413457<br>Pecent Voted?: 43.6%\", \"Democratic Votes: 779535<br>Republican Votes: 1178004<br>Total Votes: 2027731<br>Population 2014: 4649676<br>Pecent Voted?: 43.6%\", \"Democratic Votes: 1964768<br>Republican Votes: 1083069<br>Total Votes: 3231531<br>Population 2014: 6745408<br>Pecent Voted?: 47.9%\", \"Democratic Votes: 1497951<br>Republican Votes: 873646<br>Total Votes: 2474543<br>Population 2014: 5976407<br>Pecent Voted?: 41.4%\", \"Democratic Votes: 354873<br>Republican Votes: 334838<br>Total Votes: 741550<br>Population 2014: 1330089<br>Pecent Voted?: 55.800000000000004%\", \"Democratic Votes: 2268193<br>Republican Votes: 2279805<br>Total Votes: 4790917<br>Population 2014: 9909877<br>Pecent Voted?: 48.4%\", \"Democratic Votes: 1366676<br>Republican Votes: 1322891<br>Total Votes: 2916404<br>Population 2014: 5457173<br>Pecent Voted?: 53.5%\", \"Democratic Votes: 1054889<br>Republican Votes: 1585753<br>Total Votes: 2775098<br>Population 2014: 6063589<br>Pecent Voted?: 45.800000000000004%\", \"Democratic Votes: 462001<br>Republican Votes: 678457<br>Total Votes: 1162987<br>Population 2014: 2994079<br>Pecent Voted?: 38.9%\", \"Democratic Votes: 174521<br>Republican Votes: 274120<br>Total Votes: 483574<br>Population 2014: 1023579<br>Pecent Voted?: 47.3%\", \"Democratic Votes: 2162074<br>Republican Votes: 2339603<br>Total Votes: 4629471<br>Population 2014: 9943964<br>Pecent Voted?: 46.6%\", \"Democratic Votes: 93526<br>Republican Votes: 216133<br>Total Votes: 336968<br>Population 2014: 739482<br>Pecent Voted?: 45.6%\", \"Democratic Votes: 273858<br>Republican Votes: 485819<br>Total Votes: 805638<br>Population 2014: 1881503<br>Pecent Voted?: 42.9%\", \"Democratic Votes: 348521<br>Republican Votes: 345789<br>Total Votes: 731553<br>Population 2014: 1326813<br>Pecent Voted?: 55.1%\", \"Democratic Votes: 2021756<br>Republican Votes: 1535513<br>Total Votes: 3674893<br>Population 2014: 8938175<br>Pecent Voted?: 41.099999999999994%\", \"Democratic Votes: 380724<br>Republican Votes: 315875<br>Total Votes: 783127<br>Population 2014: 2085572<br>Pecent Voted?: 37.6%\", \"Democratic Votes: 537753<br>Republican Votes: 511319<br>Total Votes: 1122990<br>Population 2014: 2839099<br>Pecent Voted?: 39.6%\", \"Democratic Votes: 4143874<br>Republican Votes: 2640570<br>Total Votes: 7046175<br>Population 2014: 19746227<br>Pecent Voted?: 35.699999999999996%\", \"Democratic Votes: 2317001<br>Republican Votes: 2771984<br>Total Votes: 5325395<br>Population 2014: 11594163<br>Pecent Voted?: 45.9%\", \"Democratic Votes: 419788<br>Republican Votes: 947934<br>Total Votes: 1451056<br>Population 2014: 3878051<br>Pecent Voted?: 37.4%\", \"Democratic Votes: 934631<br>Republican Votes: 742506<br>Total Votes: 1808575<br>Population 2014: 3970239<br>Pecent Voted?: 45.6%\", \"Democratic Votes: 2844705<br>Republican Votes: 2912941<br>Total Votes: 5970107<br>Population 2014: 12787209<br>Pecent Voted?: 46.7%\", \"Democratic Votes: 249902<br>Republican Votes: 179421<br>Total Votes: 450121<br>Population 2014: 1055173<br>Pecent Voted?: 42.699999999999996%\", \"Democratic Votes: 849469<br>Republican Votes: 1143611<br>Total Votes: 2084444<br>Population 2014: 4832482<br>Pecent Voted?: 43.1%\", \"Democratic Votes: 117442<br>Republican Votes: 227701<br>Total Votes: 370047<br>Population 2014: 853175<br>Pecent Voted?: 43.5%\", \"Democratic Votes: 867110<br>Republican Votes: 1517402<br>Total Votes: 2484691<br>Population 2014: 6549352<br>Pecent Voted?: 37.9%\", \"Democratic Votes: 3867816<br>Republican Votes: 4681590<br>Total Votes: 8903237<br>Population 2014: 26956958<br>Pecent Voted?: 33.0%\", \"Democratic Votes: 274188<br>Republican Votes: 452086<br>Total Votes: 984957<br>Population 2014: 2942902<br>Pecent Voted?: 33.5%\", \"Democratic Votes: 1916845<br>Republican Votes: 1731156<br>Total Votes: 3844787<br>Population 2014: 8326289<br>Pecent Voted?: 46.2%\", \"Democratic Votes: 178179<br>Republican Votes: 95053<br>Total Votes: 291413<br>Population 2014: 626562<br>Pecent Voted?: 46.5%\", \"Democratic Votes: 1610524<br>Republican Votes: 1129120<br>Total Votes: 2957942<br>Population 2014: 7061530<br>Pecent Voted?: 41.9%\", \"Democratic Votes: 1382210<br>Republican Votes: 1409467<br>Total Votes: 2944620<br>Population 2014: 5757564<br>Pecent Voted?: 51.2%\", \"Democratic Votes: 187457<br>Republican Votes: 486198<br>Total Votes: 708226<br>Population 2014: 1850326<br>Pecent Voted?: 38.3%\", \"Democratic Votes: 55949<br>Republican Votes: 174248<br>Total Votes: 248742<br>Population 2014: 584153<br>Pecent Voted?: 42.6%\"], \"type\": \"choropleth\", \"z\": [2078165, 1108615, 2062810, 11733523, 2564185, 1623542, 280272, 441535, 9386750, 4029564, 428825, 1542880, 688235, 5374280, 2722029, 1147143, 1922218, 2027731, 3231531, 2474543, 741550, 4790917, 2916404, 2775098, 1162987, 483574, 4629471, 336968, 805638, 731553, 3674893, 783127, 1122990, 7046175, 5325395, 1451056, 1808575, 5970107, 450121, 2084444, 370047, 2484691, 8903237, 984957, 3844787, 291413, 2957942, 2944620, 708226, 248742]}],\n",
       "                        {\"geo\": {\"scope\": \"usa\"}, \"template\": {\"data\": {\"bar\": [{\"error_x\": {\"color\": \"#2a3f5f\"}, \"error_y\": {\"color\": \"#2a3f5f\"}, \"marker\": {\"line\": {\"color\": \"#E5ECF6\", \"width\": 0.5}}, \"type\": \"bar\"}], \"barpolar\": [{\"marker\": {\"line\": {\"color\": \"#E5ECF6\", \"width\": 0.5}}, \"type\": \"barpolar\"}], \"carpet\": [{\"aaxis\": {\"endlinecolor\": \"#2a3f5f\", \"gridcolor\": \"white\", \"linecolor\": \"white\", \"minorgridcolor\": \"white\", \"startlinecolor\": \"#2a3f5f\"}, \"baxis\": {\"endlinecolor\": \"#2a3f5f\", \"gridcolor\": \"white\", \"linecolor\": \"white\", \"minorgridcolor\": \"white\", \"startlinecolor\": \"#2a3f5f\"}, \"type\": \"carpet\"}], \"choropleth\": [{\"colorbar\": {\"outlinewidth\": 0, \"ticks\": \"\"}, \"type\": \"choropleth\"}], \"contour\": [{\"colorbar\": {\"outlinewidth\": 0, \"ticks\": \"\"}, \"colorscale\": [[0.0, \"#0d0887\"], [0.1111111111111111, \"#46039f\"], [0.2222222222222222, \"#7201a8\"], [0.3333333333333333, \"#9c179e\"], [0.4444444444444444, \"#bd3786\"], [0.5555555555555556, \"#d8576b\"], [0.6666666666666666, \"#ed7953\"], [0.7777777777777778, \"#fb9f3a\"], [0.8888888888888888, \"#fdca26\"], [1.0, \"#f0f921\"]], \"type\": \"contour\"}], \"contourcarpet\": [{\"colorbar\": {\"outlinewidth\": 0, \"ticks\": \"\"}, \"type\": \"contourcarpet\"}], \"heatmap\": [{\"colorbar\": {\"outlinewidth\": 0, \"ticks\": \"\"}, \"colorscale\": [[0.0, \"#0d0887\"], [0.1111111111111111, \"#46039f\"], [0.2222222222222222, \"#7201a8\"], [0.3333333333333333, \"#9c179e\"], [0.4444444444444444, \"#bd3786\"], [0.5555555555555556, \"#d8576b\"], [0.6666666666666666, \"#ed7953\"], [0.7777777777777778, \"#fb9f3a\"], [0.8888888888888888, \"#fdca26\"], [1.0, \"#f0f921\"]], \"type\": \"heatmap\"}], \"heatmapgl\": [{\"colorbar\": {\"outlinewidth\": 0, \"ticks\": \"\"}, \"colorscale\": [[0.0, \"#0d0887\"], [0.1111111111111111, \"#46039f\"], [0.2222222222222222, \"#7201a8\"], [0.3333333333333333, \"#9c179e\"], [0.4444444444444444, \"#bd3786\"], [0.5555555555555556, \"#d8576b\"], [0.6666666666666666, \"#ed7953\"], [0.7777777777777778, \"#fb9f3a\"], [0.8888888888888888, \"#fdca26\"], [1.0, \"#f0f921\"]], \"type\": \"heatmapgl\"}], \"histogram\": [{\"marker\": {\"colorbar\": {\"outlinewidth\": 0, \"ticks\": \"\"}}, \"type\": \"histogram\"}], \"histogram2d\": [{\"colorbar\": {\"outlinewidth\": 0, \"ticks\": \"\"}, \"colorscale\": [[0.0, \"#0d0887\"], [0.1111111111111111, \"#46039f\"], [0.2222222222222222, \"#7201a8\"], [0.3333333333333333, \"#9c179e\"], [0.4444444444444444, \"#bd3786\"], [0.5555555555555556, \"#d8576b\"], [0.6666666666666666, \"#ed7953\"], [0.7777777777777778, \"#fb9f3a\"], [0.8888888888888888, \"#fdca26\"], [1.0, \"#f0f921\"]], \"type\": \"histogram2d\"}], \"histogram2dcontour\": [{\"colorbar\": {\"outlinewidth\": 0, \"ticks\": \"\"}, \"colorscale\": [[0.0, \"#0d0887\"], [0.1111111111111111, \"#46039f\"], [0.2222222222222222, \"#7201a8\"], [0.3333333333333333, \"#9c179e\"], [0.4444444444444444, \"#bd3786\"], [0.5555555555555556, \"#d8576b\"], [0.6666666666666666, \"#ed7953\"], [0.7777777777777778, \"#fb9f3a\"], [0.8888888888888888, \"#fdca26\"], [1.0, \"#f0f921\"]], \"type\": \"histogram2dcontour\"}], \"mesh3d\": [{\"colorbar\": {\"outlinewidth\": 0, \"ticks\": \"\"}, \"type\": \"mesh3d\"}], \"parcoords\": [{\"line\": {\"colorbar\": {\"outlinewidth\": 0, \"ticks\": \"\"}}, \"type\": \"parcoords\"}], \"scatter\": [{\"marker\": {\"colorbar\": {\"outlinewidth\": 0, \"ticks\": \"\"}}, \"type\": \"scatter\"}], \"scatter3d\": [{\"line\": {\"colorbar\": {\"outlinewidth\": 0, \"ticks\": \"\"}}, \"marker\": {\"colorbar\": {\"outlinewidth\": 0, \"ticks\": \"\"}}, \"type\": \"scatter3d\"}], \"scattercarpet\": [{\"marker\": {\"colorbar\": {\"outlinewidth\": 0, \"ticks\": \"\"}}, \"type\": \"scattercarpet\"}], \"scattergeo\": [{\"marker\": {\"colorbar\": {\"outlinewidth\": 0, \"ticks\": \"\"}}, \"type\": \"scattergeo\"}], \"scattergl\": [{\"marker\": {\"colorbar\": {\"outlinewidth\": 0, \"ticks\": \"\"}}, \"type\": \"scattergl\"}], \"scattermapbox\": [{\"marker\": {\"colorbar\": {\"outlinewidth\": 0, \"ticks\": \"\"}}, \"type\": \"scattermapbox\"}], \"scatterpolar\": [{\"marker\": {\"colorbar\": {\"outlinewidth\": 0, \"ticks\": \"\"}}, \"type\": \"scatterpolar\"}], \"scatterpolargl\": [{\"marker\": {\"colorbar\": {\"outlinewidth\": 0, \"ticks\": \"\"}}, \"type\": \"scatterpolargl\"}], \"scatterternary\": [{\"marker\": {\"colorbar\": {\"outlinewidth\": 0, \"ticks\": \"\"}}, \"type\": \"scatterternary\"}], \"surface\": [{\"colorbar\": {\"outlinewidth\": 0, \"ticks\": \"\"}, \"colorscale\": [[0.0, \"#0d0887\"], [0.1111111111111111, \"#46039f\"], [0.2222222222222222, \"#7201a8\"], [0.3333333333333333, \"#9c179e\"], [0.4444444444444444, \"#bd3786\"], [0.5555555555555556, \"#d8576b\"], [0.6666666666666666, \"#ed7953\"], [0.7777777777777778, \"#fb9f3a\"], [0.8888888888888888, \"#fdca26\"], [1.0, \"#f0f921\"]], \"type\": \"surface\"}], \"table\": [{\"cells\": {\"fill\": {\"color\": \"#EBF0F8\"}, \"line\": {\"color\": \"white\"}}, \"header\": {\"fill\": {\"color\": \"#C8D4E3\"}, \"line\": {\"color\": \"white\"}}, \"type\": \"table\"}]}, \"layout\": {\"annotationdefaults\": {\"arrowcolor\": \"#2a3f5f\", \"arrowhead\": 0, \"arrowwidth\": 1}, \"colorscale\": {\"diverging\": [[0, \"#8e0152\"], [0.1, \"#c51b7d\"], [0.2, \"#de77ae\"], [0.3, \"#f1b6da\"], [0.4, \"#fde0ef\"], [0.5, \"#f7f7f7\"], [0.6, \"#e6f5d0\"], [0.7, \"#b8e186\"], [0.8, \"#7fbc41\"], [0.9, \"#4d9221\"], [1, \"#276419\"]], \"sequential\": [[0.0, \"#0d0887\"], [0.1111111111111111, \"#46039f\"], [0.2222222222222222, \"#7201a8\"], [0.3333333333333333, \"#9c179e\"], [0.4444444444444444, \"#bd3786\"], [0.5555555555555556, \"#d8576b\"], [0.6666666666666666, \"#ed7953\"], [0.7777777777777778, \"#fb9f3a\"], [0.8888888888888888, \"#fdca26\"], [1.0, \"#f0f921\"]], \"sequentialminus\": [[0.0, \"#0d0887\"], [0.1111111111111111, \"#46039f\"], [0.2222222222222222, \"#7201a8\"], [0.3333333333333333, \"#9c179e\"], [0.4444444444444444, \"#bd3786\"], [0.5555555555555556, \"#d8576b\"], [0.6666666666666666, \"#ed7953\"], [0.7777777777777778, \"#fb9f3a\"], [0.8888888888888888, \"#fdca26\"], [1.0, \"#f0f921\"]]}, \"colorway\": [\"#636efa\", \"#EF553B\", \"#00cc96\", \"#ab63fa\", \"#FFA15A\", \"#19d3f3\", \"#FF6692\", \"#B6E880\", \"#FF97FF\", \"#FECB52\"], \"font\": {\"color\": \"#2a3f5f\"}, \"geo\": {\"bgcolor\": \"white\", \"lakecolor\": \"white\", \"landcolor\": \"#E5ECF6\", \"showlakes\": true, \"showland\": true, \"subunitcolor\": \"white\"}, \"hoverlabel\": {\"align\": \"left\"}, \"hovermode\": \"closest\", \"mapbox\": {\"style\": \"light\"}, \"paper_bgcolor\": \"white\", \"plot_bgcolor\": \"#E5ECF6\", \"polar\": {\"angularaxis\": {\"gridcolor\": \"white\", \"linecolor\": \"white\", \"ticks\": \"\"}, \"bgcolor\": \"#E5ECF6\", \"radialaxis\": {\"gridcolor\": \"white\", \"linecolor\": \"white\", \"ticks\": \"\"}}, \"scene\": {\"xaxis\": {\"backgroundcolor\": \"#E5ECF6\", \"gridcolor\": \"white\", \"gridwidth\": 2, \"linecolor\": \"white\", \"showbackground\": true, \"ticks\": \"\", \"zerolinecolor\": \"white\"}, \"yaxis\": {\"backgroundcolor\": \"#E5ECF6\", \"gridcolor\": \"white\", \"gridwidth\": 2, \"linecolor\": \"white\", \"showbackground\": true, \"ticks\": \"\", \"zerolinecolor\": \"white\"}, \"zaxis\": {\"backgroundcolor\": \"#E5ECF6\", \"gridcolor\": \"white\", \"gridwidth\": 2, \"linecolor\": \"white\", \"showbackground\": true, \"ticks\": \"\", \"zerolinecolor\": \"white\"}}, \"shapedefaults\": {\"line\": {\"color\": \"#2a3f5f\"}}, \"ternary\": {\"aaxis\": {\"gridcolor\": \"white\", \"linecolor\": \"white\", \"ticks\": \"\"}, \"baxis\": {\"gridcolor\": \"white\", \"linecolor\": \"white\", \"ticks\": \"\"}, \"bgcolor\": \"#E5ECF6\", \"caxis\": {\"gridcolor\": \"white\", \"linecolor\": \"white\", \"ticks\": \"\"}}, \"title\": {\"x\": 0.05}, \"xaxis\": {\"automargin\": true, \"gridcolor\": \"white\", \"linecolor\": \"white\", \"ticks\": \"\", \"zerolinecolor\": \"white\", \"zerolinewidth\": 2}, \"yaxis\": {\"automargin\": true, \"gridcolor\": \"white\", \"linecolor\": \"white\", \"ticks\": \"\", \"zerolinecolor\": \"white\", \"zerolinewidth\": 2}}}, \"title\": {\"text\": \"Concentration of Total Votes By State\"}},\n",
       "                        {\"responsive\": true}\n",
       "                    ).then(function(){\n",
       "                            \n",
       "var gd = document.getElementById('c52e110c-173c-42b2-a850-dd24bfde4a20');\n",
       "var x = new MutationObserver(function (mutations, observer) {{\n",
       "        var display = window.getComputedStyle(gd).display;\n",
       "        if (!display || display === 'none') {{\n",
       "            console.log([gd, 'removed!']);\n",
       "            Plotly.purge(gd);\n",
       "            observer.disconnect();\n",
       "        }}\n",
       "}});\n",
       "\n",
       "// Listen for the removal of the full notebook cells\n",
       "var notebookContainer = gd.closest('#notebook-container');\n",
       "if (notebookContainer) {{\n",
       "    x.observe(notebookContainer, {childList: true});\n",
       "}}\n",
       "\n",
       "// Listen for the clearing of the current output cell\n",
       "var outputEl = gd.closest('.output');\n",
       "if (outputEl) {{\n",
       "    x.observe(outputEl, {childList: true});\n",
       "}}\n",
       "\n",
       "                        })\n",
       "                };\n",
       "                });\n",
       "            </script>\n",
       "        </div>"
      ]
     },
     "metadata": {},
     "output_type": "display_data"
    }
   ],
   "source": [
    "import plotly.graph_objects as go\n",
    "import pandas as pd\n",
    "\n",
    "percent_voted = (concentration_votes_2016['total_votes_2016']/ \\\n",
    "    (concentration_votes_2016['population2014']-concentration_votes_2016['AGE295214'])).round(3) * 100\n",
    "\n",
    "text ='Democratic Votes: ' + concentration_votes_2016['votes_dem_2016'].astype(str) + '<br>' + \\\n",
    "    'Republican Votes: ' + concentration_votes_2016['votes_gop_2016'].astype(str) + '<br>' + \\\n",
    "    'Total Votes: ' + concentration_votes_2016['total_votes_2016'].astype(str) + '<br>' + \\\n",
    "    'Population 2014: ' + concentration_votes_2016['population2014'].astype(str) + '<br>' + \\\n",
    "    'Pecent Voted?: ' + (percent_voted).astype(str) + \"%\"\n",
    "\n",
    "fig1 = go.Figure(\n",
    "    data=go.Choropleth(\n",
    "        locations=concentration_votes_2016.index, # Spatial coordinates\n",
    "        z = concentration_votes_2016['total_votes_2016'].astype(int), # Data to be color-coded\n",
    "        locationmode = 'USA-states', # set of locations match entries in `locations`\n",
    "        colorscale = 'greys',\n",
    "        colorbar_title = \"# of voters (million)\",\n",
    "        text=text\n",
    "    )\n",
    ")\n",
    "\n",
    "fig1.update_layout(\n",
    "    title_text = 'Concentration of Total Votes By State',\n",
    "    geo_scope='usa', # limite map scope to USA\n",
    ")\n",
    "\n",
    "fig1.show()"
   ]
  },
  {
   "cell_type": "code",
   "execution_count": 115,
   "metadata": {},
   "outputs": [
    {
     "data": {
      "application/vnd.plotly.v1+json": {
       "config": {
        "plotlyServerURL": "https://plot.ly"
       },
       "data": [
        {
         "colorbar": {
          "title": {
           "text": "# of voters"
          }
         },
         "colorscale": [
          [
           0,
           "rgb(255,245,240)"
          ],
          [
           0.125,
           "rgb(254,224,210)"
          ],
          [
           0.25,
           "rgb(252,187,161)"
          ],
          [
           0.375,
           "rgb(252,146,114)"
          ],
          [
           0.5,
           "rgb(251,106,74)"
          ],
          [
           0.625,
           "rgb(239,59,44)"
          ],
          [
           0.75,
           "rgb(203,24,29)"
          ],
          [
           0.875,
           "rgb(165,15,21)"
          ],
          [
           1,
           "rgb(103,0,13)"
          ]
         ],
         "locationmode": "USA-states",
         "locations": [
          "AL",
          "AR",
          "AZ",
          "CA",
          "CO",
          "CT",
          "DC",
          "DE",
          "FL",
          "GA",
          "HI",
          "IA",
          "ID",
          "IL",
          "IN",
          "KS",
          "KY",
          "LA",
          "MA",
          "MD",
          "ME",
          "MI",
          "MN",
          "MO",
          "MS",
          "MT",
          "NC",
          "ND",
          "NE",
          "NH",
          "NJ",
          "NM",
          "NV",
          "NY",
          "OH",
          "OK",
          "OR",
          "PA",
          "RI",
          "SC",
          "SD",
          "TN",
          "TX",
          "UT",
          "VA",
          "VT",
          "WA",
          "WI",
          "WV",
          "WY"
         ],
         "text": [
          "Republican Votes: 1306925<br>Total Votes: 2078165<br>Population 2014: 4849377",
          "Republican Votes: 677904<br>Total Votes: 1108615<br>Population 2014: 2966369",
          "Republican Votes: 1021154<br>Total Votes: 2062810<br>Population 2014: 6731484",
          "Republican Votes: 3841134<br>Total Votes: 11733523<br>Population 2014: 38802500",
          "Republican Votes: 1137455<br>Total Votes: 2564185<br>Population 2014: 5355866",
          "Republican Votes: 668266<br>Total Votes: 1623542<br>Population 2014: 3596677",
          "Republican Votes: 11553<br>Total Votes: 280272<br>Population 2014: 658893",
          "Republican Votes: 185103<br>Total Votes: 441535<br>Population 2014: 935614",
          "Republican Votes: 4605515<br>Total Votes: 9386750<br>Population 2014: 19893297",
          "Republican Votes: 2068623<br>Total Votes: 4029564<br>Population 2014: 10097343",
          "Republican Votes: 128815<br>Total Votes: 428825<br>Population 2014: 1419472",
          "Republican Votes: 798923<br>Total Votes: 1542880<br>Population 2014: 3107126",
          "Republican Votes: 407199<br>Total Votes: 688235<br>Population 2014: 1634464",
          "Republican Votes: 2118179<br>Total Votes: 5374280<br>Population 2014: 12880580",
          "Republican Votes: 1556220<br>Total Votes: 2722029<br>Population 2014: 6596855",
          "Republican Votes: 656009<br>Total Votes: 1147143<br>Population 2014: 2904021",
          "Republican Votes: 1202942<br>Total Votes: 1922218<br>Population 2014: 4413457",
          "Republican Votes: 1178004<br>Total Votes: 2027731<br>Population 2014: 4649676",
          "Republican Votes: 1083069<br>Total Votes: 3231531<br>Population 2014: 6745408",
          "Republican Votes: 873646<br>Total Votes: 2474543<br>Population 2014: 5976407",
          "Republican Votes: 334838<br>Total Votes: 741550<br>Population 2014: 1330089",
          "Republican Votes: 2279805<br>Total Votes: 4790917<br>Population 2014: 9909877",
          "Republican Votes: 1322891<br>Total Votes: 2916404<br>Population 2014: 5457173",
          "Republican Votes: 1585753<br>Total Votes: 2775098<br>Population 2014: 6063589",
          "Republican Votes: 678457<br>Total Votes: 1162987<br>Population 2014: 2994079",
          "Republican Votes: 274120<br>Total Votes: 483574<br>Population 2014: 1023579",
          "Republican Votes: 2339603<br>Total Votes: 4629471<br>Population 2014: 9943964",
          "Republican Votes: 216133<br>Total Votes: 336968<br>Population 2014: 739482",
          "Republican Votes: 485819<br>Total Votes: 805638<br>Population 2014: 1881503",
          "Republican Votes: 345789<br>Total Votes: 731553<br>Population 2014: 1326813",
          "Republican Votes: 1535513<br>Total Votes: 3674893<br>Population 2014: 8938175",
          "Republican Votes: 315875<br>Total Votes: 783127<br>Population 2014: 2085572",
          "Republican Votes: 511319<br>Total Votes: 1122990<br>Population 2014: 2839099",
          "Republican Votes: 2640570<br>Total Votes: 7046175<br>Population 2014: 19746227",
          "Republican Votes: 2771984<br>Total Votes: 5325395<br>Population 2014: 11594163",
          "Republican Votes: 947934<br>Total Votes: 1451056<br>Population 2014: 3878051",
          "Republican Votes: 742506<br>Total Votes: 1808575<br>Population 2014: 3970239",
          "Republican Votes: 2912941<br>Total Votes: 5970107<br>Population 2014: 12787209",
          "Republican Votes: 179421<br>Total Votes: 450121<br>Population 2014: 1055173",
          "Republican Votes: 1143611<br>Total Votes: 2084444<br>Population 2014: 4832482",
          "Republican Votes: 227701<br>Total Votes: 370047<br>Population 2014: 853175",
          "Republican Votes: 1517402<br>Total Votes: 2484691<br>Population 2014: 6549352",
          "Republican Votes: 4681590<br>Total Votes: 8903237<br>Population 2014: 26956958",
          "Republican Votes: 452086<br>Total Votes: 984957<br>Population 2014: 2942902",
          "Republican Votes: 1731156<br>Total Votes: 3844787<br>Population 2014: 8326289",
          "Republican Votes: 95053<br>Total Votes: 291413<br>Population 2014: 626562",
          "Republican Votes: 1129120<br>Total Votes: 2957942<br>Population 2014: 7061530",
          "Republican Votes: 1409467<br>Total Votes: 2944620<br>Population 2014: 5757564",
          "Republican Votes: 486198<br>Total Votes: 708226<br>Population 2014: 1850326",
          "Republican Votes: 174248<br>Total Votes: 248742<br>Population 2014: 584153"
         ],
         "type": "choropleth",
         "z": [
          1306925,
          677904,
          1021154,
          3841134,
          1137455,
          668266,
          11553,
          185103,
          4605515,
          2068623,
          128815,
          798923,
          407199,
          2118179,
          1556220,
          656009,
          1202942,
          1178004,
          1083069,
          873646,
          334838,
          2279805,
          1322891,
          1585753,
          678457,
          274120,
          2339603,
          216133,
          485819,
          345789,
          1535513,
          315875,
          511319,
          2640570,
          2771984,
          947934,
          742506,
          2912941,
          179421,
          1143611,
          227701,
          1517402,
          4681590,
          452086,
          1731156,
          95053,
          1129120,
          1409467,
          486198,
          174248
         ]
        }
       ],
       "layout": {
        "geo": {
         "scope": "usa"
        },
        "template": {
         "data": {
          "bar": [
           {
            "error_x": {
             "color": "#2a3f5f"
            },
            "error_y": {
             "color": "#2a3f5f"
            },
            "marker": {
             "line": {
              "color": "#E5ECF6",
              "width": 0.5
             }
            },
            "type": "bar"
           }
          ],
          "barpolar": [
           {
            "marker": {
             "line": {
              "color": "#E5ECF6",
              "width": 0.5
             }
            },
            "type": "barpolar"
           }
          ],
          "carpet": [
           {
            "aaxis": {
             "endlinecolor": "#2a3f5f",
             "gridcolor": "white",
             "linecolor": "white",
             "minorgridcolor": "white",
             "startlinecolor": "#2a3f5f"
            },
            "baxis": {
             "endlinecolor": "#2a3f5f",
             "gridcolor": "white",
             "linecolor": "white",
             "minorgridcolor": "white",
             "startlinecolor": "#2a3f5f"
            },
            "type": "carpet"
           }
          ],
          "choropleth": [
           {
            "colorbar": {
             "outlinewidth": 0,
             "ticks": ""
            },
            "type": "choropleth"
           }
          ],
          "contour": [
           {
            "colorbar": {
             "outlinewidth": 0,
             "ticks": ""
            },
            "colorscale": [
             [
              0,
              "#0d0887"
             ],
             [
              0.1111111111111111,
              "#46039f"
             ],
             [
              0.2222222222222222,
              "#7201a8"
             ],
             [
              0.3333333333333333,
              "#9c179e"
             ],
             [
              0.4444444444444444,
              "#bd3786"
             ],
             [
              0.5555555555555556,
              "#d8576b"
             ],
             [
              0.6666666666666666,
              "#ed7953"
             ],
             [
              0.7777777777777778,
              "#fb9f3a"
             ],
             [
              0.8888888888888888,
              "#fdca26"
             ],
             [
              1,
              "#f0f921"
             ]
            ],
            "type": "contour"
           }
          ],
          "contourcarpet": [
           {
            "colorbar": {
             "outlinewidth": 0,
             "ticks": ""
            },
            "type": "contourcarpet"
           }
          ],
          "heatmap": [
           {
            "colorbar": {
             "outlinewidth": 0,
             "ticks": ""
            },
            "colorscale": [
             [
              0,
              "#0d0887"
             ],
             [
              0.1111111111111111,
              "#46039f"
             ],
             [
              0.2222222222222222,
              "#7201a8"
             ],
             [
              0.3333333333333333,
              "#9c179e"
             ],
             [
              0.4444444444444444,
              "#bd3786"
             ],
             [
              0.5555555555555556,
              "#d8576b"
             ],
             [
              0.6666666666666666,
              "#ed7953"
             ],
             [
              0.7777777777777778,
              "#fb9f3a"
             ],
             [
              0.8888888888888888,
              "#fdca26"
             ],
             [
              1,
              "#f0f921"
             ]
            ],
            "type": "heatmap"
           }
          ],
          "heatmapgl": [
           {
            "colorbar": {
             "outlinewidth": 0,
             "ticks": ""
            },
            "colorscale": [
             [
              0,
              "#0d0887"
             ],
             [
              0.1111111111111111,
              "#46039f"
             ],
             [
              0.2222222222222222,
              "#7201a8"
             ],
             [
              0.3333333333333333,
              "#9c179e"
             ],
             [
              0.4444444444444444,
              "#bd3786"
             ],
             [
              0.5555555555555556,
              "#d8576b"
             ],
             [
              0.6666666666666666,
              "#ed7953"
             ],
             [
              0.7777777777777778,
              "#fb9f3a"
             ],
             [
              0.8888888888888888,
              "#fdca26"
             ],
             [
              1,
              "#f0f921"
             ]
            ],
            "type": "heatmapgl"
           }
          ],
          "histogram": [
           {
            "marker": {
             "colorbar": {
              "outlinewidth": 0,
              "ticks": ""
             }
            },
            "type": "histogram"
           }
          ],
          "histogram2d": [
           {
            "colorbar": {
             "outlinewidth": 0,
             "ticks": ""
            },
            "colorscale": [
             [
              0,
              "#0d0887"
             ],
             [
              0.1111111111111111,
              "#46039f"
             ],
             [
              0.2222222222222222,
              "#7201a8"
             ],
             [
              0.3333333333333333,
              "#9c179e"
             ],
             [
              0.4444444444444444,
              "#bd3786"
             ],
             [
              0.5555555555555556,
              "#d8576b"
             ],
             [
              0.6666666666666666,
              "#ed7953"
             ],
             [
              0.7777777777777778,
              "#fb9f3a"
             ],
             [
              0.8888888888888888,
              "#fdca26"
             ],
             [
              1,
              "#f0f921"
             ]
            ],
            "type": "histogram2d"
           }
          ],
          "histogram2dcontour": [
           {
            "colorbar": {
             "outlinewidth": 0,
             "ticks": ""
            },
            "colorscale": [
             [
              0,
              "#0d0887"
             ],
             [
              0.1111111111111111,
              "#46039f"
             ],
             [
              0.2222222222222222,
              "#7201a8"
             ],
             [
              0.3333333333333333,
              "#9c179e"
             ],
             [
              0.4444444444444444,
              "#bd3786"
             ],
             [
              0.5555555555555556,
              "#d8576b"
             ],
             [
              0.6666666666666666,
              "#ed7953"
             ],
             [
              0.7777777777777778,
              "#fb9f3a"
             ],
             [
              0.8888888888888888,
              "#fdca26"
             ],
             [
              1,
              "#f0f921"
             ]
            ],
            "type": "histogram2dcontour"
           }
          ],
          "mesh3d": [
           {
            "colorbar": {
             "outlinewidth": 0,
             "ticks": ""
            },
            "type": "mesh3d"
           }
          ],
          "parcoords": [
           {
            "line": {
             "colorbar": {
              "outlinewidth": 0,
              "ticks": ""
             }
            },
            "type": "parcoords"
           }
          ],
          "scatter": [
           {
            "marker": {
             "colorbar": {
              "outlinewidth": 0,
              "ticks": ""
             }
            },
            "type": "scatter"
           }
          ],
          "scatter3d": [
           {
            "line": {
             "colorbar": {
              "outlinewidth": 0,
              "ticks": ""
             }
            },
            "marker": {
             "colorbar": {
              "outlinewidth": 0,
              "ticks": ""
             }
            },
            "type": "scatter3d"
           }
          ],
          "scattercarpet": [
           {
            "marker": {
             "colorbar": {
              "outlinewidth": 0,
              "ticks": ""
             }
            },
            "type": "scattercarpet"
           }
          ],
          "scattergeo": [
           {
            "marker": {
             "colorbar": {
              "outlinewidth": 0,
              "ticks": ""
             }
            },
            "type": "scattergeo"
           }
          ],
          "scattergl": [
           {
            "marker": {
             "colorbar": {
              "outlinewidth": 0,
              "ticks": ""
             }
            },
            "type": "scattergl"
           }
          ],
          "scattermapbox": [
           {
            "marker": {
             "colorbar": {
              "outlinewidth": 0,
              "ticks": ""
             }
            },
            "type": "scattermapbox"
           }
          ],
          "scatterpolar": [
           {
            "marker": {
             "colorbar": {
              "outlinewidth": 0,
              "ticks": ""
             }
            },
            "type": "scatterpolar"
           }
          ],
          "scatterpolargl": [
           {
            "marker": {
             "colorbar": {
              "outlinewidth": 0,
              "ticks": ""
             }
            },
            "type": "scatterpolargl"
           }
          ],
          "scatterternary": [
           {
            "marker": {
             "colorbar": {
              "outlinewidth": 0,
              "ticks": ""
             }
            },
            "type": "scatterternary"
           }
          ],
          "surface": [
           {
            "colorbar": {
             "outlinewidth": 0,
             "ticks": ""
            },
            "colorscale": [
             [
              0,
              "#0d0887"
             ],
             [
              0.1111111111111111,
              "#46039f"
             ],
             [
              0.2222222222222222,
              "#7201a8"
             ],
             [
              0.3333333333333333,
              "#9c179e"
             ],
             [
              0.4444444444444444,
              "#bd3786"
             ],
             [
              0.5555555555555556,
              "#d8576b"
             ],
             [
              0.6666666666666666,
              "#ed7953"
             ],
             [
              0.7777777777777778,
              "#fb9f3a"
             ],
             [
              0.8888888888888888,
              "#fdca26"
             ],
             [
              1,
              "#f0f921"
             ]
            ],
            "type": "surface"
           }
          ],
          "table": [
           {
            "cells": {
             "fill": {
              "color": "#EBF0F8"
             },
             "line": {
              "color": "white"
             }
            },
            "header": {
             "fill": {
              "color": "#C8D4E3"
             },
             "line": {
              "color": "white"
             }
            },
            "type": "table"
           }
          ]
         },
         "layout": {
          "annotationdefaults": {
           "arrowcolor": "#2a3f5f",
           "arrowhead": 0,
           "arrowwidth": 1
          },
          "colorscale": {
           "diverging": [
            [
             0,
             "#8e0152"
            ],
            [
             0.1,
             "#c51b7d"
            ],
            [
             0.2,
             "#de77ae"
            ],
            [
             0.3,
             "#f1b6da"
            ],
            [
             0.4,
             "#fde0ef"
            ],
            [
             0.5,
             "#f7f7f7"
            ],
            [
             0.6,
             "#e6f5d0"
            ],
            [
             0.7,
             "#b8e186"
            ],
            [
             0.8,
             "#7fbc41"
            ],
            [
             0.9,
             "#4d9221"
            ],
            [
             1,
             "#276419"
            ]
           ],
           "sequential": [
            [
             0,
             "#0d0887"
            ],
            [
             0.1111111111111111,
             "#46039f"
            ],
            [
             0.2222222222222222,
             "#7201a8"
            ],
            [
             0.3333333333333333,
             "#9c179e"
            ],
            [
             0.4444444444444444,
             "#bd3786"
            ],
            [
             0.5555555555555556,
             "#d8576b"
            ],
            [
             0.6666666666666666,
             "#ed7953"
            ],
            [
             0.7777777777777778,
             "#fb9f3a"
            ],
            [
             0.8888888888888888,
             "#fdca26"
            ],
            [
             1,
             "#f0f921"
            ]
           ],
           "sequentialminus": [
            [
             0,
             "#0d0887"
            ],
            [
             0.1111111111111111,
             "#46039f"
            ],
            [
             0.2222222222222222,
             "#7201a8"
            ],
            [
             0.3333333333333333,
             "#9c179e"
            ],
            [
             0.4444444444444444,
             "#bd3786"
            ],
            [
             0.5555555555555556,
             "#d8576b"
            ],
            [
             0.6666666666666666,
             "#ed7953"
            ],
            [
             0.7777777777777778,
             "#fb9f3a"
            ],
            [
             0.8888888888888888,
             "#fdca26"
            ],
            [
             1,
             "#f0f921"
            ]
           ]
          },
          "colorway": [
           "#636efa",
           "#EF553B",
           "#00cc96",
           "#ab63fa",
           "#FFA15A",
           "#19d3f3",
           "#FF6692",
           "#B6E880",
           "#FF97FF",
           "#FECB52"
          ],
          "font": {
           "color": "#2a3f5f"
          },
          "geo": {
           "bgcolor": "white",
           "lakecolor": "white",
           "landcolor": "#E5ECF6",
           "showlakes": true,
           "showland": true,
           "subunitcolor": "white"
          },
          "hoverlabel": {
           "align": "left"
          },
          "hovermode": "closest",
          "mapbox": {
           "style": "light"
          },
          "paper_bgcolor": "white",
          "plot_bgcolor": "#E5ECF6",
          "polar": {
           "angularaxis": {
            "gridcolor": "white",
            "linecolor": "white",
            "ticks": ""
           },
           "bgcolor": "#E5ECF6",
           "radialaxis": {
            "gridcolor": "white",
            "linecolor": "white",
            "ticks": ""
           }
          },
          "scene": {
           "xaxis": {
            "backgroundcolor": "#E5ECF6",
            "gridcolor": "white",
            "gridwidth": 2,
            "linecolor": "white",
            "showbackground": true,
            "ticks": "",
            "zerolinecolor": "white"
           },
           "yaxis": {
            "backgroundcolor": "#E5ECF6",
            "gridcolor": "white",
            "gridwidth": 2,
            "linecolor": "white",
            "showbackground": true,
            "ticks": "",
            "zerolinecolor": "white"
           },
           "zaxis": {
            "backgroundcolor": "#E5ECF6",
            "gridcolor": "white",
            "gridwidth": 2,
            "linecolor": "white",
            "showbackground": true,
            "ticks": "",
            "zerolinecolor": "white"
           }
          },
          "shapedefaults": {
           "line": {
            "color": "#2a3f5f"
           }
          },
          "ternary": {
           "aaxis": {
            "gridcolor": "white",
            "linecolor": "white",
            "ticks": ""
           },
           "baxis": {
            "gridcolor": "white",
            "linecolor": "white",
            "ticks": ""
           },
           "bgcolor": "#E5ECF6",
           "caxis": {
            "gridcolor": "white",
            "linecolor": "white",
            "ticks": ""
           }
          },
          "title": {
           "x": 0.05
          },
          "xaxis": {
           "automargin": true,
           "gridcolor": "white",
           "linecolor": "white",
           "ticks": "",
           "zerolinecolor": "white",
           "zerolinewidth": 2
          },
          "yaxis": {
           "automargin": true,
           "gridcolor": "white",
           "linecolor": "white",
           "ticks": "",
           "zerolinecolor": "white",
           "zerolinewidth": 2
          }
         }
        },
        "title": {
         "text": "2016 Concentration of Republican Votes By State"
        }
       }
      },
      "text/html": [
       "<div>\n",
       "        \n",
       "        \n",
       "            <div id=\"34e2b716-d8cf-4d12-9d43-4f10c84a93c7\" class=\"plotly-graph-div\" style=\"height:525px; width:100%;\"></div>\n",
       "            <script type=\"text/javascript\">\n",
       "                require([\"plotly\"], function(Plotly) {\n",
       "                    window.PLOTLYENV=window.PLOTLYENV || {};\n",
       "                    \n",
       "                if (document.getElementById(\"34e2b716-d8cf-4d12-9d43-4f10c84a93c7\")) {\n",
       "                    Plotly.newPlot(\n",
       "                        '34e2b716-d8cf-4d12-9d43-4f10c84a93c7',\n",
       "                        [{\"colorbar\": {\"title\": {\"text\": \"# of voters\"}}, \"colorscale\": [[0.0, \"rgb(255,245,240)\"], [0.125, \"rgb(254,224,210)\"], [0.25, \"rgb(252,187,161)\"], [0.375, \"rgb(252,146,114)\"], [0.5, \"rgb(251,106,74)\"], [0.625, \"rgb(239,59,44)\"], [0.75, \"rgb(203,24,29)\"], [0.875, \"rgb(165,15,21)\"], [1.0, \"rgb(103,0,13)\"]], \"locationmode\": \"USA-states\", \"locations\": [\"AL\", \"AR\", \"AZ\", \"CA\", \"CO\", \"CT\", \"DC\", \"DE\", \"FL\", \"GA\", \"HI\", \"IA\", \"ID\", \"IL\", \"IN\", \"KS\", \"KY\", \"LA\", \"MA\", \"MD\", \"ME\", \"MI\", \"MN\", \"MO\", \"MS\", \"MT\", \"NC\", \"ND\", \"NE\", \"NH\", \"NJ\", \"NM\", \"NV\", \"NY\", \"OH\", \"OK\", \"OR\", \"PA\", \"RI\", \"SC\", \"SD\", \"TN\", \"TX\", \"UT\", \"VA\", \"VT\", \"WA\", \"WI\", \"WV\", \"WY\"], \"text\": [\"Republican Votes: 1306925<br>Total Votes: 2078165<br>Population 2014: 4849377\", \"Republican Votes: 677904<br>Total Votes: 1108615<br>Population 2014: 2966369\", \"Republican Votes: 1021154<br>Total Votes: 2062810<br>Population 2014: 6731484\", \"Republican Votes: 3841134<br>Total Votes: 11733523<br>Population 2014: 38802500\", \"Republican Votes: 1137455<br>Total Votes: 2564185<br>Population 2014: 5355866\", \"Republican Votes: 668266<br>Total Votes: 1623542<br>Population 2014: 3596677\", \"Republican Votes: 11553<br>Total Votes: 280272<br>Population 2014: 658893\", \"Republican Votes: 185103<br>Total Votes: 441535<br>Population 2014: 935614\", \"Republican Votes: 4605515<br>Total Votes: 9386750<br>Population 2014: 19893297\", \"Republican Votes: 2068623<br>Total Votes: 4029564<br>Population 2014: 10097343\", \"Republican Votes: 128815<br>Total Votes: 428825<br>Population 2014: 1419472\", \"Republican Votes: 798923<br>Total Votes: 1542880<br>Population 2014: 3107126\", \"Republican Votes: 407199<br>Total Votes: 688235<br>Population 2014: 1634464\", \"Republican Votes: 2118179<br>Total Votes: 5374280<br>Population 2014: 12880580\", \"Republican Votes: 1556220<br>Total Votes: 2722029<br>Population 2014: 6596855\", \"Republican Votes: 656009<br>Total Votes: 1147143<br>Population 2014: 2904021\", \"Republican Votes: 1202942<br>Total Votes: 1922218<br>Population 2014: 4413457\", \"Republican Votes: 1178004<br>Total Votes: 2027731<br>Population 2014: 4649676\", \"Republican Votes: 1083069<br>Total Votes: 3231531<br>Population 2014: 6745408\", \"Republican Votes: 873646<br>Total Votes: 2474543<br>Population 2014: 5976407\", \"Republican Votes: 334838<br>Total Votes: 741550<br>Population 2014: 1330089\", \"Republican Votes: 2279805<br>Total Votes: 4790917<br>Population 2014: 9909877\", \"Republican Votes: 1322891<br>Total Votes: 2916404<br>Population 2014: 5457173\", \"Republican Votes: 1585753<br>Total Votes: 2775098<br>Population 2014: 6063589\", \"Republican Votes: 678457<br>Total Votes: 1162987<br>Population 2014: 2994079\", \"Republican Votes: 274120<br>Total Votes: 483574<br>Population 2014: 1023579\", \"Republican Votes: 2339603<br>Total Votes: 4629471<br>Population 2014: 9943964\", \"Republican Votes: 216133<br>Total Votes: 336968<br>Population 2014: 739482\", \"Republican Votes: 485819<br>Total Votes: 805638<br>Population 2014: 1881503\", \"Republican Votes: 345789<br>Total Votes: 731553<br>Population 2014: 1326813\", \"Republican Votes: 1535513<br>Total Votes: 3674893<br>Population 2014: 8938175\", \"Republican Votes: 315875<br>Total Votes: 783127<br>Population 2014: 2085572\", \"Republican Votes: 511319<br>Total Votes: 1122990<br>Population 2014: 2839099\", \"Republican Votes: 2640570<br>Total Votes: 7046175<br>Population 2014: 19746227\", \"Republican Votes: 2771984<br>Total Votes: 5325395<br>Population 2014: 11594163\", \"Republican Votes: 947934<br>Total Votes: 1451056<br>Population 2014: 3878051\", \"Republican Votes: 742506<br>Total Votes: 1808575<br>Population 2014: 3970239\", \"Republican Votes: 2912941<br>Total Votes: 5970107<br>Population 2014: 12787209\", \"Republican Votes: 179421<br>Total Votes: 450121<br>Population 2014: 1055173\", \"Republican Votes: 1143611<br>Total Votes: 2084444<br>Population 2014: 4832482\", \"Republican Votes: 227701<br>Total Votes: 370047<br>Population 2014: 853175\", \"Republican Votes: 1517402<br>Total Votes: 2484691<br>Population 2014: 6549352\", \"Republican Votes: 4681590<br>Total Votes: 8903237<br>Population 2014: 26956958\", \"Republican Votes: 452086<br>Total Votes: 984957<br>Population 2014: 2942902\", \"Republican Votes: 1731156<br>Total Votes: 3844787<br>Population 2014: 8326289\", \"Republican Votes: 95053<br>Total Votes: 291413<br>Population 2014: 626562\", \"Republican Votes: 1129120<br>Total Votes: 2957942<br>Population 2014: 7061530\", \"Republican Votes: 1409467<br>Total Votes: 2944620<br>Population 2014: 5757564\", \"Republican Votes: 486198<br>Total Votes: 708226<br>Population 2014: 1850326\", \"Republican Votes: 174248<br>Total Votes: 248742<br>Population 2014: 584153\"], \"type\": \"choropleth\", \"z\": [1306925, 677904, 1021154, 3841134, 1137455, 668266, 11553, 185103, 4605515, 2068623, 128815, 798923, 407199, 2118179, 1556220, 656009, 1202942, 1178004, 1083069, 873646, 334838, 2279805, 1322891, 1585753, 678457, 274120, 2339603, 216133, 485819, 345789, 1535513, 315875, 511319, 2640570, 2771984, 947934, 742506, 2912941, 179421, 1143611, 227701, 1517402, 4681590, 452086, 1731156, 95053, 1129120, 1409467, 486198, 174248]}],\n",
       "                        {\"geo\": {\"scope\": \"usa\"}, \"template\": {\"data\": {\"bar\": [{\"error_x\": {\"color\": \"#2a3f5f\"}, \"error_y\": {\"color\": \"#2a3f5f\"}, \"marker\": {\"line\": {\"color\": \"#E5ECF6\", \"width\": 0.5}}, \"type\": \"bar\"}], \"barpolar\": [{\"marker\": {\"line\": {\"color\": \"#E5ECF6\", \"width\": 0.5}}, \"type\": \"barpolar\"}], \"carpet\": [{\"aaxis\": {\"endlinecolor\": \"#2a3f5f\", \"gridcolor\": \"white\", \"linecolor\": \"white\", \"minorgridcolor\": \"white\", \"startlinecolor\": \"#2a3f5f\"}, \"baxis\": {\"endlinecolor\": \"#2a3f5f\", \"gridcolor\": \"white\", \"linecolor\": \"white\", \"minorgridcolor\": \"white\", \"startlinecolor\": \"#2a3f5f\"}, \"type\": \"carpet\"}], \"choropleth\": [{\"colorbar\": {\"outlinewidth\": 0, \"ticks\": \"\"}, \"type\": \"choropleth\"}], \"contour\": [{\"colorbar\": {\"outlinewidth\": 0, \"ticks\": \"\"}, \"colorscale\": [[0.0, \"#0d0887\"], [0.1111111111111111, \"#46039f\"], [0.2222222222222222, \"#7201a8\"], [0.3333333333333333, \"#9c179e\"], [0.4444444444444444, \"#bd3786\"], [0.5555555555555556, \"#d8576b\"], [0.6666666666666666, \"#ed7953\"], [0.7777777777777778, \"#fb9f3a\"], [0.8888888888888888, \"#fdca26\"], [1.0, \"#f0f921\"]], \"type\": \"contour\"}], \"contourcarpet\": [{\"colorbar\": {\"outlinewidth\": 0, \"ticks\": \"\"}, \"type\": \"contourcarpet\"}], \"heatmap\": [{\"colorbar\": {\"outlinewidth\": 0, \"ticks\": \"\"}, \"colorscale\": [[0.0, \"#0d0887\"], [0.1111111111111111, \"#46039f\"], [0.2222222222222222, \"#7201a8\"], [0.3333333333333333, \"#9c179e\"], [0.4444444444444444, \"#bd3786\"], [0.5555555555555556, \"#d8576b\"], [0.6666666666666666, \"#ed7953\"], [0.7777777777777778, \"#fb9f3a\"], [0.8888888888888888, \"#fdca26\"], [1.0, \"#f0f921\"]], \"type\": \"heatmap\"}], \"heatmapgl\": [{\"colorbar\": {\"outlinewidth\": 0, \"ticks\": \"\"}, \"colorscale\": [[0.0, \"#0d0887\"], [0.1111111111111111, \"#46039f\"], [0.2222222222222222, \"#7201a8\"], [0.3333333333333333, \"#9c179e\"], [0.4444444444444444, \"#bd3786\"], [0.5555555555555556, \"#d8576b\"], [0.6666666666666666, \"#ed7953\"], [0.7777777777777778, \"#fb9f3a\"], [0.8888888888888888, \"#fdca26\"], [1.0, \"#f0f921\"]], \"type\": \"heatmapgl\"}], \"histogram\": [{\"marker\": {\"colorbar\": {\"outlinewidth\": 0, \"ticks\": \"\"}}, \"type\": \"histogram\"}], \"histogram2d\": [{\"colorbar\": {\"outlinewidth\": 0, \"ticks\": \"\"}, \"colorscale\": [[0.0, \"#0d0887\"], [0.1111111111111111, \"#46039f\"], [0.2222222222222222, \"#7201a8\"], [0.3333333333333333, \"#9c179e\"], [0.4444444444444444, \"#bd3786\"], [0.5555555555555556, \"#d8576b\"], [0.6666666666666666, \"#ed7953\"], [0.7777777777777778, \"#fb9f3a\"], [0.8888888888888888, \"#fdca26\"], [1.0, \"#f0f921\"]], \"type\": \"histogram2d\"}], \"histogram2dcontour\": [{\"colorbar\": {\"outlinewidth\": 0, \"ticks\": \"\"}, \"colorscale\": [[0.0, \"#0d0887\"], [0.1111111111111111, \"#46039f\"], [0.2222222222222222, \"#7201a8\"], [0.3333333333333333, \"#9c179e\"], [0.4444444444444444, \"#bd3786\"], [0.5555555555555556, \"#d8576b\"], [0.6666666666666666, \"#ed7953\"], [0.7777777777777778, \"#fb9f3a\"], [0.8888888888888888, \"#fdca26\"], [1.0, \"#f0f921\"]], \"type\": \"histogram2dcontour\"}], \"mesh3d\": [{\"colorbar\": {\"outlinewidth\": 0, \"ticks\": \"\"}, \"type\": \"mesh3d\"}], \"parcoords\": [{\"line\": {\"colorbar\": {\"outlinewidth\": 0, \"ticks\": \"\"}}, \"type\": \"parcoords\"}], \"scatter\": [{\"marker\": {\"colorbar\": {\"outlinewidth\": 0, \"ticks\": \"\"}}, \"type\": \"scatter\"}], \"scatter3d\": [{\"line\": {\"colorbar\": {\"outlinewidth\": 0, \"ticks\": \"\"}}, \"marker\": {\"colorbar\": {\"outlinewidth\": 0, \"ticks\": \"\"}}, \"type\": \"scatter3d\"}], \"scattercarpet\": [{\"marker\": {\"colorbar\": {\"outlinewidth\": 0, \"ticks\": \"\"}}, \"type\": \"scattercarpet\"}], \"scattergeo\": [{\"marker\": {\"colorbar\": {\"outlinewidth\": 0, \"ticks\": \"\"}}, \"type\": \"scattergeo\"}], \"scattergl\": [{\"marker\": {\"colorbar\": {\"outlinewidth\": 0, \"ticks\": \"\"}}, \"type\": \"scattergl\"}], \"scattermapbox\": [{\"marker\": {\"colorbar\": {\"outlinewidth\": 0, \"ticks\": \"\"}}, \"type\": \"scattermapbox\"}], \"scatterpolar\": [{\"marker\": {\"colorbar\": {\"outlinewidth\": 0, \"ticks\": \"\"}}, \"type\": \"scatterpolar\"}], \"scatterpolargl\": [{\"marker\": {\"colorbar\": {\"outlinewidth\": 0, \"ticks\": \"\"}}, \"type\": \"scatterpolargl\"}], \"scatterternary\": [{\"marker\": {\"colorbar\": {\"outlinewidth\": 0, \"ticks\": \"\"}}, \"type\": \"scatterternary\"}], \"surface\": [{\"colorbar\": {\"outlinewidth\": 0, \"ticks\": \"\"}, \"colorscale\": [[0.0, \"#0d0887\"], [0.1111111111111111, \"#46039f\"], [0.2222222222222222, \"#7201a8\"], [0.3333333333333333, \"#9c179e\"], [0.4444444444444444, \"#bd3786\"], [0.5555555555555556, \"#d8576b\"], [0.6666666666666666, \"#ed7953\"], [0.7777777777777778, \"#fb9f3a\"], [0.8888888888888888, \"#fdca26\"], [1.0, \"#f0f921\"]], \"type\": \"surface\"}], \"table\": [{\"cells\": {\"fill\": {\"color\": \"#EBF0F8\"}, \"line\": {\"color\": \"white\"}}, \"header\": {\"fill\": {\"color\": \"#C8D4E3\"}, \"line\": {\"color\": \"white\"}}, \"type\": \"table\"}]}, \"layout\": {\"annotationdefaults\": {\"arrowcolor\": \"#2a3f5f\", \"arrowhead\": 0, \"arrowwidth\": 1}, \"colorscale\": {\"diverging\": [[0, \"#8e0152\"], [0.1, \"#c51b7d\"], [0.2, \"#de77ae\"], [0.3, \"#f1b6da\"], [0.4, \"#fde0ef\"], [0.5, \"#f7f7f7\"], [0.6, \"#e6f5d0\"], [0.7, \"#b8e186\"], [0.8, \"#7fbc41\"], [0.9, \"#4d9221\"], [1, \"#276419\"]], \"sequential\": [[0.0, \"#0d0887\"], [0.1111111111111111, \"#46039f\"], [0.2222222222222222, \"#7201a8\"], [0.3333333333333333, \"#9c179e\"], [0.4444444444444444, \"#bd3786\"], [0.5555555555555556, \"#d8576b\"], [0.6666666666666666, \"#ed7953\"], [0.7777777777777778, \"#fb9f3a\"], [0.8888888888888888, \"#fdca26\"], [1.0, \"#f0f921\"]], \"sequentialminus\": [[0.0, \"#0d0887\"], [0.1111111111111111, \"#46039f\"], [0.2222222222222222, \"#7201a8\"], [0.3333333333333333, \"#9c179e\"], [0.4444444444444444, \"#bd3786\"], [0.5555555555555556, \"#d8576b\"], [0.6666666666666666, \"#ed7953\"], [0.7777777777777778, \"#fb9f3a\"], [0.8888888888888888, \"#fdca26\"], [1.0, \"#f0f921\"]]}, \"colorway\": [\"#636efa\", \"#EF553B\", \"#00cc96\", \"#ab63fa\", \"#FFA15A\", \"#19d3f3\", \"#FF6692\", \"#B6E880\", \"#FF97FF\", \"#FECB52\"], \"font\": {\"color\": \"#2a3f5f\"}, \"geo\": {\"bgcolor\": \"white\", \"lakecolor\": \"white\", \"landcolor\": \"#E5ECF6\", \"showlakes\": true, \"showland\": true, \"subunitcolor\": \"white\"}, \"hoverlabel\": {\"align\": \"left\"}, \"hovermode\": \"closest\", \"mapbox\": {\"style\": \"light\"}, \"paper_bgcolor\": \"white\", \"plot_bgcolor\": \"#E5ECF6\", \"polar\": {\"angularaxis\": {\"gridcolor\": \"white\", \"linecolor\": \"white\", \"ticks\": \"\"}, \"bgcolor\": \"#E5ECF6\", \"radialaxis\": {\"gridcolor\": \"white\", \"linecolor\": \"white\", \"ticks\": \"\"}}, \"scene\": {\"xaxis\": {\"backgroundcolor\": \"#E5ECF6\", \"gridcolor\": \"white\", \"gridwidth\": 2, \"linecolor\": \"white\", \"showbackground\": true, \"ticks\": \"\", \"zerolinecolor\": \"white\"}, \"yaxis\": {\"backgroundcolor\": \"#E5ECF6\", \"gridcolor\": \"white\", \"gridwidth\": 2, \"linecolor\": \"white\", \"showbackground\": true, \"ticks\": \"\", \"zerolinecolor\": \"white\"}, \"zaxis\": {\"backgroundcolor\": \"#E5ECF6\", \"gridcolor\": \"white\", \"gridwidth\": 2, \"linecolor\": \"white\", \"showbackground\": true, \"ticks\": \"\", \"zerolinecolor\": \"white\"}}, \"shapedefaults\": {\"line\": {\"color\": \"#2a3f5f\"}}, \"ternary\": {\"aaxis\": {\"gridcolor\": \"white\", \"linecolor\": \"white\", \"ticks\": \"\"}, \"baxis\": {\"gridcolor\": \"white\", \"linecolor\": \"white\", \"ticks\": \"\"}, \"bgcolor\": \"#E5ECF6\", \"caxis\": {\"gridcolor\": \"white\", \"linecolor\": \"white\", \"ticks\": \"\"}}, \"title\": {\"x\": 0.05}, \"xaxis\": {\"automargin\": true, \"gridcolor\": \"white\", \"linecolor\": \"white\", \"ticks\": \"\", \"zerolinecolor\": \"white\", \"zerolinewidth\": 2}, \"yaxis\": {\"automargin\": true, \"gridcolor\": \"white\", \"linecolor\": \"white\", \"ticks\": \"\", \"zerolinecolor\": \"white\", \"zerolinewidth\": 2}}}, \"title\": {\"text\": \"2016 Concentration of Republican Votes By State\"}},\n",
       "                        {\"responsive\": true}\n",
       "                    ).then(function(){\n",
       "                            \n",
       "var gd = document.getElementById('34e2b716-d8cf-4d12-9d43-4f10c84a93c7');\n",
       "var x = new MutationObserver(function (mutations, observer) {{\n",
       "        var display = window.getComputedStyle(gd).display;\n",
       "        if (!display || display === 'none') {{\n",
       "            console.log([gd, 'removed!']);\n",
       "            Plotly.purge(gd);\n",
       "            observer.disconnect();\n",
       "        }}\n",
       "}});\n",
       "\n",
       "// Listen for the removal of the full notebook cells\n",
       "var notebookContainer = gd.closest('#notebook-container');\n",
       "if (notebookContainer) {{\n",
       "    x.observe(notebookContainer, {childList: true});\n",
       "}}\n",
       "\n",
       "// Listen for the clearing of the current output cell\n",
       "var outputEl = gd.closest('.output');\n",
       "if (outputEl) {{\n",
       "    x.observe(outputEl, {childList: true});\n",
       "}}\n",
       "\n",
       "                        })\n",
       "                };\n",
       "                });\n",
       "            </script>\n",
       "        </div>"
      ]
     },
     "metadata": {},
     "output_type": "display_data"
    }
   ],
   "source": [
    "text =\\\n",
    "    'Republican Votes: ' + concentration_votes_2016['votes_gop_2016'].astype(str) + '<br>' + \\\n",
    "    'Total Votes: ' + concentration_votes_2016['total_votes_2016'].astype(str) + '<br>' + \\\n",
    "    'Population 2014: ' + concentration_votes_2016['population2014'].astype(str)\n",
    "\n",
    "fig2 = go.Figure(\n",
    "    data=go.Choropleth(\n",
    "        locations=concentration_votes_2016.index, \n",
    "        z = concentration_votes_2016['votes_gop_2016'].astype(int), \n",
    "        locationmode = 'USA-states',\n",
    "        colorscale = 'Reds',\n",
    "        colorbar_title = \"# of voters\",\n",
    "        text=text\n",
    "    )\n",
    "    \n",
    ")\n",
    "\n",
    "fig2.update_layout(\n",
    "    title_text = '2016 Concentration of Republican Votes By State',\n",
    "    geo_scope='usa',\n",
    ")\n",
    "\n",
    "fig2.show()"
   ]
  },
  {
   "cell_type": "code",
   "execution_count": 116,
   "metadata": {},
   "outputs": [
    {
     "data": {
      "application/vnd.plotly.v1+json": {
       "config": {
        "plotlyServerURL": "https://plot.ly"
       },
       "data": [
        {
         "colorbar": {
          "title": {
           "text": "# of voters"
          }
         },
         "colorscale": [
          [
           0,
           "rgb(247,251,255)"
          ],
          [
           0.125,
           "rgb(222,235,247)"
          ],
          [
           0.25,
           "rgb(198,219,239)"
          ],
          [
           0.375,
           "rgb(158,202,225)"
          ],
          [
           0.5,
           "rgb(107,174,214)"
          ],
          [
           0.625,
           "rgb(66,146,198)"
          ],
          [
           0.75,
           "rgb(33,113,181)"
          ],
          [
           0.875,
           "rgb(8,81,156)"
          ],
          [
           1,
           "rgb(8,48,107)"
          ]
         ],
         "locationmode": "USA-states",
         "locations": [
          "AL",
          "AR",
          "AZ",
          "CA",
          "CO",
          "CT",
          "DC",
          "DE",
          "FL",
          "GA",
          "HI",
          "IA",
          "ID",
          "IL",
          "IN",
          "KS",
          "KY",
          "LA",
          "MA",
          "MD",
          "ME",
          "MI",
          "MN",
          "MO",
          "MS",
          "MT",
          "NC",
          "ND",
          "NE",
          "NH",
          "NJ",
          "NM",
          "NV",
          "NY",
          "OH",
          "OK",
          "OR",
          "PA",
          "RI",
          "SC",
          "SD",
          "TN",
          "TX",
          "UT",
          "VA",
          "VT",
          "WA",
          "WI",
          "WV",
          "WY"
         ],
         "text": [
          "Democratic Votes: 718084<br>Total Votes: 2078165<br>Population 2014: 4849377",
          "Democratic Votes: 378729<br>Total Votes: 1108615<br>Population 2014: 2966369",
          "Democratic Votes: 936250<br>Total Votes: 2062810<br>Population 2014: 6731484",
          "Democratic Votes: 7230699<br>Total Votes: 11733523<br>Population 2014: 38802500",
          "Democratic Votes: 1212209<br>Total Votes: 2564185<br>Population 2014: 5355866",
          "Democratic Votes: 884432<br>Total Votes: 1623542<br>Population 2014: 3596677",
          "Democratic Votes: 260223<br>Total Votes: 280272<br>Population 2014: 658893",
          "Democratic Votes: 235581<br>Total Votes: 441535<br>Population 2014: 935614",
          "Democratic Votes: 4485745<br>Total Votes: 9386750<br>Population 2014: 19893297",
          "Democratic Votes: 1837300<br>Total Votes: 4029564<br>Population 2014: 10097343",
          "Democratic Votes: 266827<br>Total Votes: 428825<br>Population 2014: 1419472",
          "Democratic Votes: 650790<br>Total Votes: 1542880<br>Population 2014: 3107126",
          "Democratic Votes: 189677<br>Total Votes: 688235<br>Population 2014: 1634464",
          "Democratic Votes: 2977498<br>Total Votes: 5374280<br>Population 2014: 12880580",
          "Democratic Votes: 1031953<br>Total Votes: 2722029<br>Population 2014: 6596855",
          "Democratic Votes: 414788<br>Total Votes: 1147143<br>Population 2014: 2904021",
          "Democratic Votes: 628834<br>Total Votes: 1922218<br>Population 2014: 4413457",
          "Democratic Votes: 779535<br>Total Votes: 2027731<br>Population 2014: 4649676",
          "Democratic Votes: 1964768<br>Total Votes: 3231531<br>Population 2014: 6745408",
          "Democratic Votes: 1497951<br>Total Votes: 2474543<br>Population 2014: 5976407",
          "Democratic Votes: 354873<br>Total Votes: 741550<br>Population 2014: 1330089",
          "Democratic Votes: 2268193<br>Total Votes: 4790917<br>Population 2014: 9909877",
          "Democratic Votes: 1366676<br>Total Votes: 2916404<br>Population 2014: 5457173",
          "Democratic Votes: 1054889<br>Total Votes: 2775098<br>Population 2014: 6063589",
          "Democratic Votes: 462001<br>Total Votes: 1162987<br>Population 2014: 2994079",
          "Democratic Votes: 174521<br>Total Votes: 483574<br>Population 2014: 1023579",
          "Democratic Votes: 2162074<br>Total Votes: 4629471<br>Population 2014: 9943964",
          "Democratic Votes: 93526<br>Total Votes: 336968<br>Population 2014: 739482",
          "Democratic Votes: 273858<br>Total Votes: 805638<br>Population 2014: 1881503",
          "Democratic Votes: 348521<br>Total Votes: 731553<br>Population 2014: 1326813",
          "Democratic Votes: 2021756<br>Total Votes: 3674893<br>Population 2014: 8938175",
          "Democratic Votes: 380724<br>Total Votes: 783127<br>Population 2014: 2085572",
          "Democratic Votes: 537753<br>Total Votes: 1122990<br>Population 2014: 2839099",
          "Democratic Votes: 4143874<br>Total Votes: 7046175<br>Population 2014: 19746227",
          "Democratic Votes: 2317001<br>Total Votes: 5325395<br>Population 2014: 11594163",
          "Democratic Votes: 419788<br>Total Votes: 1451056<br>Population 2014: 3878051",
          "Democratic Votes: 934631<br>Total Votes: 1808575<br>Population 2014: 3970239",
          "Democratic Votes: 2844705<br>Total Votes: 5970107<br>Population 2014: 12787209",
          "Democratic Votes: 249902<br>Total Votes: 450121<br>Population 2014: 1055173",
          "Democratic Votes: 849469<br>Total Votes: 2084444<br>Population 2014: 4832482",
          "Democratic Votes: 117442<br>Total Votes: 370047<br>Population 2014: 853175",
          "Democratic Votes: 867110<br>Total Votes: 2484691<br>Population 2014: 6549352",
          "Democratic Votes: 3867816<br>Total Votes: 8903237<br>Population 2014: 26956958",
          "Democratic Votes: 274188<br>Total Votes: 984957<br>Population 2014: 2942902",
          "Democratic Votes: 1916845<br>Total Votes: 3844787<br>Population 2014: 8326289",
          "Democratic Votes: 178179<br>Total Votes: 291413<br>Population 2014: 626562",
          "Democratic Votes: 1610524<br>Total Votes: 2957942<br>Population 2014: 7061530",
          "Democratic Votes: 1382210<br>Total Votes: 2944620<br>Population 2014: 5757564",
          "Democratic Votes: 187457<br>Total Votes: 708226<br>Population 2014: 1850326",
          "Democratic Votes: 55949<br>Total Votes: 248742<br>Population 2014: 584153"
         ],
         "type": "choropleth",
         "z": [
          718084,
          378729,
          936250,
          7230699,
          1212209,
          884432,
          260223,
          235581,
          4485745,
          1837300,
          266827,
          650790,
          189677,
          2977498,
          1031953,
          414788,
          628834,
          779535,
          1964768,
          1497951,
          354873,
          2268193,
          1366676,
          1054889,
          462001,
          174521,
          2162074,
          93526,
          273858,
          348521,
          2021756,
          380724,
          537753,
          4143874,
          2317001,
          419788,
          934631,
          2844705,
          249902,
          849469,
          117442,
          867110,
          3867816,
          274188,
          1916845,
          178179,
          1610524,
          1382210,
          187457,
          55949
         ]
        }
       ],
       "layout": {
        "geo": {
         "scope": "usa"
        },
        "template": {
         "data": {
          "bar": [
           {
            "error_x": {
             "color": "#2a3f5f"
            },
            "error_y": {
             "color": "#2a3f5f"
            },
            "marker": {
             "line": {
              "color": "#E5ECF6",
              "width": 0.5
             }
            },
            "type": "bar"
           }
          ],
          "barpolar": [
           {
            "marker": {
             "line": {
              "color": "#E5ECF6",
              "width": 0.5
             }
            },
            "type": "barpolar"
           }
          ],
          "carpet": [
           {
            "aaxis": {
             "endlinecolor": "#2a3f5f",
             "gridcolor": "white",
             "linecolor": "white",
             "minorgridcolor": "white",
             "startlinecolor": "#2a3f5f"
            },
            "baxis": {
             "endlinecolor": "#2a3f5f",
             "gridcolor": "white",
             "linecolor": "white",
             "minorgridcolor": "white",
             "startlinecolor": "#2a3f5f"
            },
            "type": "carpet"
           }
          ],
          "choropleth": [
           {
            "colorbar": {
             "outlinewidth": 0,
             "ticks": ""
            },
            "type": "choropleth"
           }
          ],
          "contour": [
           {
            "colorbar": {
             "outlinewidth": 0,
             "ticks": ""
            },
            "colorscale": [
             [
              0,
              "#0d0887"
             ],
             [
              0.1111111111111111,
              "#46039f"
             ],
             [
              0.2222222222222222,
              "#7201a8"
             ],
             [
              0.3333333333333333,
              "#9c179e"
             ],
             [
              0.4444444444444444,
              "#bd3786"
             ],
             [
              0.5555555555555556,
              "#d8576b"
             ],
             [
              0.6666666666666666,
              "#ed7953"
             ],
             [
              0.7777777777777778,
              "#fb9f3a"
             ],
             [
              0.8888888888888888,
              "#fdca26"
             ],
             [
              1,
              "#f0f921"
             ]
            ],
            "type": "contour"
           }
          ],
          "contourcarpet": [
           {
            "colorbar": {
             "outlinewidth": 0,
             "ticks": ""
            },
            "type": "contourcarpet"
           }
          ],
          "heatmap": [
           {
            "colorbar": {
             "outlinewidth": 0,
             "ticks": ""
            },
            "colorscale": [
             [
              0,
              "#0d0887"
             ],
             [
              0.1111111111111111,
              "#46039f"
             ],
             [
              0.2222222222222222,
              "#7201a8"
             ],
             [
              0.3333333333333333,
              "#9c179e"
             ],
             [
              0.4444444444444444,
              "#bd3786"
             ],
             [
              0.5555555555555556,
              "#d8576b"
             ],
             [
              0.6666666666666666,
              "#ed7953"
             ],
             [
              0.7777777777777778,
              "#fb9f3a"
             ],
             [
              0.8888888888888888,
              "#fdca26"
             ],
             [
              1,
              "#f0f921"
             ]
            ],
            "type": "heatmap"
           }
          ],
          "heatmapgl": [
           {
            "colorbar": {
             "outlinewidth": 0,
             "ticks": ""
            },
            "colorscale": [
             [
              0,
              "#0d0887"
             ],
             [
              0.1111111111111111,
              "#46039f"
             ],
             [
              0.2222222222222222,
              "#7201a8"
             ],
             [
              0.3333333333333333,
              "#9c179e"
             ],
             [
              0.4444444444444444,
              "#bd3786"
             ],
             [
              0.5555555555555556,
              "#d8576b"
             ],
             [
              0.6666666666666666,
              "#ed7953"
             ],
             [
              0.7777777777777778,
              "#fb9f3a"
             ],
             [
              0.8888888888888888,
              "#fdca26"
             ],
             [
              1,
              "#f0f921"
             ]
            ],
            "type": "heatmapgl"
           }
          ],
          "histogram": [
           {
            "marker": {
             "colorbar": {
              "outlinewidth": 0,
              "ticks": ""
             }
            },
            "type": "histogram"
           }
          ],
          "histogram2d": [
           {
            "colorbar": {
             "outlinewidth": 0,
             "ticks": ""
            },
            "colorscale": [
             [
              0,
              "#0d0887"
             ],
             [
              0.1111111111111111,
              "#46039f"
             ],
             [
              0.2222222222222222,
              "#7201a8"
             ],
             [
              0.3333333333333333,
              "#9c179e"
             ],
             [
              0.4444444444444444,
              "#bd3786"
             ],
             [
              0.5555555555555556,
              "#d8576b"
             ],
             [
              0.6666666666666666,
              "#ed7953"
             ],
             [
              0.7777777777777778,
              "#fb9f3a"
             ],
             [
              0.8888888888888888,
              "#fdca26"
             ],
             [
              1,
              "#f0f921"
             ]
            ],
            "type": "histogram2d"
           }
          ],
          "histogram2dcontour": [
           {
            "colorbar": {
             "outlinewidth": 0,
             "ticks": ""
            },
            "colorscale": [
             [
              0,
              "#0d0887"
             ],
             [
              0.1111111111111111,
              "#46039f"
             ],
             [
              0.2222222222222222,
              "#7201a8"
             ],
             [
              0.3333333333333333,
              "#9c179e"
             ],
             [
              0.4444444444444444,
              "#bd3786"
             ],
             [
              0.5555555555555556,
              "#d8576b"
             ],
             [
              0.6666666666666666,
              "#ed7953"
             ],
             [
              0.7777777777777778,
              "#fb9f3a"
             ],
             [
              0.8888888888888888,
              "#fdca26"
             ],
             [
              1,
              "#f0f921"
             ]
            ],
            "type": "histogram2dcontour"
           }
          ],
          "mesh3d": [
           {
            "colorbar": {
             "outlinewidth": 0,
             "ticks": ""
            },
            "type": "mesh3d"
           }
          ],
          "parcoords": [
           {
            "line": {
             "colorbar": {
              "outlinewidth": 0,
              "ticks": ""
             }
            },
            "type": "parcoords"
           }
          ],
          "scatter": [
           {
            "marker": {
             "colorbar": {
              "outlinewidth": 0,
              "ticks": ""
             }
            },
            "type": "scatter"
           }
          ],
          "scatter3d": [
           {
            "line": {
             "colorbar": {
              "outlinewidth": 0,
              "ticks": ""
             }
            },
            "marker": {
             "colorbar": {
              "outlinewidth": 0,
              "ticks": ""
             }
            },
            "type": "scatter3d"
           }
          ],
          "scattercarpet": [
           {
            "marker": {
             "colorbar": {
              "outlinewidth": 0,
              "ticks": ""
             }
            },
            "type": "scattercarpet"
           }
          ],
          "scattergeo": [
           {
            "marker": {
             "colorbar": {
              "outlinewidth": 0,
              "ticks": ""
             }
            },
            "type": "scattergeo"
           }
          ],
          "scattergl": [
           {
            "marker": {
             "colorbar": {
              "outlinewidth": 0,
              "ticks": ""
             }
            },
            "type": "scattergl"
           }
          ],
          "scattermapbox": [
           {
            "marker": {
             "colorbar": {
              "outlinewidth": 0,
              "ticks": ""
             }
            },
            "type": "scattermapbox"
           }
          ],
          "scatterpolar": [
           {
            "marker": {
             "colorbar": {
              "outlinewidth": 0,
              "ticks": ""
             }
            },
            "type": "scatterpolar"
           }
          ],
          "scatterpolargl": [
           {
            "marker": {
             "colorbar": {
              "outlinewidth": 0,
              "ticks": ""
             }
            },
            "type": "scatterpolargl"
           }
          ],
          "scatterternary": [
           {
            "marker": {
             "colorbar": {
              "outlinewidth": 0,
              "ticks": ""
             }
            },
            "type": "scatterternary"
           }
          ],
          "surface": [
           {
            "colorbar": {
             "outlinewidth": 0,
             "ticks": ""
            },
            "colorscale": [
             [
              0,
              "#0d0887"
             ],
             [
              0.1111111111111111,
              "#46039f"
             ],
             [
              0.2222222222222222,
              "#7201a8"
             ],
             [
              0.3333333333333333,
              "#9c179e"
             ],
             [
              0.4444444444444444,
              "#bd3786"
             ],
             [
              0.5555555555555556,
              "#d8576b"
             ],
             [
              0.6666666666666666,
              "#ed7953"
             ],
             [
              0.7777777777777778,
              "#fb9f3a"
             ],
             [
              0.8888888888888888,
              "#fdca26"
             ],
             [
              1,
              "#f0f921"
             ]
            ],
            "type": "surface"
           }
          ],
          "table": [
           {
            "cells": {
             "fill": {
              "color": "#EBF0F8"
             },
             "line": {
              "color": "white"
             }
            },
            "header": {
             "fill": {
              "color": "#C8D4E3"
             },
             "line": {
              "color": "white"
             }
            },
            "type": "table"
           }
          ]
         },
         "layout": {
          "annotationdefaults": {
           "arrowcolor": "#2a3f5f",
           "arrowhead": 0,
           "arrowwidth": 1
          },
          "colorscale": {
           "diverging": [
            [
             0,
             "#8e0152"
            ],
            [
             0.1,
             "#c51b7d"
            ],
            [
             0.2,
             "#de77ae"
            ],
            [
             0.3,
             "#f1b6da"
            ],
            [
             0.4,
             "#fde0ef"
            ],
            [
             0.5,
             "#f7f7f7"
            ],
            [
             0.6,
             "#e6f5d0"
            ],
            [
             0.7,
             "#b8e186"
            ],
            [
             0.8,
             "#7fbc41"
            ],
            [
             0.9,
             "#4d9221"
            ],
            [
             1,
             "#276419"
            ]
           ],
           "sequential": [
            [
             0,
             "#0d0887"
            ],
            [
             0.1111111111111111,
             "#46039f"
            ],
            [
             0.2222222222222222,
             "#7201a8"
            ],
            [
             0.3333333333333333,
             "#9c179e"
            ],
            [
             0.4444444444444444,
             "#bd3786"
            ],
            [
             0.5555555555555556,
             "#d8576b"
            ],
            [
             0.6666666666666666,
             "#ed7953"
            ],
            [
             0.7777777777777778,
             "#fb9f3a"
            ],
            [
             0.8888888888888888,
             "#fdca26"
            ],
            [
             1,
             "#f0f921"
            ]
           ],
           "sequentialminus": [
            [
             0,
             "#0d0887"
            ],
            [
             0.1111111111111111,
             "#46039f"
            ],
            [
             0.2222222222222222,
             "#7201a8"
            ],
            [
             0.3333333333333333,
             "#9c179e"
            ],
            [
             0.4444444444444444,
             "#bd3786"
            ],
            [
             0.5555555555555556,
             "#d8576b"
            ],
            [
             0.6666666666666666,
             "#ed7953"
            ],
            [
             0.7777777777777778,
             "#fb9f3a"
            ],
            [
             0.8888888888888888,
             "#fdca26"
            ],
            [
             1,
             "#f0f921"
            ]
           ]
          },
          "colorway": [
           "#636efa",
           "#EF553B",
           "#00cc96",
           "#ab63fa",
           "#FFA15A",
           "#19d3f3",
           "#FF6692",
           "#B6E880",
           "#FF97FF",
           "#FECB52"
          ],
          "font": {
           "color": "#2a3f5f"
          },
          "geo": {
           "bgcolor": "white",
           "lakecolor": "white",
           "landcolor": "#E5ECF6",
           "showlakes": true,
           "showland": true,
           "subunitcolor": "white"
          },
          "hoverlabel": {
           "align": "left"
          },
          "hovermode": "closest",
          "mapbox": {
           "style": "light"
          },
          "paper_bgcolor": "white",
          "plot_bgcolor": "#E5ECF6",
          "polar": {
           "angularaxis": {
            "gridcolor": "white",
            "linecolor": "white",
            "ticks": ""
           },
           "bgcolor": "#E5ECF6",
           "radialaxis": {
            "gridcolor": "white",
            "linecolor": "white",
            "ticks": ""
           }
          },
          "scene": {
           "xaxis": {
            "backgroundcolor": "#E5ECF6",
            "gridcolor": "white",
            "gridwidth": 2,
            "linecolor": "white",
            "showbackground": true,
            "ticks": "",
            "zerolinecolor": "white"
           },
           "yaxis": {
            "backgroundcolor": "#E5ECF6",
            "gridcolor": "white",
            "gridwidth": 2,
            "linecolor": "white",
            "showbackground": true,
            "ticks": "",
            "zerolinecolor": "white"
           },
           "zaxis": {
            "backgroundcolor": "#E5ECF6",
            "gridcolor": "white",
            "gridwidth": 2,
            "linecolor": "white",
            "showbackground": true,
            "ticks": "",
            "zerolinecolor": "white"
           }
          },
          "shapedefaults": {
           "line": {
            "color": "#2a3f5f"
           }
          },
          "ternary": {
           "aaxis": {
            "gridcolor": "white",
            "linecolor": "white",
            "ticks": ""
           },
           "baxis": {
            "gridcolor": "white",
            "linecolor": "white",
            "ticks": ""
           },
           "bgcolor": "#E5ECF6",
           "caxis": {
            "gridcolor": "white",
            "linecolor": "white",
            "ticks": ""
           }
          },
          "title": {
           "x": 0.05
          },
          "xaxis": {
           "automargin": true,
           "gridcolor": "white",
           "linecolor": "white",
           "ticks": "",
           "zerolinecolor": "white",
           "zerolinewidth": 2
          },
          "yaxis": {
           "automargin": true,
           "gridcolor": "white",
           "linecolor": "white",
           "ticks": "",
           "zerolinecolor": "white",
           "zerolinewidth": 2
          }
         }
        },
        "title": {
         "text": "2016 Concentration of Democratic Votes By State"
        }
       }
      },
      "text/html": [
       "<div>\n",
       "        \n",
       "        \n",
       "            <div id=\"950cbaf1-f730-48c3-b10c-9b5f7a976e2d\" class=\"plotly-graph-div\" style=\"height:525px; width:100%;\"></div>\n",
       "            <script type=\"text/javascript\">\n",
       "                require([\"plotly\"], function(Plotly) {\n",
       "                    window.PLOTLYENV=window.PLOTLYENV || {};\n",
       "                    \n",
       "                if (document.getElementById(\"950cbaf1-f730-48c3-b10c-9b5f7a976e2d\")) {\n",
       "                    Plotly.newPlot(\n",
       "                        '950cbaf1-f730-48c3-b10c-9b5f7a976e2d',\n",
       "                        [{\"colorbar\": {\"title\": {\"text\": \"# of voters\"}}, \"colorscale\": [[0.0, \"rgb(247,251,255)\"], [0.125, \"rgb(222,235,247)\"], [0.25, \"rgb(198,219,239)\"], [0.375, \"rgb(158,202,225)\"], [0.5, \"rgb(107,174,214)\"], [0.625, \"rgb(66,146,198)\"], [0.75, \"rgb(33,113,181)\"], [0.875, \"rgb(8,81,156)\"], [1.0, \"rgb(8,48,107)\"]], \"locationmode\": \"USA-states\", \"locations\": [\"AL\", \"AR\", \"AZ\", \"CA\", \"CO\", \"CT\", \"DC\", \"DE\", \"FL\", \"GA\", \"HI\", \"IA\", \"ID\", \"IL\", \"IN\", \"KS\", \"KY\", \"LA\", \"MA\", \"MD\", \"ME\", \"MI\", \"MN\", \"MO\", \"MS\", \"MT\", \"NC\", \"ND\", \"NE\", \"NH\", \"NJ\", \"NM\", \"NV\", \"NY\", \"OH\", \"OK\", \"OR\", \"PA\", \"RI\", \"SC\", \"SD\", \"TN\", \"TX\", \"UT\", \"VA\", \"VT\", \"WA\", \"WI\", \"WV\", \"WY\"], \"text\": [\"Democratic Votes: 718084<br>Total Votes: 2078165<br>Population 2014: 4849377\", \"Democratic Votes: 378729<br>Total Votes: 1108615<br>Population 2014: 2966369\", \"Democratic Votes: 936250<br>Total Votes: 2062810<br>Population 2014: 6731484\", \"Democratic Votes: 7230699<br>Total Votes: 11733523<br>Population 2014: 38802500\", \"Democratic Votes: 1212209<br>Total Votes: 2564185<br>Population 2014: 5355866\", \"Democratic Votes: 884432<br>Total Votes: 1623542<br>Population 2014: 3596677\", \"Democratic Votes: 260223<br>Total Votes: 280272<br>Population 2014: 658893\", \"Democratic Votes: 235581<br>Total Votes: 441535<br>Population 2014: 935614\", \"Democratic Votes: 4485745<br>Total Votes: 9386750<br>Population 2014: 19893297\", \"Democratic Votes: 1837300<br>Total Votes: 4029564<br>Population 2014: 10097343\", \"Democratic Votes: 266827<br>Total Votes: 428825<br>Population 2014: 1419472\", \"Democratic Votes: 650790<br>Total Votes: 1542880<br>Population 2014: 3107126\", \"Democratic Votes: 189677<br>Total Votes: 688235<br>Population 2014: 1634464\", \"Democratic Votes: 2977498<br>Total Votes: 5374280<br>Population 2014: 12880580\", \"Democratic Votes: 1031953<br>Total Votes: 2722029<br>Population 2014: 6596855\", \"Democratic Votes: 414788<br>Total Votes: 1147143<br>Population 2014: 2904021\", \"Democratic Votes: 628834<br>Total Votes: 1922218<br>Population 2014: 4413457\", \"Democratic Votes: 779535<br>Total Votes: 2027731<br>Population 2014: 4649676\", \"Democratic Votes: 1964768<br>Total Votes: 3231531<br>Population 2014: 6745408\", \"Democratic Votes: 1497951<br>Total Votes: 2474543<br>Population 2014: 5976407\", \"Democratic Votes: 354873<br>Total Votes: 741550<br>Population 2014: 1330089\", \"Democratic Votes: 2268193<br>Total Votes: 4790917<br>Population 2014: 9909877\", \"Democratic Votes: 1366676<br>Total Votes: 2916404<br>Population 2014: 5457173\", \"Democratic Votes: 1054889<br>Total Votes: 2775098<br>Population 2014: 6063589\", \"Democratic Votes: 462001<br>Total Votes: 1162987<br>Population 2014: 2994079\", \"Democratic Votes: 174521<br>Total Votes: 483574<br>Population 2014: 1023579\", \"Democratic Votes: 2162074<br>Total Votes: 4629471<br>Population 2014: 9943964\", \"Democratic Votes: 93526<br>Total Votes: 336968<br>Population 2014: 739482\", \"Democratic Votes: 273858<br>Total Votes: 805638<br>Population 2014: 1881503\", \"Democratic Votes: 348521<br>Total Votes: 731553<br>Population 2014: 1326813\", \"Democratic Votes: 2021756<br>Total Votes: 3674893<br>Population 2014: 8938175\", \"Democratic Votes: 380724<br>Total Votes: 783127<br>Population 2014: 2085572\", \"Democratic Votes: 537753<br>Total Votes: 1122990<br>Population 2014: 2839099\", \"Democratic Votes: 4143874<br>Total Votes: 7046175<br>Population 2014: 19746227\", \"Democratic Votes: 2317001<br>Total Votes: 5325395<br>Population 2014: 11594163\", \"Democratic Votes: 419788<br>Total Votes: 1451056<br>Population 2014: 3878051\", \"Democratic Votes: 934631<br>Total Votes: 1808575<br>Population 2014: 3970239\", \"Democratic Votes: 2844705<br>Total Votes: 5970107<br>Population 2014: 12787209\", \"Democratic Votes: 249902<br>Total Votes: 450121<br>Population 2014: 1055173\", \"Democratic Votes: 849469<br>Total Votes: 2084444<br>Population 2014: 4832482\", \"Democratic Votes: 117442<br>Total Votes: 370047<br>Population 2014: 853175\", \"Democratic Votes: 867110<br>Total Votes: 2484691<br>Population 2014: 6549352\", \"Democratic Votes: 3867816<br>Total Votes: 8903237<br>Population 2014: 26956958\", \"Democratic Votes: 274188<br>Total Votes: 984957<br>Population 2014: 2942902\", \"Democratic Votes: 1916845<br>Total Votes: 3844787<br>Population 2014: 8326289\", \"Democratic Votes: 178179<br>Total Votes: 291413<br>Population 2014: 626562\", \"Democratic Votes: 1610524<br>Total Votes: 2957942<br>Population 2014: 7061530\", \"Democratic Votes: 1382210<br>Total Votes: 2944620<br>Population 2014: 5757564\", \"Democratic Votes: 187457<br>Total Votes: 708226<br>Population 2014: 1850326\", \"Democratic Votes: 55949<br>Total Votes: 248742<br>Population 2014: 584153\"], \"type\": \"choropleth\", \"z\": [718084, 378729, 936250, 7230699, 1212209, 884432, 260223, 235581, 4485745, 1837300, 266827, 650790, 189677, 2977498, 1031953, 414788, 628834, 779535, 1964768, 1497951, 354873, 2268193, 1366676, 1054889, 462001, 174521, 2162074, 93526, 273858, 348521, 2021756, 380724, 537753, 4143874, 2317001, 419788, 934631, 2844705, 249902, 849469, 117442, 867110, 3867816, 274188, 1916845, 178179, 1610524, 1382210, 187457, 55949]}],\n",
       "                        {\"geo\": {\"scope\": \"usa\"}, \"template\": {\"data\": {\"bar\": [{\"error_x\": {\"color\": \"#2a3f5f\"}, \"error_y\": {\"color\": \"#2a3f5f\"}, \"marker\": {\"line\": {\"color\": \"#E5ECF6\", \"width\": 0.5}}, \"type\": \"bar\"}], \"barpolar\": [{\"marker\": {\"line\": {\"color\": \"#E5ECF6\", \"width\": 0.5}}, \"type\": \"barpolar\"}], \"carpet\": [{\"aaxis\": {\"endlinecolor\": \"#2a3f5f\", \"gridcolor\": \"white\", \"linecolor\": \"white\", \"minorgridcolor\": \"white\", \"startlinecolor\": \"#2a3f5f\"}, \"baxis\": {\"endlinecolor\": \"#2a3f5f\", \"gridcolor\": \"white\", \"linecolor\": \"white\", \"minorgridcolor\": \"white\", \"startlinecolor\": \"#2a3f5f\"}, \"type\": \"carpet\"}], \"choropleth\": [{\"colorbar\": {\"outlinewidth\": 0, \"ticks\": \"\"}, \"type\": \"choropleth\"}], \"contour\": [{\"colorbar\": {\"outlinewidth\": 0, \"ticks\": \"\"}, \"colorscale\": [[0.0, \"#0d0887\"], [0.1111111111111111, \"#46039f\"], [0.2222222222222222, \"#7201a8\"], [0.3333333333333333, \"#9c179e\"], [0.4444444444444444, \"#bd3786\"], [0.5555555555555556, \"#d8576b\"], [0.6666666666666666, \"#ed7953\"], [0.7777777777777778, \"#fb9f3a\"], [0.8888888888888888, \"#fdca26\"], [1.0, \"#f0f921\"]], \"type\": \"contour\"}], \"contourcarpet\": [{\"colorbar\": {\"outlinewidth\": 0, \"ticks\": \"\"}, \"type\": \"contourcarpet\"}], \"heatmap\": [{\"colorbar\": {\"outlinewidth\": 0, \"ticks\": \"\"}, \"colorscale\": [[0.0, \"#0d0887\"], [0.1111111111111111, \"#46039f\"], [0.2222222222222222, \"#7201a8\"], [0.3333333333333333, \"#9c179e\"], [0.4444444444444444, \"#bd3786\"], [0.5555555555555556, \"#d8576b\"], [0.6666666666666666, \"#ed7953\"], [0.7777777777777778, \"#fb9f3a\"], [0.8888888888888888, \"#fdca26\"], [1.0, \"#f0f921\"]], \"type\": \"heatmap\"}], \"heatmapgl\": [{\"colorbar\": {\"outlinewidth\": 0, \"ticks\": \"\"}, \"colorscale\": [[0.0, \"#0d0887\"], [0.1111111111111111, \"#46039f\"], [0.2222222222222222, \"#7201a8\"], [0.3333333333333333, \"#9c179e\"], [0.4444444444444444, \"#bd3786\"], [0.5555555555555556, \"#d8576b\"], [0.6666666666666666, \"#ed7953\"], [0.7777777777777778, \"#fb9f3a\"], [0.8888888888888888, \"#fdca26\"], [1.0, \"#f0f921\"]], \"type\": \"heatmapgl\"}], \"histogram\": [{\"marker\": {\"colorbar\": {\"outlinewidth\": 0, \"ticks\": \"\"}}, \"type\": \"histogram\"}], \"histogram2d\": [{\"colorbar\": {\"outlinewidth\": 0, \"ticks\": \"\"}, \"colorscale\": [[0.0, \"#0d0887\"], [0.1111111111111111, \"#46039f\"], [0.2222222222222222, \"#7201a8\"], [0.3333333333333333, \"#9c179e\"], [0.4444444444444444, \"#bd3786\"], [0.5555555555555556, \"#d8576b\"], [0.6666666666666666, \"#ed7953\"], [0.7777777777777778, \"#fb9f3a\"], [0.8888888888888888, \"#fdca26\"], [1.0, \"#f0f921\"]], \"type\": \"histogram2d\"}], \"histogram2dcontour\": [{\"colorbar\": {\"outlinewidth\": 0, \"ticks\": \"\"}, \"colorscale\": [[0.0, \"#0d0887\"], [0.1111111111111111, \"#46039f\"], [0.2222222222222222, \"#7201a8\"], [0.3333333333333333, \"#9c179e\"], [0.4444444444444444, \"#bd3786\"], [0.5555555555555556, \"#d8576b\"], [0.6666666666666666, \"#ed7953\"], [0.7777777777777778, \"#fb9f3a\"], [0.8888888888888888, \"#fdca26\"], [1.0, \"#f0f921\"]], \"type\": \"histogram2dcontour\"}], \"mesh3d\": [{\"colorbar\": {\"outlinewidth\": 0, \"ticks\": \"\"}, \"type\": \"mesh3d\"}], \"parcoords\": [{\"line\": {\"colorbar\": {\"outlinewidth\": 0, \"ticks\": \"\"}}, \"type\": \"parcoords\"}], \"scatter\": [{\"marker\": {\"colorbar\": {\"outlinewidth\": 0, \"ticks\": \"\"}}, \"type\": \"scatter\"}], \"scatter3d\": [{\"line\": {\"colorbar\": {\"outlinewidth\": 0, \"ticks\": \"\"}}, \"marker\": {\"colorbar\": {\"outlinewidth\": 0, \"ticks\": \"\"}}, \"type\": \"scatter3d\"}], \"scattercarpet\": [{\"marker\": {\"colorbar\": {\"outlinewidth\": 0, \"ticks\": \"\"}}, \"type\": \"scattercarpet\"}], \"scattergeo\": [{\"marker\": {\"colorbar\": {\"outlinewidth\": 0, \"ticks\": \"\"}}, \"type\": \"scattergeo\"}], \"scattergl\": [{\"marker\": {\"colorbar\": {\"outlinewidth\": 0, \"ticks\": \"\"}}, \"type\": \"scattergl\"}], \"scattermapbox\": [{\"marker\": {\"colorbar\": {\"outlinewidth\": 0, \"ticks\": \"\"}}, \"type\": \"scattermapbox\"}], \"scatterpolar\": [{\"marker\": {\"colorbar\": {\"outlinewidth\": 0, \"ticks\": \"\"}}, \"type\": \"scatterpolar\"}], \"scatterpolargl\": [{\"marker\": {\"colorbar\": {\"outlinewidth\": 0, \"ticks\": \"\"}}, \"type\": \"scatterpolargl\"}], \"scatterternary\": [{\"marker\": {\"colorbar\": {\"outlinewidth\": 0, \"ticks\": \"\"}}, \"type\": \"scatterternary\"}], \"surface\": [{\"colorbar\": {\"outlinewidth\": 0, \"ticks\": \"\"}, \"colorscale\": [[0.0, \"#0d0887\"], [0.1111111111111111, \"#46039f\"], [0.2222222222222222, \"#7201a8\"], [0.3333333333333333, \"#9c179e\"], [0.4444444444444444, \"#bd3786\"], [0.5555555555555556, \"#d8576b\"], [0.6666666666666666, \"#ed7953\"], [0.7777777777777778, \"#fb9f3a\"], [0.8888888888888888, \"#fdca26\"], [1.0, \"#f0f921\"]], \"type\": \"surface\"}], \"table\": [{\"cells\": {\"fill\": {\"color\": \"#EBF0F8\"}, \"line\": {\"color\": \"white\"}}, \"header\": {\"fill\": {\"color\": \"#C8D4E3\"}, \"line\": {\"color\": \"white\"}}, \"type\": \"table\"}]}, \"layout\": {\"annotationdefaults\": {\"arrowcolor\": \"#2a3f5f\", \"arrowhead\": 0, \"arrowwidth\": 1}, \"colorscale\": {\"diverging\": [[0, \"#8e0152\"], [0.1, \"#c51b7d\"], [0.2, \"#de77ae\"], [0.3, \"#f1b6da\"], [0.4, \"#fde0ef\"], [0.5, \"#f7f7f7\"], [0.6, \"#e6f5d0\"], [0.7, \"#b8e186\"], [0.8, \"#7fbc41\"], [0.9, \"#4d9221\"], [1, \"#276419\"]], \"sequential\": [[0.0, \"#0d0887\"], [0.1111111111111111, \"#46039f\"], [0.2222222222222222, \"#7201a8\"], [0.3333333333333333, \"#9c179e\"], [0.4444444444444444, \"#bd3786\"], [0.5555555555555556, \"#d8576b\"], [0.6666666666666666, \"#ed7953\"], [0.7777777777777778, \"#fb9f3a\"], [0.8888888888888888, \"#fdca26\"], [1.0, \"#f0f921\"]], \"sequentialminus\": [[0.0, \"#0d0887\"], [0.1111111111111111, \"#46039f\"], [0.2222222222222222, \"#7201a8\"], [0.3333333333333333, \"#9c179e\"], [0.4444444444444444, \"#bd3786\"], [0.5555555555555556, \"#d8576b\"], [0.6666666666666666, \"#ed7953\"], [0.7777777777777778, \"#fb9f3a\"], [0.8888888888888888, \"#fdca26\"], [1.0, \"#f0f921\"]]}, \"colorway\": [\"#636efa\", \"#EF553B\", \"#00cc96\", \"#ab63fa\", \"#FFA15A\", \"#19d3f3\", \"#FF6692\", \"#B6E880\", \"#FF97FF\", \"#FECB52\"], \"font\": {\"color\": \"#2a3f5f\"}, \"geo\": {\"bgcolor\": \"white\", \"lakecolor\": \"white\", \"landcolor\": \"#E5ECF6\", \"showlakes\": true, \"showland\": true, \"subunitcolor\": \"white\"}, \"hoverlabel\": {\"align\": \"left\"}, \"hovermode\": \"closest\", \"mapbox\": {\"style\": \"light\"}, \"paper_bgcolor\": \"white\", \"plot_bgcolor\": \"#E5ECF6\", \"polar\": {\"angularaxis\": {\"gridcolor\": \"white\", \"linecolor\": \"white\", \"ticks\": \"\"}, \"bgcolor\": \"#E5ECF6\", \"radialaxis\": {\"gridcolor\": \"white\", \"linecolor\": \"white\", \"ticks\": \"\"}}, \"scene\": {\"xaxis\": {\"backgroundcolor\": \"#E5ECF6\", \"gridcolor\": \"white\", \"gridwidth\": 2, \"linecolor\": \"white\", \"showbackground\": true, \"ticks\": \"\", \"zerolinecolor\": \"white\"}, \"yaxis\": {\"backgroundcolor\": \"#E5ECF6\", \"gridcolor\": \"white\", \"gridwidth\": 2, \"linecolor\": \"white\", \"showbackground\": true, \"ticks\": \"\", \"zerolinecolor\": \"white\"}, \"zaxis\": {\"backgroundcolor\": \"#E5ECF6\", \"gridcolor\": \"white\", \"gridwidth\": 2, \"linecolor\": \"white\", \"showbackground\": true, \"ticks\": \"\", \"zerolinecolor\": \"white\"}}, \"shapedefaults\": {\"line\": {\"color\": \"#2a3f5f\"}}, \"ternary\": {\"aaxis\": {\"gridcolor\": \"white\", \"linecolor\": \"white\", \"ticks\": \"\"}, \"baxis\": {\"gridcolor\": \"white\", \"linecolor\": \"white\", \"ticks\": \"\"}, \"bgcolor\": \"#E5ECF6\", \"caxis\": {\"gridcolor\": \"white\", \"linecolor\": \"white\", \"ticks\": \"\"}}, \"title\": {\"x\": 0.05}, \"xaxis\": {\"automargin\": true, \"gridcolor\": \"white\", \"linecolor\": \"white\", \"ticks\": \"\", \"zerolinecolor\": \"white\", \"zerolinewidth\": 2}, \"yaxis\": {\"automargin\": true, \"gridcolor\": \"white\", \"linecolor\": \"white\", \"ticks\": \"\", \"zerolinecolor\": \"white\", \"zerolinewidth\": 2}}}, \"title\": {\"text\": \"2016 Concentration of Democratic Votes By State\"}},\n",
       "                        {\"responsive\": true}\n",
       "                    ).then(function(){\n",
       "                            \n",
       "var gd = document.getElementById('950cbaf1-f730-48c3-b10c-9b5f7a976e2d');\n",
       "var x = new MutationObserver(function (mutations, observer) {{\n",
       "        var display = window.getComputedStyle(gd).display;\n",
       "        if (!display || display === 'none') {{\n",
       "            console.log([gd, 'removed!']);\n",
       "            Plotly.purge(gd);\n",
       "            observer.disconnect();\n",
       "        }}\n",
       "}});\n",
       "\n",
       "// Listen for the removal of the full notebook cells\n",
       "var notebookContainer = gd.closest('#notebook-container');\n",
       "if (notebookContainer) {{\n",
       "    x.observe(notebookContainer, {childList: true});\n",
       "}}\n",
       "\n",
       "// Listen for the clearing of the current output cell\n",
       "var outputEl = gd.closest('.output');\n",
       "if (outputEl) {{\n",
       "    x.observe(outputEl, {childList: true});\n",
       "}}\n",
       "\n",
       "                        })\n",
       "                };\n",
       "                });\n",
       "            </script>\n",
       "        </div>"
      ]
     },
     "metadata": {},
     "output_type": "display_data"
    }
   ],
   "source": [
    "text =\\\n",
    "    'Democratic Votes: ' + concentration_votes_2016['votes_dem_2016'].astype(str) + '<br>' + \\\n",
    "    'Total Votes: ' + concentration_votes_2016['total_votes_2016'].astype(str) + '<br>' + \\\n",
    "    'Population 2014: ' + concentration_votes_2016['population2014'].astype(str)\n",
    "\n",
    "fig3 = go.Figure(\n",
    "    data=go.Choropleth(\n",
    "        locations=concentration_votes_2016.index,\n",
    "        z = concentration_votes_2016['votes_dem_2016'].astype(int),\n",
    "        locationmode = 'USA-states',\n",
    "        colorscale = 'Blues',\n",
    "        colorbar_title = \"# of voters\",\n",
    "        text=text\n",
    "    )\n",
    ")\n",
    "\n",
    "fig3.update_layout(\n",
    "    title_text = '2016 Concentration of Democratic Votes By State',\n",
    "    geo_scope='usa',\n",
    ")\n",
    "\n",
    "fig3.show()"
   ]
  },
  {
   "cell_type": "code",
   "execution_count": null,
   "metadata": {},
   "outputs": [],
   "source": []
  },
  {
   "cell_type": "code",
   "execution_count": null,
   "metadata": {},
   "outputs": [],
   "source": []
  },
  {
   "cell_type": "code",
   "execution_count": null,
   "metadata": {},
   "outputs": [],
   "source": []
  }
 ],
 "metadata": {
  "kernelspec": {
   "display_name": "Python 3",
   "language": "python",
   "name": "python3"
  },
  "language_info": {
   "codemirror_mode": {
    "name": "ipython",
    "version": 3
   },
   "file_extension": ".py",
   "mimetype": "text/x-python",
   "name": "python",
   "nbconvert_exporter": "python",
   "pygments_lexer": "ipython3",
   "version": "3.7.4"
  }
 },
 "nbformat": 4,
 "nbformat_minor": 2
}

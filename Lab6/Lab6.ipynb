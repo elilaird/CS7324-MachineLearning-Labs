{
 "cells": [
  {
   "cell_type": "markdown",
   "metadata": {},
   "source": [
    "# Lab 6 CNNS"
   ]
  },
  {
   "cell_type": "markdown",
   "metadata": {},
   "source": [
    "### Eli Laird"
   ]
  },
  {
   "cell_type": "markdown",
   "metadata": {},
   "source": [
    "## Introduction"
   ]
  },
  {
   "cell_type": "markdown",
   "metadata": {},
   "source": [
    "It is estimated that 23,820 adults in the United States will be diagnosed with brain cancer in 2019. Brain and central nervous system cancer is the tenth leading cause of death for men and women in the United States. The 5-year survival rate men and women with brain cancer is estimated to be between 34 and 36 percent [1]. Early detection of brain tumors is critical in effectively treating patients with brain tumors. In this lab, we will investigate methods for detecting brain tumors using deep Convolutional Neural Networks and Magnetic Resonance Imaging (MRI)."
   ]
  },
  {
   "cell_type": "markdown",
   "metadata": {},
   "source": [
    "## Business Understanding\n",
    "\n",
    "The ability to detect and treat a low-grade glioma, today, before it progresses to Glioblastoma multiforme, i.e. brain cancer, can be the difference between life and death [2]. In the past decade, advancements in medical imaging have greatly improved the ability of doctors to diagnose brain tumors without exploratory surgery. Exploratory surgery is invasive and introduces many risks to the patient. Magnetic Resonance Imaging, MRI, and Computer-Assisted Tools, CAT scans, are some of the most popular medical imaging techniques used to diagnose brain tumors. These imaging techniques are also used in tumor segmentation and operation planning to provide precision and diagnosis constistency. Using Deep Learning to assist in the diagnosing process can improve the precision of a diagnosis by a considerable amount. In a study of brain tumor diagnosis by the Royal College of Physicians, 10% of patients, in a Scottish audit, had negative CT scans, i.e. a false negative claiming there were no signs of a brain tumor when in fact a brain tumor existed [3]. A negative scan can prove to be fatal as the undetected tumor grows to a higher grade state and will eventually spread to an unrecoverable state. Using Deep Learning to assist in brain tumor diagosis aims to alleviate this problem by combining the abilities of Convolutional Neural Networks and the domain knowledge of general practictioners to increase the reliability of diagnosing brain tumors. \n",
    "\n",
    "## Objective\n",
    "\n"
   ]
  },
  {
   "cell_type": "markdown",
   "metadata": {},
   "source": []
  },
  {
   "cell_type": "markdown",
   "metadata": {},
   "source": [
    "## References\n",
    "\n",
    "\n",
    "* [1] https://www.cancer.net/cancer-types/brain-tumor/statistics\n",
    "* [2] https://weillcornellbrainandspine.org/early-detection-can-be-key-surviving-brain-tumor\n",
    "* [3] https://jnnp.bmj.com/content/75/suppl_2/ii18"
   ]
  },
  {
   "cell_type": "code",
   "execution_count": null,
   "metadata": {},
   "outputs": [],
   "source": []
  }
 ],
 "metadata": {
  "kernelspec": {
   "display_name": "Python 3",
   "language": "python",
   "name": "python3"
  },
  "language_info": {
   "codemirror_mode": {
    "name": "ipython",
    "version": 3
   },
   "file_extension": ".py",
   "mimetype": "text/x-python",
   "name": "python",
   "nbconvert_exporter": "python",
   "pygments_lexer": "ipython3",
   "version": "3.6.7"
  }
 },
 "nbformat": 4,
 "nbformat_minor": 2
}

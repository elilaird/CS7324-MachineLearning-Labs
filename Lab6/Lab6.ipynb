{
 "cells": [
  {
   "cell_type": "markdown",
   "metadata": {},
   "source": [
    "# Lab 6 CNNS"
   ]
  },
  {
   "cell_type": "markdown",
   "metadata": {},
   "source": [
    "### Eli Laird"
   ]
  },
  {
   "cell_type": "markdown",
   "metadata": {},
   "source": [
    "## Introduction"
   ]
  },
  {
   "cell_type": "markdown",
   "metadata": {},
   "source": [
    "It is estimated that 23,820 adults in the United States will be diagnosed with brain cancer in 2019. Brain and central nervous system cancer is the tenth leading cause of death for men and women in the United States. The 5-year survival rate for men and women with brain cancer is estimated to be between 34 and 36 percent [1]. Early detection of brain tumors is critical in effectively treating patients with brain tumors. In this lab, we will investigate methods for detecting brain tumors using deep Convolutional Neural Networks and Magnetic Resonance Imaging (MRI)."
   ]
  },
  {
   "cell_type": "markdown",
   "metadata": {},
   "source": [
    "## Business Understanding\n",
    "\n",
    "\n",
    "##### **Motivation**\n",
    "\n",
    "The ability to detect and treat a low-grade glioma, today, before it progresses to Glioblastoma multiforme, i.e. brain cancer, can be the difference between life and death [2]. In the past decade, advancements in medical imaging have greatly improved the ability of doctors to diagnose brain tumors without performing exploratory surgery. Exploratory surgery is invasive and introduces many risks to the patient. Magnetic Resonance Imaging, MRI, and Computer-Assisted Tools, CAT scans, are some of the most popular medical imaging techniques used to diagnose brain tumors. These imaging techniques are also used in tumor segmentation and operation planning to provide precision and diagnosis consistency. Using Deep Learning to assist in the diagnosing process can improve the precision of a diagnosis by a considerable amount. In a study of brain tumor diagnosis by the Royal College of Physicians, 10% of patients, in a Scottish audit, had negative CT scans, i.e. a false negative claiming there were no signs of a brain tumor when in fact a brain tumor existed [3]. A negative scan can prove to be fatal as the undetected tumor grows to a higher grade state and will eventually spread to an unrecoverable state. Using Deep Learning to assist in brain tumor diagnosis aims to alleviate this problem by combining the abilities of Convolutional Neural Networks and the domain knowledge of general practictioners to increase the reliability of diagnosing brain tumors. \n",
    "\n",
    "##### **Solution**\n",
    "\n",
    "Convolutional Neural Networks (CNNs) work by applying layers of convolutions to an image to learn specific features of that image. These convolutions apply various filters over the image that correspond to these specific features. For example, a certain filter can be trained to highlight sharp edges in the image, other filters can be learned to focuss on faces or in our case brain tumors. Our Deep Learning solution to early brain tumor detection includes feeding MRI brain scans through different convolutional neural network architectures. Each of these architectures will learn the features of the images and will identify brain scans in which a tumor exists. This solution will allow doctors to make more reliable decisions when  diagnosing a patient with a brain tumor. This solution is not designed to diagnose patients without the assistance of the doctor, however. This solution is designed to provide the doctor with more precise information for the diagnosis and thus act as an aid in order to prevent the scenario where a tumor goes undetected.\n",
    "\n",
    "##### **Evaluation**\n",
    "\n",
    "As mentioned before, when diagnosing patients with brain cancer, we want to minimize the amount of undetected brain tumors. This corresponds to having a low false negative rate. Having a low false negative rate is important because a diagnosis that states a patient is cancer free when the patient actually has cancer, that patient will go untreated and the cancer has a higher chance of being fatal. We also do not want to diagnose healthy patients with cancer when they are cancer free because the patient will then go through immense amounts of stress and maybe even go through unnecessary treatment. While false positives are clearly not beneficial to the patient, in the end we consider a false negative more of a detrimental cost because it involves failing to save a life. For this reason we will use the recall metric in evaluating our CNN solution. The recall metric is the ratio of correctly predicted positive observations to all observations of the class. Recall places an emphasis on minimizing false negatives and thus proves to be the most appropriate metric to evaluate our solution. Recall is defined as:\n",
    "\n",
    "$$\n",
    "\\begin{align}\n",
    "Recall = \\frac{True Positives}{True Positives + False Negatives}\n",
    "\\end{align}\n",
    "$$\n",
    "\n"
   ]
  },
  {
   "cell_type": "markdown",
   "metadata": {},
   "source": [
    "## Data Preparation"
   ]
  },
  {
   "cell_type": "code",
   "execution_count": null,
   "metadata": {},
   "outputs": [],
   "source": []
  },
  {
   "cell_type": "code",
   "execution_count": null,
   "metadata": {},
   "outputs": [],
   "source": []
  },
  {
   "cell_type": "markdown",
   "metadata": {},
   "source": [
    "## References\n",
    "\n",
    "\n",
    "* [1] https://www.cancer.net/cancer-types/brain-tumor/statistics\n",
    "* [2] https://weillcornellbrainandspine.org/early-detection-can-be-key-surviving-brain-tumor\n",
    "* [3] https://jnnp.bmj.com/content/75/suppl_2/ii18"
   ]
  },
  {
   "cell_type": "code",
   "execution_count": null,
   "metadata": {},
   "outputs": [],
   "source": []
  }
 ],
 "metadata": {
  "kernelspec": {
   "display_name": "Python 3",
   "language": "python",
   "name": "python3"
  },
  "language_info": {
   "codemirror_mode": {
    "name": "ipython",
    "version": 3
   },
   "file_extension": ".py",
   "mimetype": "text/x-python",
   "name": "python",
   "nbconvert_exporter": "python",
   "pygments_lexer": "ipython3",
   "version": "3.6.7"
  }
 },
 "nbformat": 4,
 "nbformat_minor": 2
}

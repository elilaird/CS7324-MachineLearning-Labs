{
 "cells": [
  {
   "cell_type": "markdown",
   "metadata": {},
   "source": [
    "### In-Class Two-Layer Base"
   ]
  },
  {
   "cell_type": "code",
   "execution_count": 1,
   "metadata": {},
   "outputs": [],
   "source": [
    "# Example adapted from https://github.com/rasbt/python-machine-learning-book/blob/master/code/ch12/ch12.ipynb\n",
    "# Original Author: Sebastian Raschka\n",
    "\n",
    "# This is the optional book we use in the course, excellent intuitions and straightforward programming examples\n",
    "# please note, however, that this code has been manipulated to reflect our assumptions and notation.\n",
    "import numpy as np\n",
    "from scipy.special import expit\n",
    "import sys\n",
    "import pandas as pd\n",
    "\n",
    "# start with a simple base classifier, which can't be fit or predicted\n",
    "# it only has internal classes to be used by classes that will subclass it\n",
    "class TwoLayerPerceptronBase(object):\n",
    "    def __init__(self, n_hidden=30,\n",
    "                 C=0.0, epochs=500, eta=0.001, random_state=None):\n",
    "        np.random.seed(random_state)\n",
    "        self.n_hidden = n_hidden\n",
    "        self.l2_C = C\n",
    "        self.epochs = epochs\n",
    "        self.eta = eta\n",
    "        \n",
    "    @staticmethod\n",
    "    def _encode_labels(y):\n",
    "        \"\"\"Encode labels into one-hot representation\"\"\"\n",
    "        onehot = pd.get_dummies(y).values.T\n",
    "            \n",
    "        return onehot\n",
    "\n",
    "    def _initialize_weights(self):\n",
    "        \"\"\"Initialize weights with small random numbers.\"\"\"\n",
    "        W1_num_elems = (self.n_features_ + 1)*self.n_hidden\n",
    "        W1 = np.random.uniform(-1.0, 1.0, size=W1_num_elems)\n",
    "        W1 = W1.reshape(self.n_hidden, self.n_features_ + 1) # reshape to be W\n",
    "        \n",
    "        W2_num_elems = (self.n_hidden + 1)*self.n_output_\n",
    "        W2 = np.random.uniform(-1.0, 1.0, size=W2_num_elems)\n",
    "        W2 = W2.reshape(self.n_output_, self.n_hidden + 1)\n",
    "        return W1, W2\n",
    "    \n",
    "    @staticmethod\n",
    "    def _sigmoid(z):\n",
    "        \"\"\"Use scipy.special.expit to avoid overflow\"\"\"\n",
    "        # 1.0 / (1.0 + np.exp(-z))\n",
    "        return expit(z)\n",
    "    \n",
    "    @staticmethod\n",
    "    def _add_bias_unit(X, how='column'):\n",
    "        \"\"\"Add bias unit (column or row of 1s) to array at index 0\"\"\"\n",
    "        if how == 'column':\n",
    "            ones = np.ones((X.shape[0], 1))\n",
    "            X_new = np.hstack((ones, X))\n",
    "        elif how == 'row':\n",
    "            ones = np.ones((1, X.shape[1]))\n",
    "            X_new = np.vstack((ones, X))\n",
    "        return X_new\n",
    "    \n",
    "    @staticmethod\n",
    "    def _L2_reg(lambda_, W1, W2):\n",
    "        \"\"\"Compute L2-regularization cost\"\"\"\n",
    "        # only compute for non-bias terms\n",
    "        return (lambda_/2.0) * np.sqrt(np.mean(W1[:, 1:] ** 2) + np.mean(W2[:, 1:] ** 2))\n",
    "    \n",
    "    def _cost(self,A3,Y_enc,W1,W2):\n",
    "        '''Get the objective function value'''\n",
    "        cost = np.mean((Y_enc-A3)**2)\n",
    "        L2_term = self._L2_reg(self.l2_C, W1, W2)\n",
    "        return cost + L2_term\n",
    "    "
   ]
  },
  {
   "cell_type": "code",
   "execution_count": 2,
   "metadata": {},
   "outputs": [],
   "source": [
    "class TwoLayerPerceptron(TwoLayerPerceptronBase):\n",
    "    def _feedforward(self, X, W1, W2):\n",
    "        \"\"\"Compute feedforward step\n",
    "        -----------\n",
    "        X : Input layer with original features.\n",
    "        W1: Weight matrix for input layer -> hidden layer.\n",
    "        W2: Weight matrix for hidden layer -> output layer.\n",
    "        ----------\n",
    "        a1-a3 : activations into layer (or output layer)\n",
    "        z1-z2 : layer inputs \n",
    "\n",
    "        \"\"\"\n",
    "        A1 = self._add_bias_unit(X.T, how='row')\n",
    "        Z1 = W1 @ A1\n",
    "        A2 = self._sigmoid(Z1)\n",
    "        A2 = self._add_bias_unit(A2, how='row')\n",
    "        Z2 = W2 @ A2\n",
    "        A3 = self._sigmoid(Z2)\n",
    "        return A1, Z1, A2, Z2, A3\n",
    "    \n",
    "    def _get_gradient(self, A1, A2, A3, Z1, Z2, Y_enc, W1, W2):\n",
    "        \"\"\" Compute gradient step using backpropagation.\n",
    "        \"\"\"\n",
    "        # backpropagation\n",
    "        grad1 = np.zeros(W1.shape)\n",
    "        grad2 = np.zeros(W2.shape)\n",
    "        \n",
    "        # for each instance's activations \n",
    "        for (a1,a2,a3,y) in zip(A1.T,A2.T,A3.T,Y_enc.T):\n",
    "            dJ_dz2 = -2*(y - a3)*a3*(1-a3)\n",
    "            dJ_dz1 = dJ_dz2 @ W2 @ np.diag(a2*(1-a2))\n",
    "                         \n",
    "            grad2 += dJ_dz2[:,np.newaxis]  @ a2[np.newaxis,:]\n",
    "            grad1 += dJ_dz1[1:,np.newaxis] @ a1[np.newaxis,:] \n",
    "            # don't incorporate bias term in the z1 gradient \n",
    "            # (its added in a2 from another layer)\n",
    "            \n",
    "\n",
    "        # regularize weights that are not bias terms\n",
    "        grad1[:, 1:] += (W1[:, 1:] * self.l2_C)\n",
    "        grad2[:, 1:] += (W2[:, 1:] * self.l2_C)\n",
    "\n",
    "        return grad1, grad2\n",
    "    \n",
    "    def predict(self, X):\n",
    "        \"\"\"Predict class labels\"\"\"\n",
    "        _, _, _, _, A3 = self._feedforward(X, self.W1, self.W2)\n",
    "        y_pred = np.argmax(A3, axis=0)\n",
    "        return y_pred\n",
    "    \n",
    "    \n",
    "    def fit(self, X, y, print_progress=False):\n",
    "        \"\"\" Learn weights from training data.\"\"\"\n",
    "        \n",
    "        X_data, y_data = X.copy(), y.copy()\n",
    "        Y_enc = self._encode_labels(y)\n",
    "        \n",
    "        # init weights and setup matrices\n",
    "        self.n_features_ = X_data.shape[1]\n",
    "        self.n_output_ = Y_enc.shape[0]\n",
    "        self.W1, self.W2 = self._initialize_weights()\n",
    "\n",
    "        self.cost_ = []\n",
    "        for i in range(self.epochs):\n",
    "\n",
    "            if print_progress>0 and (i+1)%print_progress==0:\n",
    "                sys.stderr.write('\\rEpoch: %d/%d' % (i+1, self.epochs))\n",
    "                sys.stderr.flush()\n",
    "\n",
    "            # feedforward all instances\n",
    "            A1, Z1, A2, Z2, A3 = self._feedforward(X_data,self.W1,self.W2)\n",
    "            \n",
    "            cost = self._cost(A3,Y_enc,self.W1,self.W2)\n",
    "            self.cost_.append(cost)\n",
    "\n",
    "            # compute gradient via backpropagation\n",
    "            grad1, grad2 = self._get_gradient(A1=A1, A2=A2, A3=A3, Z1=Z1, Z2=Z2, Y_enc=Y_enc,\n",
    "                                              W1=self.W1, W2=self.W2)\n",
    "\n",
    "            self.W1 -= self.eta * grad1\n",
    "            self.W2 -= self.eta * grad2\n",
    "            \n",
    "\n",
    "        return self"
   ]
  },
  {
   "cell_type": "code",
   "execution_count": 3,
   "metadata": {},
   "outputs": [],
   "source": [
    "class TwoLayerPerceptronVectorized(TwoLayerPerceptron):\n",
    "    # just need a different gradient calculation\n",
    "    def _get_gradient(self, A1, A2, A3, Z1, Z2, Y_enc, W1, W2):\n",
    "        \"\"\" Compute gradient step using backpropagation.\n",
    "        \"\"\"\n",
    "        # vectorized backpropagation\n",
    "        V2 = -2*(Y_enc-A3)*A3*(1-A3)\n",
    "        V1 = A2*(1-A2)*(W2.T @ V2)\n",
    "        \n",
    "        grad2 = V2 @ A2.T\n",
    "        grad1 = V1[1:,:] @ A1.T\n",
    "        \n",
    "        \n",
    "        # regularize weights that are not bias terms\n",
    "        grad1[:, 1:] += W1[:, 1:] * self.l2_C\n",
    "        grad2[:, 1:] += W2[:, 1:] * self.l2_C\n",
    "\n",
    "        return grad1, grad2"
   ]
  },
  {
   "cell_type": "markdown",
   "metadata": {},
   "source": [
    "### Custom MLP Implementation"
   ]
  },
  {
   "cell_type": "code",
   "execution_count": 304,
   "metadata": {},
   "outputs": [],
   "source": [
    "class MultilayerPerceptron(TwoLayerPerceptronVectorized):\n",
    "    def __init__(self, nlayers=3, phi='sigmoid', cost='quadratic', **kwds):\n",
    "        \n",
    "        self.nlayers = nlayers\n",
    "        self.phi_func = phi\n",
    "        self.cost_func = cost\n",
    "        self.alpha_ = 1.6732632423543772848170429916717\n",
    "        self.lambda_ = 1.0507009873554804934193349852946\n",
    "        \n",
    "        super().__init__(**kwds)\n",
    "        \n",
    "        \n",
    "    @staticmethod\n",
    "    def _L2_reg(lambda_, weights):\n",
    "        \"\"\"Compute L2-regularization cost\"\"\"\n",
    "        # only compute for non-bias terms\n",
    "        sum_ = 0\n",
    "        for w in weights:\n",
    "            sum_ += np.mean(w[:, 1:] ** 2)\n",
    "        return (lambda_/2.0) * np.sqrt(sum_)\n",
    "    \n",
    "    @staticmethod\n",
    "    def _linear(x):\n",
    "        return x\n",
    "    \n",
    "    @staticmethod\n",
    "    def _relu(Z):\n",
    "        return np.maximum(0,Z.copy())\n",
    "    \n",
    "    @staticmethod\n",
    "    def _selu(Z):\n",
    "        return  Z * expit(Z)    \n",
    "    \n",
    "    def _initialize_weights(self):\n",
    "        \n",
    "        _weights = []\n",
    "        for i in range(self.nlayers-1):\n",
    "            \"\"\"Initialize weights with small random numbers.\"\"\"\n",
    "            if i == 0:              \n",
    "                W1 = np.random.randn(self.n_hidden, self.n_features_ + 1)\n",
    "                W1[:,1:] = W1[:,1:]/np.sqrt(self.n_features_+1) # don't saturate the neuron\n",
    "                W1[:,:1] = 0 # common practice to start with zero bias\n",
    "                _weights.append(W1)\n",
    "                continue\n",
    "            W1 = np.random.randn(self.n_hidden, _weights[i-1].shape[0] + 1)\n",
    "            W1[:,1:] = W1[:,1:]/np.sqrt(_weights[i-1].shape[0]+1) # don't saturate the neuron\n",
    "            W1[:,:1] = 0 # common practice to start with zero bias\n",
    "            _weights.append(W1)\n",
    "            \n",
    "    \n",
    "        '''initialize weights for output layer'''\n",
    "        W2 = np.random.randn(self.n_output_, self.n_hidden + 1)\n",
    "        W2[:,1:] = W2[:,1:]/np.sqrt(self.n_hidden + 1) # don't saturate the neuron\n",
    "        W2[:,:1] = 0 # common practice to start with zero bias\n",
    "        _weights.append(W2)\n",
    "        \n",
    "        return _weights\n",
    "\n",
    "        \n",
    "    def _feedforward(self, X, weights):\n",
    "        \n",
    "        _layers = [] # list of A matrices\n",
    "        \n",
    "        '''set phi function'''\n",
    "        if self.phi_func == 'sigmoid':\n",
    "            _phi = self._sigmoid\n",
    "        elif self.phi_func == 'linear':\n",
    "            _phi = self._linear\n",
    "        elif self.phi_func == 'relu':\n",
    "            _phi = self._relu\n",
    "        elif self.phi_func == 'selu':\n",
    "            _phi = self._selu\n",
    "            \n",
    "        \n",
    "        for i in range(self.nlayers+1):\n",
    "            #compute first layer\n",
    "            if i == 0:\n",
    "                A1 = self._add_bias_unit(X.T, how='row')\n",
    "                _layers.append(A1)\n",
    " \n",
    "                continue\n",
    "                \n",
    "            #compute ith layer\n",
    "            A_prev = _layers[i-1]\n",
    "            W_prev = weights[i-1]\n",
    "            \n",
    " \n",
    "            Z_prev = W_prev @ A_prev\n",
    "\n",
    "            A_i = _phi(Z_prev)\n",
    "  \n",
    "            \n",
    "            #add bias, if layer isn't output layer\n",
    "            if i < self.nlayers:\n",
    "                A_i = self._add_bias_unit(A_i, how='row')\n",
    "                \n",
    "            #use sigmoid for output layer if using relu\n",
    "            if self.phi_func == 'relu' and i == self.nlayers:\n",
    "                A_i = self._sigmoid(Z_prev)\n",
    "\n",
    "            #add layer to _layers\n",
    "            _layers.append(A_i)\n",
    "            \n",
    "            \n",
    "        return _layers\n",
    "    \n",
    "    def fit(self, X, y, print_progress=False):\n",
    "        \"\"\" Learn weights from training data.\"\"\"\n",
    "        \n",
    "        X_data, y_data = X.copy(), y.copy()\n",
    "        Y_enc = self._encode_labels(y)\n",
    "        # init weights and setup matrices\n",
    "        self.n_features_ = X_data.shape[1]\n",
    "        self.n_output_ = Y_enc.shape[0]                \n",
    "        self.weights = self._initialize_weights()\n",
    "        \n",
    "        self.grad_avgs = [np.zeros(self.epochs) for _ in range(len(self.weights))] \n",
    "        self.grad3 = np.zeros(self.epochs)\n",
    "        self.grad1 = np.zeros(self.epochs)\n",
    "        self.cost_ = []\n",
    "        for i in range(self.epochs):\n",
    "\n",
    "            if print_progress>0 and (i+1)%print_progress==0:\n",
    "                sys.stderr.write('\\rEpoch: %d/%d' % (i+1, self.epochs))\n",
    "                sys.stderr.flush()\n",
    "\n",
    "            # feedforward all instances\n",
    "            layers = self._feedforward(X_data, self.weights)\n",
    "            cost = self._cost(layers[self.nlayers],Y_enc, self.weights)\n",
    "            self.cost_.append(cost)\n",
    "\n",
    "            # compute gradient via backpropagation\n",
    "            grads = self._get_gradient(layers=layers, Y_enc=Y_enc, weights=self.weights)\n",
    "                \n",
    "            for k in range(len(grads)):\n",
    "                self.grad_avgs[k][i] = np.mean(grads[k])\n",
    "                \n",
    "            self.grad3[i] = np.mean(grads[2])\n",
    "            self.grad1[i] = np.mean(grads[0])\n",
    "            #update weights and save avg gradients\n",
    "            for j in range(len(self.weights)):\n",
    "                self.weights[j] -= self.eta * grads[j]\n",
    "            \n",
    "\n",
    "        return self\n",
    "    \n",
    "    def predict(self, X):\n",
    "        \"\"\"Predict class labels\"\"\"\n",
    "        layers= self._feedforward(X, self.weights)\n",
    "        y_pred = np.argmax(layers[self.nlayers], axis=0)\n",
    "        return y_pred\n",
    "    \n",
    "    def _cost(self, Af, Y_enc, weights):\n",
    "        '''Get the objective function value'''\n",
    "        \n",
    "        if self.cost_func == 'quadratic':            \n",
    "            cost = np.mean((Y_enc-Af)**2)\n",
    "            L2_term = self._L2_reg(self.l2_C, weights)\n",
    "            \n",
    "        elif self.cost_func == 'cross_entropy':\n",
    "            cost = -np.mean(np.nan_to_num((Y_enc*np.log(Af)+(1-Y_enc)*np.log(1-Af))))\n",
    "            L2_term = self._L2_reg(self.l2_C, weights)\n",
    "            \n",
    "        return cost + L2_term\n",
    "\n",
    "    \n",
    "    def _get_gradient(self, layers, Y_enc, weights):\n",
    "        \"\"\" Compute gradient step using backpropagation for each layer\n",
    "        \"\"\"\n",
    "        _V = []\n",
    "        _grads = []\n",
    "        \n",
    "        '''calculate sensitivity at final layer'''\n",
    "        #quadratic cost\n",
    "        if self.cost_func == 'quadratic':\n",
    "            Vf = -2 * (Y_enc-layers[self.nlayers])*layers[self.nlayers]*(1-layers[self.nlayers])\n",
    "            \n",
    "        #cross entropy cost   \n",
    "        elif self.cost_func == 'cross_entropy':\n",
    "            Vf = (layers[self.nlayers] - Y_enc) \n",
    "            \n",
    "        #calculate gradient for wrt last layer\n",
    "        grad_f = Vf @ layers[self.nlayers-1].T\n",
    "\n",
    "        #regularize gradient that are not bias\n",
    "        grad_f[:,1:] += weights[self.nlayers-1][:, 1:] * self.l2_C\n",
    "        \n",
    "        _V.append(Vf)\n",
    "        _grads.append(grad_f)\n",
    "        \n",
    "        '''backpropagate through L-1 layers to calculate sensitivities''' \n",
    "        for i in range(self.nlayers-2,-1,-1):\n",
    "   \n",
    "            A_i = layers[i+1]  #A_i+1\n",
    "            W_i = weights[i+1] #W_i+1\n",
    "            V_i2 = _V[0]       #uses sensitivity of layer (i+1)\n",
    "            \n",
    "            if self.phi_func == 'relu':\n",
    "                V_i = (W_i.T[1:,:] @ V_i2) \n",
    "                V_i[A_i[1:,:]<=0] = 0\n",
    "          \n",
    "            else:   \n",
    "                #calculate sensitivity for layer i\n",
    "                V_i = A_i[1:,:]*(1-A_i[1:,:])*(W_i.T[1:,:] @ V_i2)\n",
    "\n",
    "            #insert sensitivity for layer i at front of list\n",
    "            _V.insert(0,V_i)\n",
    "            \n",
    "            #calculate gradient for layer i\n",
    "            grad_i = V_i @ layers[i].T\n",
    "            \n",
    "            #regularize weights that are not bias terms\n",
    "            grad_i += weights[i]\n",
    "            \n",
    "            _grads.insert(0,grad_i)\n",
    "        \n",
    "        return _grads\n",
    "    "
   ]
  },
  {
   "cell_type": "markdown",
   "metadata": {},
   "source": [
    "### Testing \n"
   ]
  },
  {
   "cell_type": "code",
   "execution_count": 5,
   "metadata": {},
   "outputs": [
    {
     "name": "stdout",
     "output_type": "stream",
     "text": [
      "(1797, 64)\n",
      "(1797,)\n",
      "-0.5 0.5\n",
      "[0 1 2 3 4 5 6 7 8 9]\n"
     ]
    }
   ],
   "source": [
    "from sklearn.datasets import load_digits\n",
    "from sklearn.metrics import accuracy_score\n",
    "from sklearn.preprocessing import StandardScaler\n",
    "\n",
    "ds = load_digits()\n",
    "X = ds.data/16.0-0.5\n",
    "y = ds.target\n",
    "\n",
    "print(X.shape)\n",
    "print(y.shape)\n",
    "print(np.min(X),np.max(X))\n",
    "print(np.unique(y))"
   ]
  },
  {
   "cell_type": "code",
   "execution_count": 6,
   "metadata": {},
   "outputs": [
    {
     "data": {
      "image/png": "[encoded data removed]",
      "text/plain": [
       "<Figure size 432x288 with 10 Axes>"
      ]
     },
     "metadata": {},
     "output_type": "display_data"
    }
   ],
   "source": [
    "\n",
    "import matplotlib.pyplot as plt\n",
    "%matplotlib inline\n",
    "\n",
    "fig, ax = plt.subplots(nrows=2, ncols=5, sharex=True, sharey=True,)\n",
    "ax = ax.flatten()\n",
    "for i in range(10):\n",
    "    img = X[y == i][0].reshape(8, 8)\n",
    "    ax[i].imshow(img, cmap='Greys', interpolation='nearest')\n",
    "\n",
    "ax[0].set_xticks([])\n",
    "ax[0].set_yticks([])\n",
    "plt.tight_layout()\n",
    "plt.show()"
   ]
  },
  {
   "cell_type": "code",
   "execution_count": 7,
   "metadata": {},
   "outputs": [
    {
     "name": "stdout",
     "output_type": "stream",
     "text": [
      "(1437, 64)\n",
      "(1437,)\n",
      "(360, 64)\n",
      "(360,)\n"
     ]
    }
   ],
   "source": [
    "from sklearn.model_selection import train_test_split\n",
    "\n",
    "X_train, X_test, y_train, y_test = train_test_split(X,y,test_size = 0.2)\n",
    "print(X_train.shape)\n",
    "print(y_train.shape)\n",
    "print(X_test.shape)\n",
    "print(y_test.shape)"
   ]
  },
  {
   "cell_type": "code",
   "execution_count": 318,
   "metadata": {},
   "outputs": [
    {
     "data": {
      "text/plain": [
       "array([[-0.5   , -0.5   , -0.0625, ..., -0.1875, -0.5   , -0.5   ],\n",
       "       [-0.5   , -0.5   ,  0.    , ..., -0.5   , -0.5   , -0.5   ],\n",
       "       [-0.5   , -0.5   , -0.25  , ...,  0.25  , -0.4375, -0.5   ],\n",
       "       ...,\n",
       "       [-0.5   , -0.5   , -0.0625, ..., -0.5   , -0.5   , -0.5   ],\n",
       "       [-0.5   , -0.5   , -0.1875, ...,  0.1875, -0.3125, -0.5   ],\n",
       "       [-0.5   , -0.5   , -0.3125, ...,  0.    , -0.375 , -0.5   ]])"
      ]
     },
     "execution_count": 318,
     "metadata": {},
     "output_type": "execute_result"
    }
   ],
   "source": [
    "X_train"
   ]
  },
  {
   "cell_type": "code",
   "execution_count": 258,
   "metadata": {
    "scrolled": true
   },
   "outputs": [
    {
     "name": "stderr",
     "output_type": "stream",
     "text": [
      "Epoch: 1/300/Users/eli/anaconda3/envs/mlenv/lib/python3.7/site-packages/ipykernel_launcher.py:158: RuntimeWarning: invalid value encountered in log\n",
      "Epoch: 300/300"
     ]
    },
    {
     "name": "stdout",
     "output_type": "stream",
     "text": [
      "Accuracy Score: 0.7944444444444444\n"
     ]
    }
   ],
   "source": [
    "from sklearn.metrics import f1_score\n",
    "params = dict(n_hidden=80, \n",
    "              C=0.1, # tradeoff L2 regularizer\n",
    "              epochs=300, # iterations\n",
    "              eta= 0.0001,  # learning rate\n",
    "              random_state=1,\n",
    "              nlayers=4,\n",
    "              phi='selu',\n",
    "              cost='cross_entropy',\n",
    "              )\n",
    "\n",
    "\n",
    "mlp = MultilayerPerceptron(**params)\n",
    "mlp.fit(X_train, y_train, print_progress=True)\n",
    "yhat = mlp.predict(X_test)\n",
    "print(\"Accuracy Score:\", accuracy_score(y_test,yhat))\n",
    "#print(\"Macro F1 Score:\", f1_score(y_test,yhat, average='macro', labels=[1,2,3,4,5,6,7,8,9]))"
   ]
  },
  {
   "cell_type": "code",
   "execution_count": 152,
   "metadata": {},
   "outputs": [
    {
     "data": {
      "text/plain": [
       "array([0, 2, 4, 6, 7])"
      ]
     },
     "execution_count": 152,
     "metadata": {},
     "output_type": "execute_result"
    }
   ],
   "source": [
    "np.unique(y_test)\n",
    "np.unique(yhat)"
   ]
  },
  {
   "cell_type": "markdown",
   "metadata": {},
   "source": [
    "### Hyper-Parameter Tuning"
   ]
  },
  {
   "cell_type": "code",
   "execution_count": 284,
   "metadata": {},
   "outputs": [
    {
     "name": "stdout",
     "output_type": "stream",
     "text": [
      "288\n"
     ]
    }
   ],
   "source": [
    "base_params = dict( \n",
    "              C=0.1, # tradeoff L2 regularizer\n",
    "              eta=0.001,  # learning rate\n",
    "              random_state=1,\n",
    "            )\n",
    "\n",
    "\n",
    "phi_list = ['sigmoid','linear']\n",
    "cost_list = ['quadratic','cross_entropy']\n",
    "epochs_list = [200, 400, 500]\n",
    "n_layers_list = [2,3,4,5]\n",
    "n_neurons_list = [30,50,80]\n",
    "etas = [0.001, 1e-5]\n",
    "\n",
    "\n",
    "\n",
    "param_list = []\n",
    "for epoch in epochs_list:\n",
    "    for phi in phi_list:\n",
    "        for cost in cost_list:\n",
    "            for n_layer in n_layers_list:\n",
    "                for n_neurons in n_neurons_list:\n",
    "                    for eta in etas:\n",
    "                        params = base_params.copy()\n",
    "                        params['eta'] = eta\n",
    "                        params['phi'] = phi\n",
    "                        params['cost'] = cost\n",
    "                        params['epochs'] = epoch\n",
    "                        params['nlayers'] = n_layer\n",
    "                        params['n_hidden'] = n_neurons\n",
    "                        param_list.append(params)\n",
    "print(len(param_list))\n"
   ]
  },
  {
   "cell_type": "code",
   "execution_count": 216,
   "metadata": {},
   "outputs": [
    {
     "name": "stdout",
     "output_type": "stream",
     "text": [
      "Activation: sigmoid | Objective Function: quadratic | N_layers: 2 | N_hidden: 30 | Eta: 0.001 | Epochs: 200 | F1_Score: 0.875\n",
      "Activation: sigmoid | Objective Function: quadratic | N_layers: 2 | N_hidden: 30 | Eta: 1e-05 | Epochs: 200 | F1_Score: 0.16666666666666666\n",
      "Activation: sigmoid | Objective Function: quadratic | N_layers: 2 | N_hidden: 50 | Eta: 0.001 | Epochs: 200 | F1_Score: 0.8972222222222223\n",
      "Activation: sigmoid | Objective Function: quadratic | N_layers: 2 | N_hidden: 50 | Eta: 1e-05 | Epochs: 200 | F1_Score: 0.2111111111111111\n",
      "Activation: sigmoid | Objective Function: quadratic | N_layers: 2 | N_hidden: 80 | Eta: 0.001 | Epochs: 200 | F1_Score: 0.9027777777777778\n",
      "Activation: sigmoid | Objective Function: quadratic | N_layers: 2 | N_hidden: 80 | Eta: 1e-05 | Epochs: 200 | F1_Score: 0.2222222222222222\n",
      "Activation: sigmoid | Objective Function: quadratic | N_layers: 3 | N_hidden: 30 | Eta: 0.001 | Epochs: 200 | F1_Score: 0.33611111111111114\n",
      "Activation: sigmoid | Objective Function: quadratic | N_layers: 3 | N_hidden: 30 | Eta: 1e-05 | Epochs: 200 | F1_Score: 0.06111111111111111\n",
      "Activation: sigmoid | Objective Function: quadratic | N_layers: 3 | N_hidden: 50 | Eta: 0.001 | Epochs: 200 | F1_Score: 0.42777777777777776\n",
      "Activation: sigmoid | Objective Function: quadratic | N_layers: 3 | N_hidden: 50 | Eta: 1e-05 | Epochs: 200 | F1_Score: 0.06944444444444445\n",
      "Activation: sigmoid | Objective Function: quadratic | N_layers: 3 | N_hidden: 80 | Eta: 0.001 | Epochs: 200 | F1_Score: 0.24722222222222223\n",
      "Activation: sigmoid | Objective Function: quadratic | N_layers: 3 | N_hidden: 80 | Eta: 1e-05 | Epochs: 200 | F1_Score: 0.06666666666666667\n",
      "Activation: sigmoid | Objective Function: quadratic | N_layers: 4 | N_hidden: 30 | Eta: 0.001 | Epochs: 200 | F1_Score: 0.06944444444444445\n",
      "Activation: sigmoid | Objective Function: quadratic | N_layers: 4 | N_hidden: 30 | Eta: 1e-05 | Epochs: 200 | F1_Score: 0.10277777777777777\n",
      "Activation: sigmoid | Objective Function: quadratic | N_layers: 4 | N_hidden: 50 | Eta: 0.001 | Epochs: 200 | F1_Score: 0.06944444444444445\n",
      "Activation: sigmoid | Objective Function: quadratic | N_layers: 4 | N_hidden: 50 | Eta: 1e-05 | Epochs: 200 | F1_Score: 0.06944444444444445\n",
      "Activation: sigmoid | Objective Function: quadratic | N_layers: 4 | N_hidden: 80 | Eta: 0.001 | Epochs: 200 | F1_Score: 0.06944444444444445\n",
      "Activation: sigmoid | Objective Function: quadratic | N_layers: 4 | N_hidden: 80 | Eta: 1e-05 | Epochs: 200 | F1_Score: 0.06944444444444445\n",
      "Activation: sigmoid | Objective Function: quadratic | N_layers: 5 | N_hidden: 30 | Eta: 0.001 | Epochs: 200 | F1_Score: 0.06944444444444445\n",
      "Activation: sigmoid | Objective Function: quadratic | N_layers: 5 | N_hidden: 30 | Eta: 1e-05 | Epochs: 200 | F1_Score: 0.08333333333333333\n",
      "Activation: sigmoid | Objective Function: quadratic | N_layers: 5 | N_hidden: 50 | Eta: 0.001 | Epochs: 200 | F1_Score: 0.06944444444444445\n",
      "Activation: sigmoid | Objective Function: quadratic | N_layers: 5 | N_hidden: 50 | Eta: 1e-05 | Epochs: 200 | F1_Score: 0.08333333333333333\n",
      "Activation: sigmoid | Objective Function: quadratic | N_layers: 5 | N_hidden: 80 | Eta: 0.001 | Epochs: 200 | F1_Score: 0.06944444444444445\n",
      "Activation: sigmoid | Objective Function: quadratic | N_layers: 5 | N_hidden: 80 | Eta: 1e-05 | Epochs: 200 | F1_Score: 0.06944444444444445\n",
      "Activation: sigmoid | Objective Function: cross_entropy | N_layers: 2 | N_hidden: 30 | Eta: 0.001 | Epochs: 200 | F1_Score: 0.9472222222222222\n",
      "Activation: sigmoid | Objective Function: cross_entropy | N_layers: 2 | N_hidden: 30 | Eta: 1e-05 | Epochs: 200 | F1_Score: 0.19722222222222222\n",
      "Activation: sigmoid | Objective Function: cross_entropy | N_layers: 2 | N_hidden: 50 | Eta: 0.001 | Epochs: 200 | F1_Score: 0.95\n",
      "Activation: sigmoid | Objective Function: cross_entropy | N_layers: 2 | N_hidden: 50 | Eta: 1e-05 | Epochs: 200 | F1_Score: 0.2833333333333333\n",
      "Activation: sigmoid | Objective Function: cross_entropy | N_layers: 2 | N_hidden: 80 | Eta: 0.001 | Epochs: 200 | F1_Score: 0.9416666666666667\n",
      "Activation: sigmoid | Objective Function: cross_entropy | N_layers: 2 | N_hidden: 80 | Eta: 1e-05 | Epochs: 200 | F1_Score: 0.3472222222222222\n",
      "Activation: sigmoid | Objective Function: cross_entropy | N_layers: 3 | N_hidden: 30 | Eta: 0.001 | Epochs: 200 | F1_Score: 0.9333333333333333\n",
      "Activation: sigmoid | Objective Function: cross_entropy | N_layers: 3 | N_hidden: 30 | Eta: 1e-05 | Epochs: 200 | F1_Score: 0.06944444444444445\n",
      "Activation: sigmoid | Objective Function: cross_entropy | N_layers: 3 | N_hidden: 50 | Eta: 0.001 | Epochs: 200 | F1_Score: 0.9361111111111111\n",
      "Activation: sigmoid | Objective Function: cross_entropy | N_layers: 3 | N_hidden: 50 | Eta: 1e-05 | Epochs: 200 | F1_Score: 0.06944444444444445\n",
      "Activation: sigmoid | Objective Function: cross_entropy | N_layers: 3 | N_hidden: 80 | Eta: 0.001 | Epochs: 200 | F1_Score: 0.7888888888888889\n",
      "Activation: sigmoid | Objective Function: cross_entropy | N_layers: 3 | N_hidden: 80 | Eta: 1e-05 | Epochs: 200 | F1_Score: 0.06944444444444445\n",
      "Activation: sigmoid | Objective Function: cross_entropy | N_layers: 4 | N_hidden: 30 | Eta: 0.001 | Epochs: 200 | F1_Score: 0.36944444444444446\n",
      "Activation: sigmoid | Objective Function: cross_entropy | N_layers: 4 | N_hidden: 30 | Eta: 1e-05 | Epochs: 200 | F1_Score: 0.06944444444444445\n",
      "Activation: sigmoid | Objective Function: cross_entropy | N_layers: 4 | N_hidden: 50 | Eta: 0.001 | Epochs: 200 | F1_Score: 0.08055555555555556\n",
      "Activation: sigmoid | Objective Function: cross_entropy | N_layers: 4 | N_hidden: 50 | Eta: 1e-05 | Epochs: 200 | F1_Score: 0.06944444444444445\n",
      "Activation: sigmoid | Objective Function: cross_entropy | N_layers: 4 | N_hidden: 80 | Eta: 0.001 | Epochs: 200 | F1_Score: 0.06944444444444445\n",
      "Activation: sigmoid | Objective Function: cross_entropy | N_layers: 4 | N_hidden: 80 | Eta: 1e-05 | Epochs: 200 | F1_Score: 0.06944444444444445\n",
      "Activation: sigmoid | Objective Function: cross_entropy | N_layers: 5 | N_hidden: 30 | Eta: 0.001 | Epochs: 200 | F1_Score: 0.06944444444444445\n",
      "Activation: sigmoid | Objective Function: cross_entropy | N_layers: 5 | N_hidden: 30 | Eta: 1e-05 | Epochs: 200 | F1_Score: 0.06944444444444445\n",
      "Activation: sigmoid | Objective Function: cross_entropy | N_layers: 5 | N_hidden: 50 | Eta: 0.001 | Epochs: 200 | F1_Score: 0.06944444444444445\n",
      "Activation: sigmoid | Objective Function: cross_entropy | N_layers: 5 | N_hidden: 50 | Eta: 1e-05 | Epochs: 200 | F1_Score: 0.06944444444444445\n",
      "Activation: sigmoid | Objective Function: cross_entropy | N_layers: 5 | N_hidden: 80 | Eta: 0.001 | Epochs: 200 | F1_Score: 0.06944444444444445\n",
      "Activation: sigmoid | Objective Function: cross_entropy | N_layers: 5 | N_hidden: 80 | Eta: 1e-05 | Epochs: 200 | F1_Score: 0.06944444444444445\n",
      "Activation: linear | Objective Function: quadratic | N_layers: 2 | N_hidden: 30 | Eta: 0.001 | Epochs: 200 | F1_Score: 0.08333333333333333\n"
     ]
    },
    {
     "name": "stderr",
     "output_type": "stream",
     "text": [
      "/Users/eli/anaconda3/envs/mlenv/lib/python3.7/site-packages/ipykernel_launcher.py:93: RuntimeWarning: overflow encountered in matmul\n",
      "/Users/eli/anaconda3/envs/mlenv/lib/python3.7/site-packages/ipykernel_launcher.py:19: RuntimeWarning: overflow encountered in square\n",
      "/Users/eli/anaconda3/envs/mlenv/lib/python3.7/site-packages/ipykernel_launcher.py:180: RuntimeWarning: invalid value encountered in matmul\n",
      "/Users/eli/anaconda3/envs/mlenv/lib/python3.7/site-packages/ipykernel_launcher.py:205: RuntimeWarning: overflow encountered in multiply\n",
      "/Users/eli/anaconda3/envs/mlenv/lib/python3.7/site-packages/ipykernel_launcher.py:211: RuntimeWarning: invalid value encountered in matmul\n"
     ]
    },
    {
     "name": "stdout",
     "output_type": "stream",
     "text": [
      "Activation: linear | Objective Function: quadratic | N_layers: 2 | N_hidden: 30 | Eta: 1e-05 | Epochs: 200 | F1_Score: 0.08333333333333333\n"
     ]
    }
   ],
   "source": [
    "#evaluate model on each param combination\n",
    "cost_param = []\n",
    "for params in param_list[:50]:\n",
    "    mlp = MultilayerPerceptron(**params)\n",
    "    mlp.fit(X_train, y_train)\n",
    "    yhat = mlp.predict(X_test)\n",
    "    cost = accuracy_score(y_test,yhat)#f1_score(y_test, yhat, average='macro', labels=[1,2,3,4,5,6,7,8,9])\n",
    "    cost_param.append((cost, params))\n",
    "    print(\"Activation: {} | Objective Function: {} | N_layers: {} | N_hidden: {} | Eta: {} | Epochs: {} | F1_Score: {}\".format(\\\n",
    "                                                                                                params['phi'],\\\n",
    "                                                                                                params['cost'],\\\n",
    "                                                                                                params['nlayers'],\\\n",
    "                                                                                                params['n_hidden'],\\\n",
    "                                                                                                params['eta'],\\\n",
    "                                                                                                params['epochs'],\\\n",
    "                                                                                                cost\n",
    "                                                                                                ))\n",
    "    \n",
    "    \n",
    "    \n",
    "    "
   ]
  },
  {
   "cell_type": "markdown",
   "metadata": {},
   "source": [
    "#### Top Performing Parameters\n",
    "\n"
   ]
  },
  {
   "cell_type": "code",
   "execution_count": 193,
   "metadata": {
    "scrolled": true
   },
   "outputs": [
    {
     "name": "stdout",
     "output_type": "stream",
     "text": [
      "1. Activation: sigmoid | Objective Function: cross_entropy | N_layers: 3 | N_hidden: 50 | Epochs: 200 | F1_Score: 0.930038320711059\n",
      "2. Activation: sigmoid | Objective Function: cross_entropy | N_layers: 3 | N_hidden: 80 | Epochs: 200 | F1_Score: 0.7526917195662501\n",
      "3. Activation: sigmoid | Objective Function: cross_entropy | N_layers: 4 | N_hidden: 30 | Epochs: 200 | F1_Score: 0.32670738588661125\n",
      "4. Activation: sigmoid | Objective Function: cross_entropy | N_layers: 4 | N_hidden: 50 | Epochs: 200 | F1_Score: 0.033905182142087306\n",
      "5. Activation: sigmoid | Objective Function: cross_entropy | N_layers: 4 | N_hidden: 80 | Epochs: 200 | F1_Score: 0.014430014430014432\n",
      "6. Activation: sigmoid | Objective Function: cross_entropy | N_layers: 5 | N_hidden: 30 | Epochs: 200 | F1_Score: 0.014430014430014432\n"
     ]
    }
   ],
   "source": [
    "\n",
    "cost_param.sort(key=lambda x: x[0], reverse=True)\n",
    "\n",
    "for i,key in enumerate(cost_param[:6]):\n",
    "    print(\"{}. Activation: {} | Objective Function: {} | N_layers: {} | N_hidden: {} | Epochs: {} | F1_Score: {}\".format(\\\n",
    "                                                                                                i+1,\n",
    "                                                                                                key[1]['phi'],\\\n",
    "                                                                                                key[1]['cost'],\\\n",
    "                                                                                                key[1]['nlayers'],\\\n",
    "                                                                                                key[1]['n_hidden'],\\\n",
    "                                                                                                key[1]['epochs'],\\\n",
    "                                                                                                key[0]\n",
    "                                                                                                ))"
   ]
  },
  {
   "cell_type": "markdown",
   "metadata": {},
   "source": [
    "### "
   ]
  },
  {
   "cell_type": "code",
   "execution_count": null,
   "metadata": {},
   "outputs": [],
   "source": []
  },
  {
   "cell_type": "markdown",
   "metadata": {},
   "source": [
    "## Visualizing Gradients"
   ]
  },
  {
   "cell_type": "code",
   "execution_count": 317,
   "metadata": {},
   "outputs": [
    {
     "name": "stderr",
     "output_type": "stream",
     "text": [
      "Epoch: 300/300"
     ]
    },
    {
     "name": "stdout",
     "output_type": "stream",
     "text": [
      "Accuracy Score: 0.9416666666666667\n"
     ]
    }
   ],
   "source": [
    "params = dict(n_hidden=50, \n",
    "              C=0.1, # tradeoff L2 regularizer\n",
    "              epochs=300, # iterations\n",
    "              eta= 0.001,  # learning rate\n",
    "              random_state=1,\n",
    "              nlayers=3,\n",
    "              phi='sigmoid',\n",
    "              cost='cross_entropy',\n",
    "              )\n",
    "\n",
    "\n",
    "mlp = MultilayerPerceptron(**params)\n",
    "mlp.fit(X_train, y_train, print_progress=True)\n",
    "yhat = mlp.predict(X_test)\n",
    "print(\"Accuracy Score:\", accuracy_score(y_test,yhat))"
   ]
  },
  {
   "cell_type": "code",
   "execution_count": 316,
   "metadata": {},
   "outputs": [
    {
     "data": {
      "image/png": "[encoded data removed]",
      "text/plain": [
       "<Figure size 432x288 with 1 Axes>"
      ]
     },
     "metadata": {
      "needs_background": "light"
     },
     "output_type": "display_data"
    }
   ],
   "source": [
    "ax = plt.subplot(1,1,1)\n",
    "for i,grad in enumerate(mlp.grad_avgs):\n",
    "    w = 'w{}'.format(i)\n",
    "    plt.plot(abs(grad[10:]), label=w)\n",
    "plt.legend()\n",
    "plt.ylabel('Average gradient magnitude')\n",
    "plt.xlabel('Iteration')\n",
    "plt.show()"
   ]
  },
  {
   "cell_type": "code",
   "execution_count": null,
   "metadata": {},
   "outputs": [],
   "source": []
  }
 ],
 "metadata": {
  "kernelspec": {
   "display_name": "Python 3",
   "language": "python",
   "name": "python3"
  },
  "language_info": {
   "codemirror_mode": {
    "name": "ipython",
    "version": 3
   },
   "file_extension": ".py",
   "mimetype": "text/x-python",
   "name": "python",
   "nbconvert_exporter": "python",
   "pygments_lexer": "ipython3",
   "version": "3.7.4"
  }
 },
 "nbformat": 4,
 "nbformat_minor": 2
}
